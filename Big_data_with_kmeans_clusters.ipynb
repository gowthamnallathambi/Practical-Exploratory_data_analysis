{
 "cells": [
  {
   "cell_type": "markdown",
   "metadata": {
    "id": "MbfOAphaK20a"
   },
   "source": [
    "# Exploratory Data analysis"
   ]
  },
  {
   "cell_type": "code",
   "execution_count": 1,
   "metadata": {
    "executionInfo": {
     "elapsed": 910,
     "status": "ok",
     "timestamp": 1616652722467,
     "user": {
      "displayName": "Ajit luthais",
      "photoUrl": "https://lh3.googleusercontent.com/a-/AOh14GitOLbY4m8m102_e2e-5q3QGzZ8wBNU6ARLYZSAyQ=s64",
      "userId": "05903121354884129241"
     },
     "user_tz": 0
    },
    "id": "Zs5Z9vk9oNDA"
   },
   "outputs": [],
   "source": [
    "#Import pandas packages \n",
    "import pandas as pd"
   ]
  },
  {
   "cell_type": "code",
   "execution_count": 2,
   "metadata": {
    "executionInfo": {
     "elapsed": 1332,
     "status": "ok",
     "timestamp": 1616652777429,
     "user": {
      "displayName": "Ajit luthais",
      "photoUrl": "https://lh3.googleusercontent.com/a-/AOh14GitOLbY4m8m102_e2e-5q3QGzZ8wBNU6ARLYZSAyQ=s64",
      "userId": "05903121354884129241"
     },
     "user_tz": 0
    },
    "id": "q23watCGoNDK"
   },
   "outputs": [],
   "source": [
    "#reading the CSV file\n",
    "dataset=open('/Users/gowthamnallathambi/Downloads/oscars-demographics.csv',errors='replace')\n",
    "df = pd.read_csv(dataset)"
   ]
  },
  {
   "cell_type": "code",
   "execution_count": 3,
   "metadata": {
    "colab": {
     "base_uri": "https://localhost:8080/",
     "height": 668
    },
    "executionInfo": {
     "elapsed": 488,
     "status": "ok",
     "timestamp": 1616361252413,
     "user": {
      "displayName": "Ajit luthais",
      "photoUrl": "https://lh3.googleusercontent.com/a-/AOh14GitOLbY4m8m102_e2e-5q3QGzZ8wBNU6ARLYZSAyQ=s64",
      "userId": "05903121354884129241"
     },
     "user_tz": 0
    },
    "id": "kNKCH-9aoNDK",
    "outputId": "ac474839-b447-45b4-f086-dbc50af02690"
   },
   "outputs": [
    {
     "data": {
      "text/html": [
       "<div>\n",
       "<style scoped>\n",
       "    .dataframe tbody tr th:only-of-type {\n",
       "        vertical-align: middle;\n",
       "    }\n",
       "\n",
       "    .dataframe tbody tr th {\n",
       "        vertical-align: top;\n",
       "    }\n",
       "\n",
       "    .dataframe thead th {\n",
       "        text-align: right;\n",
       "    }\n",
       "</style>\n",
       "<table border=\"1\" class=\"dataframe\">\n",
       "  <thead>\n",
       "    <tr style=\"text-align: right;\">\n",
       "      <th></th>\n",
       "      <th>_unit_id</th>\n",
       "      <th>_golden</th>\n",
       "      <th>_unit_state</th>\n",
       "      <th>_trusted_judgments</th>\n",
       "      <th>_last_judgment_at</th>\n",
       "      <th>birthplace</th>\n",
       "      <th>birthplace:confidence</th>\n",
       "      <th>date_of_birth</th>\n",
       "      <th>date_of_birth:confidence</th>\n",
       "      <th>race_ethnicity</th>\n",
       "      <th>...</th>\n",
       "      <th>award</th>\n",
       "      <th>biourl</th>\n",
       "      <th>birthplace_gold</th>\n",
       "      <th>date_of_birth_gold</th>\n",
       "      <th>movie</th>\n",
       "      <th>person</th>\n",
       "      <th>race_ethnicity_gold</th>\n",
       "      <th>religion_gold</th>\n",
       "      <th>sexual_orientation_gold</th>\n",
       "      <th>year_of_award_gold</th>\n",
       "    </tr>\n",
       "  </thead>\n",
       "  <tbody>\n",
       "    <tr>\n",
       "      <th>0</th>\n",
       "      <td>670454353</td>\n",
       "      <td>False</td>\n",
       "      <td>finalized</td>\n",
       "      <td>3</td>\n",
       "      <td>02/10/2015 03:45</td>\n",
       "      <td>Chisinau, Moldova</td>\n",
       "      <td>1.0</td>\n",
       "      <td>30-Sep-1895</td>\n",
       "      <td>1.0</td>\n",
       "      <td>White</td>\n",
       "      <td>...</td>\n",
       "      <td>Best Director</td>\n",
       "      <td>http://www.nndb.com/people/320/000043191/</td>\n",
       "      <td>NaN</td>\n",
       "      <td>NaN</td>\n",
       "      <td>Two Arabian Knights</td>\n",
       "      <td>Lewis Milestone</td>\n",
       "      <td>NaN</td>\n",
       "      <td>NaN</td>\n",
       "      <td>NaN</td>\n",
       "      <td>NaN</td>\n",
       "    </tr>\n",
       "    <tr>\n",
       "      <th>1</th>\n",
       "      <td>670454354</td>\n",
       "      <td>False</td>\n",
       "      <td>finalized</td>\n",
       "      <td>3</td>\n",
       "      <td>02/10/2015 02:03</td>\n",
       "      <td>Glasgow, Scotland</td>\n",
       "      <td>1.0</td>\n",
       "      <td>2-Feb-1886</td>\n",
       "      <td>1.0</td>\n",
       "      <td>White</td>\n",
       "      <td>...</td>\n",
       "      <td>Best Director</td>\n",
       "      <td>http://www.nndb.com/people/626/000042500/</td>\n",
       "      <td>NaN</td>\n",
       "      <td>NaN</td>\n",
       "      <td>The Divine Lady</td>\n",
       "      <td>Frank Lloyd</td>\n",
       "      <td>NaN</td>\n",
       "      <td>NaN</td>\n",
       "      <td>NaN</td>\n",
       "      <td>NaN</td>\n",
       "    </tr>\n",
       "    <tr>\n",
       "      <th>2</th>\n",
       "      <td>670454355</td>\n",
       "      <td>False</td>\n",
       "      <td>finalized</td>\n",
       "      <td>3</td>\n",
       "      <td>02/10/2015 02:05</td>\n",
       "      <td>Chisinau, Moldova</td>\n",
       "      <td>1.0</td>\n",
       "      <td>30-Sep-1895</td>\n",
       "      <td>1.0</td>\n",
       "      <td>White</td>\n",
       "      <td>...</td>\n",
       "      <td>Best Director</td>\n",
       "      <td>http://www.nndb.com/people/320/000043191/</td>\n",
       "      <td>NaN</td>\n",
       "      <td>NaN</td>\n",
       "      <td>All Quiet on the Western Front</td>\n",
       "      <td>Lewis Milestone</td>\n",
       "      <td>NaN</td>\n",
       "      <td>NaN</td>\n",
       "      <td>NaN</td>\n",
       "      <td>NaN</td>\n",
       "    </tr>\n",
       "    <tr>\n",
       "      <th>3</th>\n",
       "      <td>670454356</td>\n",
       "      <td>False</td>\n",
       "      <td>finalized</td>\n",
       "      <td>3</td>\n",
       "      <td>02/10/2015 02:04</td>\n",
       "      <td>Chicago, Il</td>\n",
       "      <td>1.0</td>\n",
       "      <td>23-Feb-1899</td>\n",
       "      <td>1.0</td>\n",
       "      <td>White</td>\n",
       "      <td>...</td>\n",
       "      <td>Best Director</td>\n",
       "      <td>http://www.nndb.com/people/544/000041421/</td>\n",
       "      <td>NaN</td>\n",
       "      <td>NaN</td>\n",
       "      <td>Skippy</td>\n",
       "      <td>Norman Taurog</td>\n",
       "      <td>NaN</td>\n",
       "      <td>NaN</td>\n",
       "      <td>NaN</td>\n",
       "      <td>NaN</td>\n",
       "    </tr>\n",
       "    <tr>\n",
       "      <th>4</th>\n",
       "      <td>670454357</td>\n",
       "      <td>False</td>\n",
       "      <td>finalized</td>\n",
       "      <td>3</td>\n",
       "      <td>02/10/2015 01:48</td>\n",
       "      <td>Salt Lake City, Ut</td>\n",
       "      <td>1.0</td>\n",
       "      <td>23-Apr-1894</td>\n",
       "      <td>1.0</td>\n",
       "      <td>White</td>\n",
       "      <td>...</td>\n",
       "      <td>Best Director</td>\n",
       "      <td>http://www.nndb.com/people/292/000044160/</td>\n",
       "      <td>NaN</td>\n",
       "      <td>NaN</td>\n",
       "      <td>Bad Girl</td>\n",
       "      <td>Frank Borzage</td>\n",
       "      <td>NaN</td>\n",
       "      <td>NaN</td>\n",
       "      <td>NaN</td>\n",
       "      <td>NaN</td>\n",
       "    </tr>\n",
       "    <tr>\n",
       "      <th>5</th>\n",
       "      <td>670454358</td>\n",
       "      <td>False</td>\n",
       "      <td>finalized</td>\n",
       "      <td>3</td>\n",
       "      <td>02/10/2015 03:50</td>\n",
       "      <td>Glasgow, Scotland</td>\n",
       "      <td>1.0</td>\n",
       "      <td>2-Feb-1886</td>\n",
       "      <td>1.0</td>\n",
       "      <td>White</td>\n",
       "      <td>...</td>\n",
       "      <td>Best Director</td>\n",
       "      <td>http://www.nndb.com/people/626/000042500/</td>\n",
       "      <td>NaN</td>\n",
       "      <td>NaN</td>\n",
       "      <td>Cavalcade</td>\n",
       "      <td>Frank Lloyd</td>\n",
       "      <td>NaN</td>\n",
       "      <td>NaN</td>\n",
       "      <td>NaN</td>\n",
       "      <td>NaN</td>\n",
       "    </tr>\n",
       "    <tr>\n",
       "      <th>6</th>\n",
       "      <td>670454359</td>\n",
       "      <td>False</td>\n",
       "      <td>finalized</td>\n",
       "      <td>3</td>\n",
       "      <td>02/10/2015 02:07</td>\n",
       "      <td>Bisacquino, Sicily, Italy</td>\n",
       "      <td>1.0</td>\n",
       "      <td>18-May-1897</td>\n",
       "      <td>1.0</td>\n",
       "      <td>White</td>\n",
       "      <td>...</td>\n",
       "      <td>Best Director</td>\n",
       "      <td>http://www.nndb.com/people/459/000032363/</td>\n",
       "      <td>NaN</td>\n",
       "      <td>NaN</td>\n",
       "      <td>It Happened One Night</td>\n",
       "      <td>Frank Capra</td>\n",
       "      <td>NaN</td>\n",
       "      <td>NaN</td>\n",
       "      <td>NaN</td>\n",
       "      <td>NaN</td>\n",
       "    </tr>\n",
       "    <tr>\n",
       "      <th>7</th>\n",
       "      <td>670454360</td>\n",
       "      <td>False</td>\n",
       "      <td>finalized</td>\n",
       "      <td>3</td>\n",
       "      <td>02/10/2015 01:46</td>\n",
       "      <td>Cape Elizabeth, Me</td>\n",
       "      <td>1.0</td>\n",
       "      <td>1-Feb-1894</td>\n",
       "      <td>1.0</td>\n",
       "      <td>White</td>\n",
       "      <td>...</td>\n",
       "      <td>Best Director</td>\n",
       "      <td>http://www.nndb.com/people/458/000032362/</td>\n",
       "      <td>NaN</td>\n",
       "      <td>NaN</td>\n",
       "      <td>The Informer</td>\n",
       "      <td>John Ford</td>\n",
       "      <td>NaN</td>\n",
       "      <td>NaN</td>\n",
       "      <td>NaN</td>\n",
       "      <td>NaN</td>\n",
       "    </tr>\n",
       "    <tr>\n",
       "      <th>8</th>\n",
       "      <td>670454361</td>\n",
       "      <td>False</td>\n",
       "      <td>finalized</td>\n",
       "      <td>3</td>\n",
       "      <td>02/10/2015 01:47</td>\n",
       "      <td>Bisacquino, Sicily, Italy</td>\n",
       "      <td>1.0</td>\n",
       "      <td>18-May-1897</td>\n",
       "      <td>1.0</td>\n",
       "      <td>White</td>\n",
       "      <td>...</td>\n",
       "      <td>Best Director</td>\n",
       "      <td>http://www.nndb.com/people/459/000032363/</td>\n",
       "      <td>NaN</td>\n",
       "      <td>NaN</td>\n",
       "      <td>Mr. Deeds Goes to Town</td>\n",
       "      <td>Frank Capra</td>\n",
       "      <td>NaN</td>\n",
       "      <td>NaN</td>\n",
       "      <td>NaN</td>\n",
       "      <td>NaN</td>\n",
       "    </tr>\n",
       "    <tr>\n",
       "      <th>9</th>\n",
       "      <td>670454362</td>\n",
       "      <td>False</td>\n",
       "      <td>finalized</td>\n",
       "      <td>3</td>\n",
       "      <td>02/10/2015 02:05</td>\n",
       "      <td>Los Angeles, Ca</td>\n",
       "      <td>1.0</td>\n",
       "      <td>3-Oct-1898</td>\n",
       "      <td>1.0</td>\n",
       "      <td>White</td>\n",
       "      <td>...</td>\n",
       "      <td>Best Director</td>\n",
       "      <td>http://www.nndb.com/people/380/000044248/</td>\n",
       "      <td>NaN</td>\n",
       "      <td>NaN</td>\n",
       "      <td>The Awful Truth</td>\n",
       "      <td>Leo McCarey</td>\n",
       "      <td>NaN</td>\n",
       "      <td>NaN</td>\n",
       "      <td>NaN</td>\n",
       "      <td>NaN</td>\n",
       "    </tr>\n",
       "  </tbody>\n",
       "</table>\n",
       "<p>10 rows × 27 columns</p>\n",
       "</div>"
      ],
      "text/plain": [
       "    _unit_id  _golden _unit_state  _trusted_judgments _last_judgment_at  \\\n",
       "0  670454353    False   finalized                   3  02/10/2015 03:45   \n",
       "1  670454354    False   finalized                   3  02/10/2015 02:03   \n",
       "2  670454355    False   finalized                   3  02/10/2015 02:05   \n",
       "3  670454356    False   finalized                   3  02/10/2015 02:04   \n",
       "4  670454357    False   finalized                   3  02/10/2015 01:48   \n",
       "5  670454358    False   finalized                   3  02/10/2015 03:50   \n",
       "6  670454359    False   finalized                   3  02/10/2015 02:07   \n",
       "7  670454360    False   finalized                   3  02/10/2015 01:46   \n",
       "8  670454361    False   finalized                   3  02/10/2015 01:47   \n",
       "9  670454362    False   finalized                   3  02/10/2015 02:05   \n",
       "\n",
       "                  birthplace  birthplace:confidence date_of_birth  \\\n",
       "0          Chisinau, Moldova                    1.0   30-Sep-1895   \n",
       "1          Glasgow, Scotland                    1.0    2-Feb-1886   \n",
       "2          Chisinau, Moldova                    1.0   30-Sep-1895   \n",
       "3                Chicago, Il                    1.0   23-Feb-1899   \n",
       "4         Salt Lake City, Ut                    1.0   23-Apr-1894   \n",
       "5          Glasgow, Scotland                    1.0    2-Feb-1886   \n",
       "6  Bisacquino, Sicily, Italy                    1.0   18-May-1897   \n",
       "7         Cape Elizabeth, Me                    1.0    1-Feb-1894   \n",
       "8  Bisacquino, Sicily, Italy                    1.0   18-May-1897   \n",
       "9            Los Angeles, Ca                    1.0    3-Oct-1898   \n",
       "\n",
       "   date_of_birth:confidence race_ethnicity  ...          award  \\\n",
       "0                       1.0          White  ...  Best Director   \n",
       "1                       1.0          White  ...  Best Director   \n",
       "2                       1.0          White  ...  Best Director   \n",
       "3                       1.0          White  ...  Best Director   \n",
       "4                       1.0          White  ...  Best Director   \n",
       "5                       1.0          White  ...  Best Director   \n",
       "6                       1.0          White  ...  Best Director   \n",
       "7                       1.0          White  ...  Best Director   \n",
       "8                       1.0          White  ...  Best Director   \n",
       "9                       1.0          White  ...  Best Director   \n",
       "\n",
       "                                      biourl  birthplace_gold  \\\n",
       "0  http://www.nndb.com/people/320/000043191/              NaN   \n",
       "1  http://www.nndb.com/people/626/000042500/              NaN   \n",
       "2  http://www.nndb.com/people/320/000043191/              NaN   \n",
       "3  http://www.nndb.com/people/544/000041421/              NaN   \n",
       "4  http://www.nndb.com/people/292/000044160/              NaN   \n",
       "5  http://www.nndb.com/people/626/000042500/              NaN   \n",
       "6  http://www.nndb.com/people/459/000032363/              NaN   \n",
       "7  http://www.nndb.com/people/458/000032362/              NaN   \n",
       "8  http://www.nndb.com/people/459/000032363/              NaN   \n",
       "9  http://www.nndb.com/people/380/000044248/              NaN   \n",
       "\n",
       "  date_of_birth_gold                           movie           person  \\\n",
       "0                NaN             Two Arabian Knights  Lewis Milestone   \n",
       "1                NaN                 The Divine Lady      Frank Lloyd   \n",
       "2                NaN  All Quiet on the Western Front  Lewis Milestone   \n",
       "3                NaN                          Skippy    Norman Taurog   \n",
       "4                NaN                        Bad Girl    Frank Borzage   \n",
       "5                NaN                       Cavalcade      Frank Lloyd   \n",
       "6                NaN           It Happened One Night      Frank Capra   \n",
       "7                NaN                    The Informer        John Ford   \n",
       "8                NaN          Mr. Deeds Goes to Town      Frank Capra   \n",
       "9                NaN                 The Awful Truth      Leo McCarey   \n",
       "\n",
       "   race_ethnicity_gold religion_gold sexual_orientation_gold  \\\n",
       "0                  NaN           NaN                     NaN   \n",
       "1                  NaN           NaN                     NaN   \n",
       "2                  NaN           NaN                     NaN   \n",
       "3                  NaN           NaN                     NaN   \n",
       "4                  NaN           NaN                     NaN   \n",
       "5                  NaN           NaN                     NaN   \n",
       "6                  NaN           NaN                     NaN   \n",
       "7                  NaN           NaN                     NaN   \n",
       "8                  NaN           NaN                     NaN   \n",
       "9                  NaN           NaN                     NaN   \n",
       "\n",
       "  year_of_award_gold  \n",
       "0                NaN  \n",
       "1                NaN  \n",
       "2                NaN  \n",
       "3                NaN  \n",
       "4                NaN  \n",
       "5                NaN  \n",
       "6                NaN  \n",
       "7                NaN  \n",
       "8                NaN  \n",
       "9                NaN  \n",
       "\n",
       "[10 rows x 27 columns]"
      ]
     },
     "execution_count": 3,
     "metadata": {},
     "output_type": "execute_result"
    }
   ],
   "source": [
    "#Display only 10 rows\n",
    "df.head(10)"
   ]
  },
  {
   "cell_type": "code",
   "execution_count": 4,
   "metadata": {
    "id": "Mxg8FZWVoNDM",
    "outputId": "14fccd72-795a-411c-d17f-5746d0d3d548"
   },
   "outputs": [
    {
     "data": {
      "text/plain": [
       "_unit_id                           0\n",
       "_golden                            0\n",
       "_unit_state                        0\n",
       "_trusted_judgments                 0\n",
       "_last_judgment_at                 25\n",
       "birthplace                         0\n",
       "birthplace:confidence              0\n",
       "date_of_birth                      0\n",
       "date_of_birth:confidence           0\n",
       "race_ethnicity                     0\n",
       "race_ethnicity:confidence          0\n",
       "religion                           0\n",
       "religion:confidence                0\n",
       "sexual_orientation                 0\n",
       "sexual_orientation:confidence      0\n",
       "year_of_award                      0\n",
       "year_of_award:confidence           0\n",
       "award                              0\n",
       "biourl                             0\n",
       "birthplace_gold                  432\n",
       "date_of_birth_gold               433\n",
       "movie                              0\n",
       "person                             0\n",
       "race_ethnicity_gold              439\n",
       "religion_gold                    431\n",
       "sexual_orientation_gold          438\n",
       "year_of_award_gold               430\n",
       "dtype: int64"
      ]
     },
     "execution_count": 4,
     "metadata": {},
     "output_type": "execute_result"
    }
   ],
   "source": [
    "\"\"\"\n",
    "Getting the count of null values using sum of variable values.\n",
    "This function will count the number of null values for each variables. \n",
    "\"\"\"\n",
    "pd.isnull(df).sum()"
   ]
  },
  {
   "cell_type": "code",
   "execution_count": 5,
   "metadata": {
    "executionInfo": {
     "elapsed": 664,
     "status": "ok",
     "timestamp": 1616652787601,
     "user": {
      "displayName": "Ajit luthais",
      "photoUrl": "https://lh3.googleusercontent.com/a-/AOh14GitOLbY4m8m102_e2e-5q3QGzZ8wBNU6ARLYZSAyQ=s64",
      "userId": "05903121354884129241"
     },
     "user_tz": 0
    },
    "id": "M0UBcFXroNDM"
   },
   "outputs": [],
   "source": [
    "#creating a new dataset with the specified columns\n",
    "#We need create the dummy variables inorder to extract the data fro raw variables\n",
    "oscars_df= pd.DataFrame(df, columns =['birthplace', 'date_of_birth','race_ethnicity','year_of_award','award']) "
   ]
  },
  {
   "cell_type": "code",
   "execution_count": 6,
   "metadata": {
    "colab": {
     "base_uri": "https://localhost:8080/"
    },
    "executionInfo": {
     "elapsed": 415,
     "status": "ok",
     "timestamp": 1616361289380,
     "user": {
      "displayName": "Ajit luthais",
      "photoUrl": "https://lh3.googleusercontent.com/a-/AOh14GitOLbY4m8m102_e2e-5q3QGzZ8wBNU6ARLYZSAyQ=s64",
      "userId": "05903121354884129241"
     },
     "user_tz": 0
    },
    "id": "5CgeEbicoNDN",
    "outputId": "dd9da105-c261-4aa6-dc56-74f2a367181b"
   },
   "outputs": [
    {
     "name": "stdout",
     "output_type": "stream",
     "text": [
      "['Best Director' 'Best Actor' 'Best Supporting Actor' 'Best Actress'\n",
      " 'Best Supporting Actress']\n"
     ]
    }
   ],
   "source": [
    "#getting distinct values from the column \"award\"\n",
    "print(oscars_df['award'].unique())"
   ]
  },
  {
   "cell_type": "code",
   "execution_count": 7,
   "metadata": {
    "executionInfo": {
     "elapsed": 670,
     "status": "ok",
     "timestamp": 1616652790789,
     "user": {
      "displayName": "Ajit luthais",
      "photoUrl": "https://lh3.googleusercontent.com/a-/AOh14GitOLbY4m8m102_e2e-5q3QGzZ8wBNU6ARLYZSAyQ=s64",
      "userId": "05903121354884129241"
     },
     "user_tz": 0
    },
    "id": "g-6a4ZEvoNDN"
   },
   "outputs": [],
   "source": [
    "#Converting the years with 4 digits first\n",
    "oscars_df['BirthDate']=pd.to_datetime(oscars_df['date_of_birth'],errors=\"coerce\")"
   ]
  },
  {
   "cell_type": "code",
   "execution_count": 8,
   "metadata": {
    "executionInfo": {
     "elapsed": 908,
     "status": "ok",
     "timestamp": 1616652792879,
     "user": {
      "displayName": "Ajit luthais",
      "photoUrl": "https://lh3.googleusercontent.com/a-/AOh14GitOLbY4m8m102_e2e-5q3QGzZ8wBNU6ARLYZSAyQ=s64",
      "userId": "05903121354884129241"
     },
     "user_tz": 0
    },
    "id": "DuYMPOCRoNDO"
   },
   "outputs": [],
   "source": [
    "#extracting Year from BirthDate\n",
    "from datetime import datetime\n",
    "oscars_df['BirthYear'] = oscars_df['BirthDate'].dt.strftime('%Y')"
   ]
  },
  {
   "cell_type": "code",
   "execution_count": 9,
   "metadata": {
    "executionInfo": {
     "elapsed": 740,
     "status": "ok",
     "timestamp": 1616652797897,
     "user": {
      "displayName": "Ajit luthais",
      "photoUrl": "https://lh3.googleusercontent.com/a-/AOh14GitOLbY4m8m102_e2e-5q3QGzZ8wBNU6ARLYZSAyQ=s64",
      "userId": "05903121354884129241"
     },
     "user_tz": 0
    },
    "id": "vKpIH2fqoNDO"
   },
   "outputs": [],
   "source": [
    "#finding the length of Date of Birth\n",
    "oscars_df['ldob'] = len(oscars_df['BirthDate'])"
   ]
  },
  {
   "cell_type": "code",
   "execution_count": 10,
   "metadata": {
    "colab": {
     "base_uri": "https://localhost:8080/"
    },
    "executionInfo": {
     "elapsed": 758,
     "status": "ok",
     "timestamp": 1616652802813,
     "user": {
      "displayName": "Ajit luthais",
      "photoUrl": "https://lh3.googleusercontent.com/a-/AOh14GitOLbY4m8m102_e2e-5q3QGzZ8wBNU6ARLYZSAyQ=s64",
      "userId": "05903121354884129241"
     },
     "user_tz": 0
    },
    "id": "ZLHzINMPoNDO",
    "outputId": "3680fc5d-9514-421c-efd4-7147e91866d6"
   },
   "outputs": [
    {
     "name": "stdout",
     "output_type": "stream",
     "text": [
      "              birthplace date_of_birth race_ethnicity  \\\n",
      "0      Chisinau, Moldova   30-Sep-1895          White   \n",
      "1      Glasgow, Scotland    2-Feb-1886          White   \n",
      "2      Chisinau, Moldova   30-Sep-1895          White   \n",
      "3            Chicago, Il   23-Feb-1899          White   \n",
      "4     Salt Lake City, Ut   23-Apr-1894          White   \n",
      "..                   ...           ...            ...   \n",
      "436      London, England     07-Mar-71          White   \n",
      "437  Manchester, England     20-Oct-56          White   \n",
      "438          Chicago, Il     26-Jul-22          White   \n",
      "439           Laurel, Ne     31-Aug-28          White   \n",
      "440           Nevada, Mo     05-Aug-06          White   \n",
      "\n",
      "                       award BirthYear  \n",
      "0              Best Director      1895  \n",
      "1              Best Director      1886  \n",
      "2              Best Director      1895  \n",
      "3              Best Director      1899  \n",
      "4              Best Director      1894  \n",
      "..                       ...       ...  \n",
      "436  Best Supporting Actress      1971  \n",
      "437            Best Director      2056  \n",
      "438    Best Supporting Actor      2022  \n",
      "439    Best Supporting Actor      2028  \n",
      "440            Best Director      2006  \n",
      "\n",
      "[441 rows x 5 columns]\n"
     ]
    }
   ],
   "source": [
    "#checking the columns that have categorial values\n",
    "#this code will return the columns which has categorial values\n",
    "import numpy as np\n",
    "cat_cols=oscars_df.select_dtypes(include=[np.object]).copy()\n",
    "print(cat_cols)"
   ]
  },
  {
   "cell_type": "code",
   "execution_count": 11,
   "metadata": {
    "colab": {
     "base_uri": "https://localhost:8080/"
    },
    "executionInfo": {
     "elapsed": 710,
     "status": "ok",
     "timestamp": 1616652810801,
     "user": {
      "displayName": "Ajit luthais",
      "photoUrl": "https://lh3.googleusercontent.com/a-/AOh14GitOLbY4m8m102_e2e-5q3QGzZ8wBNU6ARLYZSAyQ=s64",
      "userId": "05903121354884129241"
     },
     "user_tz": 0
    },
    "id": "YzalnwAkoNDP",
    "outputId": "51ec54b4-ae56-460f-ece5-5402ed817bb9"
   },
   "outputs": [
    {
     "data": {
      "text/plain": [
       "0        Chisinau, Moldova\n",
       "1        Glasgow, Scotland\n",
       "2        Chisinau, Moldova\n",
       "3              Chicago, Il\n",
       "4       Salt Lake City, Ut\n",
       "              ...         \n",
       "436        London, England\n",
       "437    Manchester, England\n",
       "438            Chicago, Il\n",
       "439             Laurel, Ne\n",
       "440             Nevada, Mo\n",
       "Name: birthplace, Length: 441, dtype: object"
      ]
     },
     "execution_count": 11,
     "metadata": {},
     "output_type": "execute_result"
    }
   ],
   "source": [
    "#applying forward fill for Na value in birthplace\n",
    "oscars_df['birthplace'].fillna(method='ffill')"
   ]
  },
  {
   "cell_type": "code",
   "execution_count": 12,
   "metadata": {
    "colab": {
     "base_uri": "https://localhost:8080/",
     "height": 359
    },
    "executionInfo": {
     "elapsed": 749,
     "status": "ok",
     "timestamp": 1616652814159,
     "user": {
      "displayName": "Ajit luthais",
      "photoUrl": "https://lh3.googleusercontent.com/a-/AOh14GitOLbY4m8m102_e2e-5q3QGzZ8wBNU6ARLYZSAyQ=s64",
      "userId": "05903121354884129241"
     },
     "user_tz": 0
    },
    "id": "26frIVF7oNDP",
    "outputId": "38ff554d-6093-41c5-8d54-a8fc719e8142"
   },
   "outputs": [
    {
     "data": {
      "text/html": [
       "<div>\n",
       "<style scoped>\n",
       "    .dataframe tbody tr th:only-of-type {\n",
       "        vertical-align: middle;\n",
       "    }\n",
       "\n",
       "    .dataframe tbody tr th {\n",
       "        vertical-align: top;\n",
       "    }\n",
       "\n",
       "    .dataframe thead th {\n",
       "        text-align: right;\n",
       "    }\n",
       "</style>\n",
       "<table border=\"1\" class=\"dataframe\">\n",
       "  <thead>\n",
       "    <tr style=\"text-align: right;\">\n",
       "      <th></th>\n",
       "      <th>birthplace</th>\n",
       "      <th>date_of_birth</th>\n",
       "      <th>race_ethnicity</th>\n",
       "      <th>year_of_award</th>\n",
       "      <th>award</th>\n",
       "      <th>BirthDate</th>\n",
       "      <th>BirthYear</th>\n",
       "      <th>ldob</th>\n",
       "    </tr>\n",
       "  </thead>\n",
       "  <tbody>\n",
       "    <tr>\n",
       "      <th>0</th>\n",
       "      <td>Chisinau, Moldova</td>\n",
       "      <td>30-Sep-1895</td>\n",
       "      <td>White</td>\n",
       "      <td>1927</td>\n",
       "      <td>Best Director</td>\n",
       "      <td>1895-09-30</td>\n",
       "      <td>1895</td>\n",
       "      <td>441</td>\n",
       "    </tr>\n",
       "    <tr>\n",
       "      <th>1</th>\n",
       "      <td>Glasgow, Scotland</td>\n",
       "      <td>2-Feb-1886</td>\n",
       "      <td>White</td>\n",
       "      <td>1930</td>\n",
       "      <td>Best Director</td>\n",
       "      <td>1886-02-02</td>\n",
       "      <td>1886</td>\n",
       "      <td>441</td>\n",
       "    </tr>\n",
       "    <tr>\n",
       "      <th>2</th>\n",
       "      <td>Chisinau, Moldova</td>\n",
       "      <td>30-Sep-1895</td>\n",
       "      <td>White</td>\n",
       "      <td>1931</td>\n",
       "      <td>Best Director</td>\n",
       "      <td>1895-09-30</td>\n",
       "      <td>1895</td>\n",
       "      <td>441</td>\n",
       "    </tr>\n",
       "    <tr>\n",
       "      <th>3</th>\n",
       "      <td>Chicago, Il</td>\n",
       "      <td>23-Feb-1899</td>\n",
       "      <td>White</td>\n",
       "      <td>1932</td>\n",
       "      <td>Best Director</td>\n",
       "      <td>1899-02-23</td>\n",
       "      <td>1899</td>\n",
       "      <td>441</td>\n",
       "    </tr>\n",
       "    <tr>\n",
       "      <th>4</th>\n",
       "      <td>Salt Lake City, Ut</td>\n",
       "      <td>23-Apr-1894</td>\n",
       "      <td>White</td>\n",
       "      <td>1933</td>\n",
       "      <td>Best Director</td>\n",
       "      <td>1894-04-23</td>\n",
       "      <td>1894</td>\n",
       "      <td>441</td>\n",
       "    </tr>\n",
       "    <tr>\n",
       "      <th>5</th>\n",
       "      <td>Glasgow, Scotland</td>\n",
       "      <td>2-Feb-1886</td>\n",
       "      <td>White</td>\n",
       "      <td>1934</td>\n",
       "      <td>Best Director</td>\n",
       "      <td>1886-02-02</td>\n",
       "      <td>1886</td>\n",
       "      <td>441</td>\n",
       "    </tr>\n",
       "    <tr>\n",
       "      <th>6</th>\n",
       "      <td>Bisacquino, Sicily, Italy</td>\n",
       "      <td>18-May-1897</td>\n",
       "      <td>White</td>\n",
       "      <td>1935</td>\n",
       "      <td>Best Director</td>\n",
       "      <td>1897-05-18</td>\n",
       "      <td>1897</td>\n",
       "      <td>441</td>\n",
       "    </tr>\n",
       "    <tr>\n",
       "      <th>7</th>\n",
       "      <td>Cape Elizabeth, Me</td>\n",
       "      <td>1-Feb-1894</td>\n",
       "      <td>White</td>\n",
       "      <td>1936</td>\n",
       "      <td>Best Director</td>\n",
       "      <td>1894-02-01</td>\n",
       "      <td>1894</td>\n",
       "      <td>441</td>\n",
       "    </tr>\n",
       "    <tr>\n",
       "      <th>8</th>\n",
       "      <td>Bisacquino, Sicily, Italy</td>\n",
       "      <td>18-May-1897</td>\n",
       "      <td>White</td>\n",
       "      <td>1937</td>\n",
       "      <td>Best Director</td>\n",
       "      <td>1897-05-18</td>\n",
       "      <td>1897</td>\n",
       "      <td>441</td>\n",
       "    </tr>\n",
       "    <tr>\n",
       "      <th>9</th>\n",
       "      <td>Los Angeles, Ca</td>\n",
       "      <td>3-Oct-1898</td>\n",
       "      <td>White</td>\n",
       "      <td>1938</td>\n",
       "      <td>Best Director</td>\n",
       "      <td>1898-10-03</td>\n",
       "      <td>1898</td>\n",
       "      <td>441</td>\n",
       "    </tr>\n",
       "  </tbody>\n",
       "</table>\n",
       "</div>"
      ],
      "text/plain": [
       "                  birthplace date_of_birth race_ethnicity  year_of_award  \\\n",
       "0          Chisinau, Moldova   30-Sep-1895          White           1927   \n",
       "1          Glasgow, Scotland    2-Feb-1886          White           1930   \n",
       "2          Chisinau, Moldova   30-Sep-1895          White           1931   \n",
       "3                Chicago, Il   23-Feb-1899          White           1932   \n",
       "4         Salt Lake City, Ut   23-Apr-1894          White           1933   \n",
       "5          Glasgow, Scotland    2-Feb-1886          White           1934   \n",
       "6  Bisacquino, Sicily, Italy   18-May-1897          White           1935   \n",
       "7         Cape Elizabeth, Me    1-Feb-1894          White           1936   \n",
       "8  Bisacquino, Sicily, Italy   18-May-1897          White           1937   \n",
       "9            Los Angeles, Ca    3-Oct-1898          White           1938   \n",
       "\n",
       "           award  BirthDate BirthYear  ldob  \n",
       "0  Best Director 1895-09-30      1895   441  \n",
       "1  Best Director 1886-02-02      1886   441  \n",
       "2  Best Director 1895-09-30      1895   441  \n",
       "3  Best Director 1899-02-23      1899   441  \n",
       "4  Best Director 1894-04-23      1894   441  \n",
       "5  Best Director 1886-02-02      1886   441  \n",
       "6  Best Director 1897-05-18      1897   441  \n",
       "7  Best Director 1894-02-01      1894   441  \n",
       "8  Best Director 1897-05-18      1897   441  \n",
       "9  Best Director 1898-10-03      1898   441  "
      ]
     },
     "execution_count": 12,
     "metadata": {},
     "output_type": "execute_result"
    }
   ],
   "source": [
    "oscars_df.head(10)"
   ]
  },
  {
   "cell_type": "code",
   "execution_count": 13,
   "metadata": {
    "colab": {
     "base_uri": "https://localhost:8080/",
     "height": 419
    },
    "executionInfo": {
     "elapsed": 687,
     "status": "ok",
     "timestamp": 1616652819329,
     "user": {
      "displayName": "Ajit luthais",
      "photoUrl": "https://lh3.googleusercontent.com/a-/AOh14GitOLbY4m8m102_e2e-5q3QGzZ8wBNU6ARLYZSAyQ=s64",
      "userId": "05903121354884129241"
     },
     "user_tz": 0
    },
    "id": "EHLoSQrIoNDQ",
    "outputId": "f14f6304-d538-4e34-fcce-82798efc974a"
   },
   "outputs": [
    {
     "data": {
      "text/html": [
       "<div>\n",
       "<style scoped>\n",
       "    .dataframe tbody tr th:only-of-type {\n",
       "        vertical-align: middle;\n",
       "    }\n",
       "\n",
       "    .dataframe tbody tr th {\n",
       "        vertical-align: top;\n",
       "    }\n",
       "\n",
       "    .dataframe thead th {\n",
       "        text-align: right;\n",
       "    }\n",
       "</style>\n",
       "<table border=\"1\" class=\"dataframe\">\n",
       "  <thead>\n",
       "    <tr style=\"text-align: right;\">\n",
       "      <th></th>\n",
       "      <th>birthplace</th>\n",
       "      <th>date_of_birth</th>\n",
       "      <th>race_ethnicity</th>\n",
       "      <th>year_of_award</th>\n",
       "      <th>award</th>\n",
       "      <th>BirthDate</th>\n",
       "      <th>BirthYear</th>\n",
       "      <th>ldob</th>\n",
       "    </tr>\n",
       "  </thead>\n",
       "  <tbody>\n",
       "    <tr>\n",
       "      <th>0</th>\n",
       "      <td>Chisinau, Moldova</td>\n",
       "      <td>30-Sep-1895</td>\n",
       "      <td>White</td>\n",
       "      <td>1927</td>\n",
       "      <td>Best Director</td>\n",
       "      <td>1895-09-30</td>\n",
       "      <td>1895</td>\n",
       "      <td>441</td>\n",
       "    </tr>\n",
       "    <tr>\n",
       "      <th>1</th>\n",
       "      <td>Glasgow, Scotland</td>\n",
       "      <td>2-Feb-1886</td>\n",
       "      <td>White</td>\n",
       "      <td>1930</td>\n",
       "      <td>Best Director</td>\n",
       "      <td>1886-02-02</td>\n",
       "      <td>1886</td>\n",
       "      <td>441</td>\n",
       "    </tr>\n",
       "    <tr>\n",
       "      <th>2</th>\n",
       "      <td>Chisinau, Moldova</td>\n",
       "      <td>30-Sep-1895</td>\n",
       "      <td>White</td>\n",
       "      <td>1931</td>\n",
       "      <td>Best Director</td>\n",
       "      <td>1895-09-30</td>\n",
       "      <td>1895</td>\n",
       "      <td>441</td>\n",
       "    </tr>\n",
       "    <tr>\n",
       "      <th>3</th>\n",
       "      <td>Chicago, Il</td>\n",
       "      <td>23-Feb-1899</td>\n",
       "      <td>White</td>\n",
       "      <td>1932</td>\n",
       "      <td>Best Director</td>\n",
       "      <td>1899-02-23</td>\n",
       "      <td>1899</td>\n",
       "      <td>441</td>\n",
       "    </tr>\n",
       "    <tr>\n",
       "      <th>4</th>\n",
       "      <td>Salt Lake City, Ut</td>\n",
       "      <td>23-Apr-1894</td>\n",
       "      <td>White</td>\n",
       "      <td>1933</td>\n",
       "      <td>Best Director</td>\n",
       "      <td>1894-04-23</td>\n",
       "      <td>1894</td>\n",
       "      <td>441</td>\n",
       "    </tr>\n",
       "    <tr>\n",
       "      <th>...</th>\n",
       "      <td>...</td>\n",
       "      <td>...</td>\n",
       "      <td>...</td>\n",
       "      <td>...</td>\n",
       "      <td>...</td>\n",
       "      <td>...</td>\n",
       "      <td>...</td>\n",
       "      <td>...</td>\n",
       "    </tr>\n",
       "    <tr>\n",
       "      <th>436</th>\n",
       "      <td>London, England</td>\n",
       "      <td>07-Mar-71</td>\n",
       "      <td>White</td>\n",
       "      <td>2006</td>\n",
       "      <td>Best Supporting Actress</td>\n",
       "      <td>1971-03-07</td>\n",
       "      <td>1971</td>\n",
       "      <td>441</td>\n",
       "    </tr>\n",
       "    <tr>\n",
       "      <th>437</th>\n",
       "      <td>Manchester, England</td>\n",
       "      <td>20-Oct-56</td>\n",
       "      <td>White</td>\n",
       "      <td>2009</td>\n",
       "      <td>Best Director</td>\n",
       "      <td>2056-10-20</td>\n",
       "      <td>2056</td>\n",
       "      <td>441</td>\n",
       "    </tr>\n",
       "    <tr>\n",
       "      <th>438</th>\n",
       "      <td>Chicago, Il</td>\n",
       "      <td>26-Jul-22</td>\n",
       "      <td>White</td>\n",
       "      <td>1977</td>\n",
       "      <td>Best Supporting Actor</td>\n",
       "      <td>2022-07-26</td>\n",
       "      <td>2022</td>\n",
       "      <td>441</td>\n",
       "    </tr>\n",
       "    <tr>\n",
       "      <th>439</th>\n",
       "      <td>Laurel, Ne</td>\n",
       "      <td>31-Aug-28</td>\n",
       "      <td>White</td>\n",
       "      <td>1999</td>\n",
       "      <td>Best Supporting Actor</td>\n",
       "      <td>2028-08-31</td>\n",
       "      <td>2028</td>\n",
       "      <td>441</td>\n",
       "    </tr>\n",
       "    <tr>\n",
       "      <th>440</th>\n",
       "      <td>Nevada, Mo</td>\n",
       "      <td>05-Aug-06</td>\n",
       "      <td>White</td>\n",
       "      <td>1949</td>\n",
       "      <td>Best Director</td>\n",
       "      <td>2006-08-05</td>\n",
       "      <td>2006</td>\n",
       "      <td>441</td>\n",
       "    </tr>\n",
       "  </tbody>\n",
       "</table>\n",
       "<p>440 rows × 8 columns</p>\n",
       "</div>"
      ],
      "text/plain": [
       "              birthplace date_of_birth race_ethnicity  year_of_award  \\\n",
       "0      Chisinau, Moldova   30-Sep-1895          White           1927   \n",
       "1      Glasgow, Scotland    2-Feb-1886          White           1930   \n",
       "2      Chisinau, Moldova   30-Sep-1895          White           1931   \n",
       "3            Chicago, Il   23-Feb-1899          White           1932   \n",
       "4     Salt Lake City, Ut   23-Apr-1894          White           1933   \n",
       "..                   ...           ...            ...            ...   \n",
       "436      London, England     07-Mar-71          White           2006   \n",
       "437  Manchester, England     20-Oct-56          White           2009   \n",
       "438          Chicago, Il     26-Jul-22          White           1977   \n",
       "439           Laurel, Ne     31-Aug-28          White           1999   \n",
       "440           Nevada, Mo     05-Aug-06          White           1949   \n",
       "\n",
       "                       award  BirthDate BirthYear  ldob  \n",
       "0              Best Director 1895-09-30      1895   441  \n",
       "1              Best Director 1886-02-02      1886   441  \n",
       "2              Best Director 1895-09-30      1895   441  \n",
       "3              Best Director 1899-02-23      1899   441  \n",
       "4              Best Director 1894-04-23      1894   441  \n",
       "..                       ...        ...       ...   ...  \n",
       "436  Best Supporting Actress 1971-03-07      1971   441  \n",
       "437            Best Director 2056-10-20      2056   441  \n",
       "438    Best Supporting Actor 2022-07-26      2022   441  \n",
       "439    Best Supporting Actor 2028-08-31      2028   441  \n",
       "440            Best Director 2006-08-05      2006   441  \n",
       "\n",
       "[440 rows x 8 columns]"
      ]
     },
     "execution_count": 13,
     "metadata": {},
     "output_type": "execute_result"
    }
   ],
   "source": [
    "#dropping the rows with NaN values\n",
    "oscars_df.dropna()"
   ]
  },
  {
   "cell_type": "code",
   "execution_count": 14,
   "metadata": {
    "colab": {
     "base_uri": "https://localhost:8080/",
     "height": 80
    },
    "executionInfo": {
     "elapsed": 701,
     "status": "ok",
     "timestamp": 1616652823722,
     "user": {
      "displayName": "Ajit luthais",
      "photoUrl": "https://lh3.googleusercontent.com/a-/AOh14GitOLbY4m8m102_e2e-5q3QGzZ8wBNU6ARLYZSAyQ=s64",
      "userId": "05903121354884129241"
     },
     "user_tz": 0
    },
    "id": "8IfGJ27loNDQ",
    "outputId": "490c1fb8-9cf5-40d1-a97b-51e9c6b3e598"
   },
   "outputs": [
    {
     "data": {
      "text/html": [
       "<div>\n",
       "<style scoped>\n",
       "    .dataframe tbody tr th:only-of-type {\n",
       "        vertical-align: middle;\n",
       "    }\n",
       "\n",
       "    .dataframe tbody tr th {\n",
       "        vertical-align: top;\n",
       "    }\n",
       "\n",
       "    .dataframe thead th {\n",
       "        text-align: right;\n",
       "    }\n",
       "</style>\n",
       "<table border=\"1\" class=\"dataframe\">\n",
       "  <thead>\n",
       "    <tr style=\"text-align: right;\">\n",
       "      <th></th>\n",
       "      <th>birthplace</th>\n",
       "      <th>date_of_birth</th>\n",
       "      <th>race_ethnicity</th>\n",
       "      <th>year_of_award</th>\n",
       "      <th>award</th>\n",
       "      <th>BirthDate</th>\n",
       "      <th>BirthYear</th>\n",
       "      <th>ldob</th>\n",
       "    </tr>\n",
       "  </thead>\n",
       "  <tbody>\n",
       "    <tr>\n",
       "      <th>54</th>\n",
       "      <td>Santa Monica, Ca</td>\n",
       "      <td>18-Aug-1936 [1]</td>\n",
       "      <td>White</td>\n",
       "      <td>1980</td>\n",
       "      <td>Best Director</td>\n",
       "      <td>NaT</td>\n",
       "      <td>NaN</td>\n",
       "      <td>441</td>\n",
       "    </tr>\n",
       "  </tbody>\n",
       "</table>\n",
       "</div>"
      ],
      "text/plain": [
       "          birthplace    date_of_birth race_ethnicity  year_of_award  \\\n",
       "54  Santa Monica, Ca  18-Aug-1936 [1]          White           1980   \n",
       "\n",
       "            award BirthDate BirthYear  ldob  \n",
       "54  Best Director       NaT       NaN   441  "
      ]
     },
     "execution_count": 14,
     "metadata": {},
     "output_type": "execute_result"
    }
   ],
   "source": [
    "#checking the row which has NAN value in BirthYear\n",
    "oscars_df[oscars_df['BirthYear'].isnull()]"
   ]
  },
  {
   "cell_type": "code",
   "execution_count": 15,
   "metadata": {
    "executionInfo": {
     "elapsed": 563,
     "status": "ok",
     "timestamp": 1616652826136,
     "user": {
      "displayName": "Ajit luthais",
      "photoUrl": "https://lh3.googleusercontent.com/a-/AOh14GitOLbY4m8m102_e2e-5q3QGzZ8wBNU6ARLYZSAyQ=s64",
      "userId": "05903121354884129241"
     },
     "user_tz": 0
    },
    "id": "9KWDfUlroNDR"
   },
   "outputs": [],
   "source": [
    "#droping the above row\n",
    "oscars_df = oscars_df.drop(54) "
   ]
  },
  {
   "cell_type": "code",
   "execution_count": 16,
   "metadata": {
    "executionInfo": {
     "elapsed": 601,
     "status": "ok",
     "timestamp": 1616652831896,
     "user": {
      "displayName": "Ajit luthais",
      "photoUrl": "https://lh3.googleusercontent.com/a-/AOh14GitOLbY4m8m102_e2e-5q3QGzZ8wBNU6ARLYZSAyQ=s64",
      "userId": "05903121354884129241"
     },
     "user_tz": 0
    },
    "id": "dKdjr-owoNDR"
   },
   "outputs": [],
   "source": [
    "#changing the dtype to Int for BithYear\n",
    "oscars_df['BirthYear']=oscars_df['BirthYear'].astype(int)"
   ]
  },
  {
   "cell_type": "code",
   "execution_count": 17,
   "metadata": {
    "executionInfo": {
     "elapsed": 658,
     "status": "ok",
     "timestamp": 1616652834113,
     "user": {
      "displayName": "Ajit luthais",
      "photoUrl": "https://lh3.googleusercontent.com/a-/AOh14GitOLbY4m8m102_e2e-5q3QGzZ8wBNU6ARLYZSAyQ=s64",
      "userId": "05903121354884129241"
     },
     "user_tz": 0
    },
    "id": "nfGvqzaToNDS"
   },
   "outputs": [],
   "source": [
    "#getting the award age for each winner\n",
    "oscars_df['award_age']=oscars_df['BirthYear']-oscars_df['year_of_award']"
   ]
  },
  {
   "cell_type": "code",
   "execution_count": 18,
   "metadata": {
    "executionInfo": {
     "elapsed": 1047,
     "status": "ok",
     "timestamp": 1616652836298,
     "user": {
      "displayName": "Ajit luthais",
      "photoUrl": "https://lh3.googleusercontent.com/a-/AOh14GitOLbY4m8m102_e2e-5q3QGzZ8wBNU6ARLYZSAyQ=s64",
      "userId": "05903121354884129241"
     },
     "user_tz": 0
    },
    "id": "zgJjRn8-oNDS"
   },
   "outputs": [],
   "source": [
    "#removing the negative values\n",
    "oscars_df['award_age'] = oscars_df['award_age'].abs()"
   ]
  },
  {
   "cell_type": "code",
   "execution_count": 19,
   "metadata": {
    "executionInfo": {
     "elapsed": 512,
     "status": "ok",
     "timestamp": 1616652837715,
     "user": {
      "displayName": "Ajit luthais",
      "photoUrl": "https://lh3.googleusercontent.com/a-/AOh14GitOLbY4m8m102_e2e-5q3QGzZ8wBNU6ARLYZSAyQ=s64",
      "userId": "05903121354884129241"
     },
     "user_tz": 0
    },
    "id": "y04J53iqoNDT"
   },
   "outputs": [],
   "source": [
    "#Dividing the City State and country\n",
    "#This code will seprate the city, state and country which is grouped together\n",
    "oscars_df[['city','state','country']] = oscars_df['birthplace'].str.split(',', expand=True, n=2)"
   ]
  },
  {
   "cell_type": "code",
   "execution_count": 20,
   "metadata": {
    "colab": {
     "base_uri": "https://localhost:8080/",
     "height": 359
    },
    "executionInfo": {
     "elapsed": 763,
     "status": "ok",
     "timestamp": 1616652840809,
     "user": {
      "displayName": "Ajit luthais",
      "photoUrl": "https://lh3.googleusercontent.com/a-/AOh14GitOLbY4m8m102_e2e-5q3QGzZ8wBNU6ARLYZSAyQ=s64",
      "userId": "05903121354884129241"
     },
     "user_tz": 0
    },
    "id": "MZ1TOWm-oNDT",
    "outputId": "5e8dc2bf-8fe4-4ce4-c8e7-b6c93a6ded94"
   },
   "outputs": [
    {
     "data": {
      "text/html": [
       "<div>\n",
       "<style scoped>\n",
       "    .dataframe tbody tr th:only-of-type {\n",
       "        vertical-align: middle;\n",
       "    }\n",
       "\n",
       "    .dataframe tbody tr th {\n",
       "        vertical-align: top;\n",
       "    }\n",
       "\n",
       "    .dataframe thead th {\n",
       "        text-align: right;\n",
       "    }\n",
       "</style>\n",
       "<table border=\"1\" class=\"dataframe\">\n",
       "  <thead>\n",
       "    <tr style=\"text-align: right;\">\n",
       "      <th></th>\n",
       "      <th>birthplace</th>\n",
       "      <th>date_of_birth</th>\n",
       "      <th>race_ethnicity</th>\n",
       "      <th>year_of_award</th>\n",
       "      <th>award</th>\n",
       "      <th>BirthDate</th>\n",
       "      <th>BirthYear</th>\n",
       "      <th>ldob</th>\n",
       "      <th>award_age</th>\n",
       "      <th>city</th>\n",
       "      <th>state</th>\n",
       "      <th>country</th>\n",
       "    </tr>\n",
       "  </thead>\n",
       "  <tbody>\n",
       "    <tr>\n",
       "      <th>0</th>\n",
       "      <td>Chisinau, Moldova</td>\n",
       "      <td>30-Sep-1895</td>\n",
       "      <td>White</td>\n",
       "      <td>1927</td>\n",
       "      <td>Best Director</td>\n",
       "      <td>1895-09-30</td>\n",
       "      <td>1895</td>\n",
       "      <td>441</td>\n",
       "      <td>32</td>\n",
       "      <td>Chisinau</td>\n",
       "      <td>Moldova</td>\n",
       "      <td>None</td>\n",
       "    </tr>\n",
       "    <tr>\n",
       "      <th>1</th>\n",
       "      <td>Glasgow, Scotland</td>\n",
       "      <td>2-Feb-1886</td>\n",
       "      <td>White</td>\n",
       "      <td>1930</td>\n",
       "      <td>Best Director</td>\n",
       "      <td>1886-02-02</td>\n",
       "      <td>1886</td>\n",
       "      <td>441</td>\n",
       "      <td>44</td>\n",
       "      <td>Glasgow</td>\n",
       "      <td>Scotland</td>\n",
       "      <td>None</td>\n",
       "    </tr>\n",
       "    <tr>\n",
       "      <th>2</th>\n",
       "      <td>Chisinau, Moldova</td>\n",
       "      <td>30-Sep-1895</td>\n",
       "      <td>White</td>\n",
       "      <td>1931</td>\n",
       "      <td>Best Director</td>\n",
       "      <td>1895-09-30</td>\n",
       "      <td>1895</td>\n",
       "      <td>441</td>\n",
       "      <td>36</td>\n",
       "      <td>Chisinau</td>\n",
       "      <td>Moldova</td>\n",
       "      <td>None</td>\n",
       "    </tr>\n",
       "    <tr>\n",
       "      <th>3</th>\n",
       "      <td>Chicago, Il</td>\n",
       "      <td>23-Feb-1899</td>\n",
       "      <td>White</td>\n",
       "      <td>1932</td>\n",
       "      <td>Best Director</td>\n",
       "      <td>1899-02-23</td>\n",
       "      <td>1899</td>\n",
       "      <td>441</td>\n",
       "      <td>33</td>\n",
       "      <td>Chicago</td>\n",
       "      <td>Il</td>\n",
       "      <td>None</td>\n",
       "    </tr>\n",
       "    <tr>\n",
       "      <th>4</th>\n",
       "      <td>Salt Lake City, Ut</td>\n",
       "      <td>23-Apr-1894</td>\n",
       "      <td>White</td>\n",
       "      <td>1933</td>\n",
       "      <td>Best Director</td>\n",
       "      <td>1894-04-23</td>\n",
       "      <td>1894</td>\n",
       "      <td>441</td>\n",
       "      <td>39</td>\n",
       "      <td>Salt Lake City</td>\n",
       "      <td>Ut</td>\n",
       "      <td>None</td>\n",
       "    </tr>\n",
       "    <tr>\n",
       "      <th>5</th>\n",
       "      <td>Glasgow, Scotland</td>\n",
       "      <td>2-Feb-1886</td>\n",
       "      <td>White</td>\n",
       "      <td>1934</td>\n",
       "      <td>Best Director</td>\n",
       "      <td>1886-02-02</td>\n",
       "      <td>1886</td>\n",
       "      <td>441</td>\n",
       "      <td>48</td>\n",
       "      <td>Glasgow</td>\n",
       "      <td>Scotland</td>\n",
       "      <td>None</td>\n",
       "    </tr>\n",
       "    <tr>\n",
       "      <th>6</th>\n",
       "      <td>Bisacquino, Sicily, Italy</td>\n",
       "      <td>18-May-1897</td>\n",
       "      <td>White</td>\n",
       "      <td>1935</td>\n",
       "      <td>Best Director</td>\n",
       "      <td>1897-05-18</td>\n",
       "      <td>1897</td>\n",
       "      <td>441</td>\n",
       "      <td>38</td>\n",
       "      <td>Bisacquino</td>\n",
       "      <td>Sicily</td>\n",
       "      <td>Italy</td>\n",
       "    </tr>\n",
       "    <tr>\n",
       "      <th>7</th>\n",
       "      <td>Cape Elizabeth, Me</td>\n",
       "      <td>1-Feb-1894</td>\n",
       "      <td>White</td>\n",
       "      <td>1936</td>\n",
       "      <td>Best Director</td>\n",
       "      <td>1894-02-01</td>\n",
       "      <td>1894</td>\n",
       "      <td>441</td>\n",
       "      <td>42</td>\n",
       "      <td>Cape Elizabeth</td>\n",
       "      <td>Me</td>\n",
       "      <td>None</td>\n",
       "    </tr>\n",
       "    <tr>\n",
       "      <th>8</th>\n",
       "      <td>Bisacquino, Sicily, Italy</td>\n",
       "      <td>18-May-1897</td>\n",
       "      <td>White</td>\n",
       "      <td>1937</td>\n",
       "      <td>Best Director</td>\n",
       "      <td>1897-05-18</td>\n",
       "      <td>1897</td>\n",
       "      <td>441</td>\n",
       "      <td>40</td>\n",
       "      <td>Bisacquino</td>\n",
       "      <td>Sicily</td>\n",
       "      <td>Italy</td>\n",
       "    </tr>\n",
       "    <tr>\n",
       "      <th>9</th>\n",
       "      <td>Los Angeles, Ca</td>\n",
       "      <td>3-Oct-1898</td>\n",
       "      <td>White</td>\n",
       "      <td>1938</td>\n",
       "      <td>Best Director</td>\n",
       "      <td>1898-10-03</td>\n",
       "      <td>1898</td>\n",
       "      <td>441</td>\n",
       "      <td>40</td>\n",
       "      <td>Los Angeles</td>\n",
       "      <td>Ca</td>\n",
       "      <td>None</td>\n",
       "    </tr>\n",
       "  </tbody>\n",
       "</table>\n",
       "</div>"
      ],
      "text/plain": [
       "                  birthplace date_of_birth race_ethnicity  year_of_award  \\\n",
       "0          Chisinau, Moldova   30-Sep-1895          White           1927   \n",
       "1          Glasgow, Scotland    2-Feb-1886          White           1930   \n",
       "2          Chisinau, Moldova   30-Sep-1895          White           1931   \n",
       "3                Chicago, Il   23-Feb-1899          White           1932   \n",
       "4         Salt Lake City, Ut   23-Apr-1894          White           1933   \n",
       "5          Glasgow, Scotland    2-Feb-1886          White           1934   \n",
       "6  Bisacquino, Sicily, Italy   18-May-1897          White           1935   \n",
       "7         Cape Elizabeth, Me    1-Feb-1894          White           1936   \n",
       "8  Bisacquino, Sicily, Italy   18-May-1897          White           1937   \n",
       "9            Los Angeles, Ca    3-Oct-1898          White           1938   \n",
       "\n",
       "           award  BirthDate  BirthYear  ldob  award_age            city  \\\n",
       "0  Best Director 1895-09-30       1895   441         32        Chisinau   \n",
       "1  Best Director 1886-02-02       1886   441         44         Glasgow   \n",
       "2  Best Director 1895-09-30       1895   441         36        Chisinau   \n",
       "3  Best Director 1899-02-23       1899   441         33         Chicago   \n",
       "4  Best Director 1894-04-23       1894   441         39  Salt Lake City   \n",
       "5  Best Director 1886-02-02       1886   441         48         Glasgow   \n",
       "6  Best Director 1897-05-18       1897   441         38      Bisacquino   \n",
       "7  Best Director 1894-02-01       1894   441         42  Cape Elizabeth   \n",
       "8  Best Director 1897-05-18       1897   441         40      Bisacquino   \n",
       "9  Best Director 1898-10-03       1898   441         40     Los Angeles   \n",
       "\n",
       "       state country  \n",
       "0    Moldova    None  \n",
       "1   Scotland    None  \n",
       "2    Moldova    None  \n",
       "3         Il    None  \n",
       "4         Ut    None  \n",
       "5   Scotland    None  \n",
       "6     Sicily   Italy  \n",
       "7         Me    None  \n",
       "8     Sicily   Italy  \n",
       "9         Ca    None  "
      ]
     },
     "execution_count": 20,
     "metadata": {},
     "output_type": "execute_result"
    }
   ],
   "source": [
    "oscars_df.head(10)"
   ]
  },
  {
   "cell_type": "code",
   "execution_count": 21,
   "metadata": {
    "executionInfo": {
     "elapsed": 620,
     "status": "ok",
     "timestamp": 1616652845785,
     "user": {
      "displayName": "Ajit luthais",
      "photoUrl": "https://lh3.googleusercontent.com/a-/AOh14GitOLbY4m8m102_e2e-5q3QGzZ8wBNU6ARLYZSAyQ=s64",
      "userId": "05903121354884129241"
     },
     "user_tz": 0
    },
    "id": "Uy3d01Y_oNDT"
   },
   "outputs": [],
   "source": [
    "#As all the values for state for new York city was empty we filled the empty fields with NY\n",
    "oscars_df['state']=oscars_df['state'].fillna('Ny')"
   ]
  },
  {
   "cell_type": "code",
   "execution_count": 22,
   "metadata": {
    "executionInfo": {
     "elapsed": 723,
     "status": "ok",
     "timestamp": 1616652847756,
     "user": {
      "displayName": "Ajit luthais",
      "photoUrl": "https://lh3.googleusercontent.com/a-/AOh14GitOLbY4m8m102_e2e-5q3QGzZ8wBNU6ARLYZSAyQ=s64",
      "userId": "05903121354884129241"
     },
     "user_tz": 0
    },
    "id": "kcwcek_MoNDU"
   },
   "outputs": [],
   "source": [
    "#combining the values in country and state as the values in country were less\n",
    "oscars_df[\"country\"].fillna(oscars_df[\"state\"], inplace=True)"
   ]
  },
  {
   "cell_type": "code",
   "execution_count": 23,
   "metadata": {
    "executionInfo": {
     "elapsed": 697,
     "status": "ok",
     "timestamp": 1616652849712,
     "user": {
      "displayName": "Ajit luthais",
      "photoUrl": "https://lh3.googleusercontent.com/a-/AOh14GitOLbY4m8m102_e2e-5q3QGzZ8wBNU6ARLYZSAyQ=s64",
      "userId": "05903121354884129241"
     },
     "user_tz": 0
    },
    "id": "yjFmY9YOoNDU"
   },
   "outputs": [],
   "source": [
    "#Changing States in USA to Country name \"USA\"\n",
    "oscars_df['country'] = oscars_df['country'].apply(lambda a: a if len(str(a))!=3 else 'USA')"
   ]
  },
  {
   "cell_type": "code",
   "execution_count": 24,
   "metadata": {
    "colab": {
     "base_uri": "https://localhost:8080/",
     "height": 359
    },
    "executionInfo": {
     "elapsed": 550,
     "status": "ok",
     "timestamp": 1616361367531,
     "user": {
      "displayName": "Ajit luthais",
      "photoUrl": "https://lh3.googleusercontent.com/a-/AOh14GitOLbY4m8m102_e2e-5q3QGzZ8wBNU6ARLYZSAyQ=s64",
      "userId": "05903121354884129241"
     },
     "user_tz": 0
    },
    "id": "80W5jk9_oNDV",
    "outputId": "afe5ac51-275a-4404-d440-15a8aab04537"
   },
   "outputs": [
    {
     "data": {
      "text/html": [
       "<div>\n",
       "<style scoped>\n",
       "    .dataframe tbody tr th:only-of-type {\n",
       "        vertical-align: middle;\n",
       "    }\n",
       "\n",
       "    .dataframe tbody tr th {\n",
       "        vertical-align: top;\n",
       "    }\n",
       "\n",
       "    .dataframe thead th {\n",
       "        text-align: right;\n",
       "    }\n",
       "</style>\n",
       "<table border=\"1\" class=\"dataframe\">\n",
       "  <thead>\n",
       "    <tr style=\"text-align: right;\">\n",
       "      <th></th>\n",
       "      <th>birthplace</th>\n",
       "      <th>date_of_birth</th>\n",
       "      <th>race_ethnicity</th>\n",
       "      <th>year_of_award</th>\n",
       "      <th>award</th>\n",
       "      <th>BirthDate</th>\n",
       "      <th>BirthYear</th>\n",
       "      <th>ldob</th>\n",
       "      <th>award_age</th>\n",
       "      <th>city</th>\n",
       "      <th>state</th>\n",
       "      <th>country</th>\n",
       "    </tr>\n",
       "  </thead>\n",
       "  <tbody>\n",
       "    <tr>\n",
       "      <th>0</th>\n",
       "      <td>Chisinau, Moldova</td>\n",
       "      <td>30-Sep-1895</td>\n",
       "      <td>White</td>\n",
       "      <td>1927</td>\n",
       "      <td>Best Director</td>\n",
       "      <td>1895-09-30</td>\n",
       "      <td>1895</td>\n",
       "      <td>441</td>\n",
       "      <td>32</td>\n",
       "      <td>Chisinau</td>\n",
       "      <td>Moldova</td>\n",
       "      <td>Moldova</td>\n",
       "    </tr>\n",
       "    <tr>\n",
       "      <th>1</th>\n",
       "      <td>Glasgow, Scotland</td>\n",
       "      <td>2-Feb-1886</td>\n",
       "      <td>White</td>\n",
       "      <td>1930</td>\n",
       "      <td>Best Director</td>\n",
       "      <td>1886-02-02</td>\n",
       "      <td>1886</td>\n",
       "      <td>441</td>\n",
       "      <td>44</td>\n",
       "      <td>Glasgow</td>\n",
       "      <td>Scotland</td>\n",
       "      <td>Scotland</td>\n",
       "    </tr>\n",
       "    <tr>\n",
       "      <th>2</th>\n",
       "      <td>Chisinau, Moldova</td>\n",
       "      <td>30-Sep-1895</td>\n",
       "      <td>White</td>\n",
       "      <td>1931</td>\n",
       "      <td>Best Director</td>\n",
       "      <td>1895-09-30</td>\n",
       "      <td>1895</td>\n",
       "      <td>441</td>\n",
       "      <td>36</td>\n",
       "      <td>Chisinau</td>\n",
       "      <td>Moldova</td>\n",
       "      <td>Moldova</td>\n",
       "    </tr>\n",
       "    <tr>\n",
       "      <th>3</th>\n",
       "      <td>Chicago, Il</td>\n",
       "      <td>23-Feb-1899</td>\n",
       "      <td>White</td>\n",
       "      <td>1932</td>\n",
       "      <td>Best Director</td>\n",
       "      <td>1899-02-23</td>\n",
       "      <td>1899</td>\n",
       "      <td>441</td>\n",
       "      <td>33</td>\n",
       "      <td>Chicago</td>\n",
       "      <td>Il</td>\n",
       "      <td>USA</td>\n",
       "    </tr>\n",
       "    <tr>\n",
       "      <th>4</th>\n",
       "      <td>Salt Lake City, Ut</td>\n",
       "      <td>23-Apr-1894</td>\n",
       "      <td>White</td>\n",
       "      <td>1933</td>\n",
       "      <td>Best Director</td>\n",
       "      <td>1894-04-23</td>\n",
       "      <td>1894</td>\n",
       "      <td>441</td>\n",
       "      <td>39</td>\n",
       "      <td>Salt Lake City</td>\n",
       "      <td>Ut</td>\n",
       "      <td>USA</td>\n",
       "    </tr>\n",
       "    <tr>\n",
       "      <th>5</th>\n",
       "      <td>Glasgow, Scotland</td>\n",
       "      <td>2-Feb-1886</td>\n",
       "      <td>White</td>\n",
       "      <td>1934</td>\n",
       "      <td>Best Director</td>\n",
       "      <td>1886-02-02</td>\n",
       "      <td>1886</td>\n",
       "      <td>441</td>\n",
       "      <td>48</td>\n",
       "      <td>Glasgow</td>\n",
       "      <td>Scotland</td>\n",
       "      <td>Scotland</td>\n",
       "    </tr>\n",
       "    <tr>\n",
       "      <th>6</th>\n",
       "      <td>Bisacquino, Sicily, Italy</td>\n",
       "      <td>18-May-1897</td>\n",
       "      <td>White</td>\n",
       "      <td>1935</td>\n",
       "      <td>Best Director</td>\n",
       "      <td>1897-05-18</td>\n",
       "      <td>1897</td>\n",
       "      <td>441</td>\n",
       "      <td>38</td>\n",
       "      <td>Bisacquino</td>\n",
       "      <td>Sicily</td>\n",
       "      <td>Italy</td>\n",
       "    </tr>\n",
       "    <tr>\n",
       "      <th>7</th>\n",
       "      <td>Cape Elizabeth, Me</td>\n",
       "      <td>1-Feb-1894</td>\n",
       "      <td>White</td>\n",
       "      <td>1936</td>\n",
       "      <td>Best Director</td>\n",
       "      <td>1894-02-01</td>\n",
       "      <td>1894</td>\n",
       "      <td>441</td>\n",
       "      <td>42</td>\n",
       "      <td>Cape Elizabeth</td>\n",
       "      <td>Me</td>\n",
       "      <td>USA</td>\n",
       "    </tr>\n",
       "    <tr>\n",
       "      <th>8</th>\n",
       "      <td>Bisacquino, Sicily, Italy</td>\n",
       "      <td>18-May-1897</td>\n",
       "      <td>White</td>\n",
       "      <td>1937</td>\n",
       "      <td>Best Director</td>\n",
       "      <td>1897-05-18</td>\n",
       "      <td>1897</td>\n",
       "      <td>441</td>\n",
       "      <td>40</td>\n",
       "      <td>Bisacquino</td>\n",
       "      <td>Sicily</td>\n",
       "      <td>Italy</td>\n",
       "    </tr>\n",
       "    <tr>\n",
       "      <th>9</th>\n",
       "      <td>Los Angeles, Ca</td>\n",
       "      <td>3-Oct-1898</td>\n",
       "      <td>White</td>\n",
       "      <td>1938</td>\n",
       "      <td>Best Director</td>\n",
       "      <td>1898-10-03</td>\n",
       "      <td>1898</td>\n",
       "      <td>441</td>\n",
       "      <td>40</td>\n",
       "      <td>Los Angeles</td>\n",
       "      <td>Ca</td>\n",
       "      <td>USA</td>\n",
       "    </tr>\n",
       "  </tbody>\n",
       "</table>\n",
       "</div>"
      ],
      "text/plain": [
       "                  birthplace date_of_birth race_ethnicity  year_of_award  \\\n",
       "0          Chisinau, Moldova   30-Sep-1895          White           1927   \n",
       "1          Glasgow, Scotland    2-Feb-1886          White           1930   \n",
       "2          Chisinau, Moldova   30-Sep-1895          White           1931   \n",
       "3                Chicago, Il   23-Feb-1899          White           1932   \n",
       "4         Salt Lake City, Ut   23-Apr-1894          White           1933   \n",
       "5          Glasgow, Scotland    2-Feb-1886          White           1934   \n",
       "6  Bisacquino, Sicily, Italy   18-May-1897          White           1935   \n",
       "7         Cape Elizabeth, Me    1-Feb-1894          White           1936   \n",
       "8  Bisacquino, Sicily, Italy   18-May-1897          White           1937   \n",
       "9            Los Angeles, Ca    3-Oct-1898          White           1938   \n",
       "\n",
       "           award  BirthDate  BirthYear  ldob  award_age            city  \\\n",
       "0  Best Director 1895-09-30       1895   441         32        Chisinau   \n",
       "1  Best Director 1886-02-02       1886   441         44         Glasgow   \n",
       "2  Best Director 1895-09-30       1895   441         36        Chisinau   \n",
       "3  Best Director 1899-02-23       1899   441         33         Chicago   \n",
       "4  Best Director 1894-04-23       1894   441         39  Salt Lake City   \n",
       "5  Best Director 1886-02-02       1886   441         48         Glasgow   \n",
       "6  Best Director 1897-05-18       1897   441         38      Bisacquino   \n",
       "7  Best Director 1894-02-01       1894   441         42  Cape Elizabeth   \n",
       "8  Best Director 1897-05-18       1897   441         40      Bisacquino   \n",
       "9  Best Director 1898-10-03       1898   441         40     Los Angeles   \n",
       "\n",
       "       state    country  \n",
       "0    Moldova    Moldova  \n",
       "1   Scotland   Scotland  \n",
       "2    Moldova    Moldova  \n",
       "3         Il        USA  \n",
       "4         Ut        USA  \n",
       "5   Scotland   Scotland  \n",
       "6     Sicily      Italy  \n",
       "7         Me        USA  \n",
       "8     Sicily      Italy  \n",
       "9         Ca        USA  "
      ]
     },
     "execution_count": 24,
     "metadata": {},
     "output_type": "execute_result"
    }
   ],
   "source": [
    "oscars_df.head(10)"
   ]
  },
  {
   "cell_type": "code",
   "execution_count": 25,
   "metadata": {
    "executionInfo": {
     "elapsed": 668,
     "status": "ok",
     "timestamp": 1616652852583,
     "user": {
      "displayName": "Ajit luthais",
      "photoUrl": "https://lh3.googleusercontent.com/a-/AOh14GitOLbY4m8m102_e2e-5q3QGzZ8wBNU6ARLYZSAyQ=s64",
      "userId": "05903121354884129241"
     },
     "user_tz": 0
    },
    "id": "ZY9ia9fLoNDV"
   },
   "outputs": [],
   "source": [
    "#replacing unchanged values\n",
    "oscars_df[\"country\"].replace({\"Alsace,France\":\"France\", \"Yorkshire, England\": \"England\",\"Tuscany, Italy\":\"Italy\",\"Ny\":\"USA\"}, inplace=True)"
   ]
  },
  {
   "cell_type": "code",
   "execution_count": 26,
   "metadata": {
    "colab": {
     "base_uri": "https://localhost:8080/",
     "height": 49
    },
    "executionInfo": {
     "elapsed": 615,
     "status": "ok",
     "timestamp": 1616652854213,
     "user": {
      "displayName": "Ajit luthais",
      "photoUrl": "https://lh3.googleusercontent.com/a-/AOh14GitOLbY4m8m102_e2e-5q3QGzZ8wBNU6ARLYZSAyQ=s64",
      "userId": "05903121354884129241"
     },
     "user_tz": 0
    },
    "id": "eWWcY4iioNDV",
    "outputId": "8bf89e55-510d-42ee-9623-f820e1926179"
   },
   "outputs": [
    {
     "data": {
      "text/html": [
       "<div>\n",
       "<style scoped>\n",
       "    .dataframe tbody tr th:only-of-type {\n",
       "        vertical-align: middle;\n",
       "    }\n",
       "\n",
       "    .dataframe tbody tr th {\n",
       "        vertical-align: top;\n",
       "    }\n",
       "\n",
       "    .dataframe thead th {\n",
       "        text-align: right;\n",
       "    }\n",
       "</style>\n",
       "<table border=\"1\" class=\"dataframe\">\n",
       "  <thead>\n",
       "    <tr style=\"text-align: right;\">\n",
       "      <th></th>\n",
       "      <th>birthplace</th>\n",
       "      <th>date_of_birth</th>\n",
       "      <th>race_ethnicity</th>\n",
       "      <th>year_of_award</th>\n",
       "      <th>award</th>\n",
       "      <th>BirthDate</th>\n",
       "      <th>BirthYear</th>\n",
       "      <th>ldob</th>\n",
       "      <th>award_age</th>\n",
       "      <th>city</th>\n",
       "      <th>state</th>\n",
       "      <th>country</th>\n",
       "    </tr>\n",
       "  </thead>\n",
       "  <tbody>\n",
       "  </tbody>\n",
       "</table>\n",
       "</div>"
      ],
      "text/plain": [
       "Empty DataFrame\n",
       "Columns: [birthplace, date_of_birth, race_ethnicity, year_of_award, award, BirthDate, BirthYear, ldob, award_age, city, state, country]\n",
       "Index: []"
      ]
     },
     "execution_count": 26,
     "metadata": {},
     "output_type": "execute_result"
    }
   ],
   "source": [
    "oscars_df[oscars_df['birthplace'].isnull()]"
   ]
  },
  {
   "cell_type": "code",
   "execution_count": 27,
   "metadata": {
    "executionInfo": {
     "elapsed": 952,
     "status": "ok",
     "timestamp": 1616652857081,
     "user": {
      "displayName": "Ajit luthais",
      "photoUrl": "https://lh3.googleusercontent.com/a-/AOh14GitOLbY4m8m102_e2e-5q3QGzZ8wBNU6ARLYZSAyQ=s64",
      "userId": "05903121354884129241"
     },
     "user_tz": 0
    },
    "id": "4HPoSFOzoNDW"
   },
   "outputs": [],
   "source": [
    "#Dropping Converted columns\n",
    "oscars_df.drop(['birthplace','date_of_birth'], axis=1, inplace=True)\n"
   ]
  },
  {
   "cell_type": "code",
   "execution_count": 28,
   "metadata": {
    "id": "0wXogNkBoNDW",
    "outputId": "d2019963-0af7-4744-f953-399e64a1bfb6"
   },
   "outputs": [
    {
     "data": {
      "text/html": [
       "<div>\n",
       "<style scoped>\n",
       "    .dataframe tbody tr th:only-of-type {\n",
       "        vertical-align: middle;\n",
       "    }\n",
       "\n",
       "    .dataframe tbody tr th {\n",
       "        vertical-align: top;\n",
       "    }\n",
       "\n",
       "    .dataframe thead th {\n",
       "        text-align: right;\n",
       "    }\n",
       "</style>\n",
       "<table border=\"1\" class=\"dataframe\">\n",
       "  <thead>\n",
       "    <tr style=\"text-align: right;\">\n",
       "      <th></th>\n",
       "      <th>race_ethnicity</th>\n",
       "      <th>year_of_award</th>\n",
       "      <th>award</th>\n",
       "      <th>BirthDate</th>\n",
       "      <th>BirthYear</th>\n",
       "      <th>ldob</th>\n",
       "      <th>award_age</th>\n",
       "      <th>city</th>\n",
       "      <th>state</th>\n",
       "      <th>country</th>\n",
       "    </tr>\n",
       "  </thead>\n",
       "  <tbody>\n",
       "    <tr>\n",
       "      <th>0</th>\n",
       "      <td>White</td>\n",
       "      <td>1927</td>\n",
       "      <td>Best Director</td>\n",
       "      <td>1895-09-30</td>\n",
       "      <td>1895</td>\n",
       "      <td>441</td>\n",
       "      <td>32</td>\n",
       "      <td>Chisinau</td>\n",
       "      <td>Moldova</td>\n",
       "      <td>Moldova</td>\n",
       "    </tr>\n",
       "    <tr>\n",
       "      <th>1</th>\n",
       "      <td>White</td>\n",
       "      <td>1930</td>\n",
       "      <td>Best Director</td>\n",
       "      <td>1886-02-02</td>\n",
       "      <td>1886</td>\n",
       "      <td>441</td>\n",
       "      <td>44</td>\n",
       "      <td>Glasgow</td>\n",
       "      <td>Scotland</td>\n",
       "      <td>Scotland</td>\n",
       "    </tr>\n",
       "    <tr>\n",
       "      <th>2</th>\n",
       "      <td>White</td>\n",
       "      <td>1931</td>\n",
       "      <td>Best Director</td>\n",
       "      <td>1895-09-30</td>\n",
       "      <td>1895</td>\n",
       "      <td>441</td>\n",
       "      <td>36</td>\n",
       "      <td>Chisinau</td>\n",
       "      <td>Moldova</td>\n",
       "      <td>Moldova</td>\n",
       "    </tr>\n",
       "    <tr>\n",
       "      <th>3</th>\n",
       "      <td>White</td>\n",
       "      <td>1932</td>\n",
       "      <td>Best Director</td>\n",
       "      <td>1899-02-23</td>\n",
       "      <td>1899</td>\n",
       "      <td>441</td>\n",
       "      <td>33</td>\n",
       "      <td>Chicago</td>\n",
       "      <td>Il</td>\n",
       "      <td>USA</td>\n",
       "    </tr>\n",
       "    <tr>\n",
       "      <th>4</th>\n",
       "      <td>White</td>\n",
       "      <td>1933</td>\n",
       "      <td>Best Director</td>\n",
       "      <td>1894-04-23</td>\n",
       "      <td>1894</td>\n",
       "      <td>441</td>\n",
       "      <td>39</td>\n",
       "      <td>Salt Lake City</td>\n",
       "      <td>Ut</td>\n",
       "      <td>USA</td>\n",
       "    </tr>\n",
       "    <tr>\n",
       "      <th>5</th>\n",
       "      <td>White</td>\n",
       "      <td>1934</td>\n",
       "      <td>Best Director</td>\n",
       "      <td>1886-02-02</td>\n",
       "      <td>1886</td>\n",
       "      <td>441</td>\n",
       "      <td>48</td>\n",
       "      <td>Glasgow</td>\n",
       "      <td>Scotland</td>\n",
       "      <td>Scotland</td>\n",
       "    </tr>\n",
       "    <tr>\n",
       "      <th>6</th>\n",
       "      <td>White</td>\n",
       "      <td>1935</td>\n",
       "      <td>Best Director</td>\n",
       "      <td>1897-05-18</td>\n",
       "      <td>1897</td>\n",
       "      <td>441</td>\n",
       "      <td>38</td>\n",
       "      <td>Bisacquino</td>\n",
       "      <td>Sicily</td>\n",
       "      <td>Italy</td>\n",
       "    </tr>\n",
       "    <tr>\n",
       "      <th>7</th>\n",
       "      <td>White</td>\n",
       "      <td>1936</td>\n",
       "      <td>Best Director</td>\n",
       "      <td>1894-02-01</td>\n",
       "      <td>1894</td>\n",
       "      <td>441</td>\n",
       "      <td>42</td>\n",
       "      <td>Cape Elizabeth</td>\n",
       "      <td>Me</td>\n",
       "      <td>USA</td>\n",
       "    </tr>\n",
       "    <tr>\n",
       "      <th>8</th>\n",
       "      <td>White</td>\n",
       "      <td>1937</td>\n",
       "      <td>Best Director</td>\n",
       "      <td>1897-05-18</td>\n",
       "      <td>1897</td>\n",
       "      <td>441</td>\n",
       "      <td>40</td>\n",
       "      <td>Bisacquino</td>\n",
       "      <td>Sicily</td>\n",
       "      <td>Italy</td>\n",
       "    </tr>\n",
       "    <tr>\n",
       "      <th>9</th>\n",
       "      <td>White</td>\n",
       "      <td>1938</td>\n",
       "      <td>Best Director</td>\n",
       "      <td>1898-10-03</td>\n",
       "      <td>1898</td>\n",
       "      <td>441</td>\n",
       "      <td>40</td>\n",
       "      <td>Los Angeles</td>\n",
       "      <td>Ca</td>\n",
       "      <td>USA</td>\n",
       "    </tr>\n",
       "  </tbody>\n",
       "</table>\n",
       "</div>"
      ],
      "text/plain": [
       "  race_ethnicity  year_of_award          award  BirthDate  BirthYear  ldob  \\\n",
       "0          White           1927  Best Director 1895-09-30       1895   441   \n",
       "1          White           1930  Best Director 1886-02-02       1886   441   \n",
       "2          White           1931  Best Director 1895-09-30       1895   441   \n",
       "3          White           1932  Best Director 1899-02-23       1899   441   \n",
       "4          White           1933  Best Director 1894-04-23       1894   441   \n",
       "5          White           1934  Best Director 1886-02-02       1886   441   \n",
       "6          White           1935  Best Director 1897-05-18       1897   441   \n",
       "7          White           1936  Best Director 1894-02-01       1894   441   \n",
       "8          White           1937  Best Director 1897-05-18       1897   441   \n",
       "9          White           1938  Best Director 1898-10-03       1898   441   \n",
       "\n",
       "   award_age            city      state    country  \n",
       "0         32        Chisinau    Moldova    Moldova  \n",
       "1         44         Glasgow   Scotland   Scotland  \n",
       "2         36        Chisinau    Moldova    Moldova  \n",
       "3         33         Chicago         Il        USA  \n",
       "4         39  Salt Lake City         Ut        USA  \n",
       "5         48         Glasgow   Scotland   Scotland  \n",
       "6         38      Bisacquino     Sicily      Italy  \n",
       "7         42  Cape Elizabeth         Me        USA  \n",
       "8         40      Bisacquino     Sicily      Italy  \n",
       "9         40     Los Angeles         Ca        USA  "
      ]
     },
     "execution_count": 28,
     "metadata": {},
     "output_type": "execute_result"
    }
   ],
   "source": [
    "oscars_df.head(10)"
   ]
  },
  {
   "cell_type": "code",
   "execution_count": 29,
   "metadata": {
    "executionInfo": {
     "elapsed": 640,
     "status": "ok",
     "timestamp": 1616652860305,
     "user": {
      "displayName": "Ajit luthais",
      "photoUrl": "https://lh3.googleusercontent.com/a-/AOh14GitOLbY4m8m102_e2e-5q3QGzZ8wBNU6ARLYZSAyQ=s64",
      "userId": "05903121354884129241"
     },
     "user_tz": 0
    },
    "id": "nlEew2nBoNDW"
   },
   "outputs": [],
   "source": [
    "#Changing Column Names\n",
    "oscars_df =oscars_df.rename(columns={'BirthDate':'Date_of_Birth', 'city': 'City_of_birth','state':'Birth_State','country':'Country_of_birth'})"
   ]
  },
  {
   "cell_type": "code",
   "execution_count": 30,
   "metadata": {
    "id": "obV3dvQyoNDX",
    "outputId": "f3e6e680-9dd2-4647-99d4-dd9065ce65bb"
   },
   "outputs": [
    {
     "data": {
      "text/html": [
       "<div>\n",
       "<style scoped>\n",
       "    .dataframe tbody tr th:only-of-type {\n",
       "        vertical-align: middle;\n",
       "    }\n",
       "\n",
       "    .dataframe tbody tr th {\n",
       "        vertical-align: top;\n",
       "    }\n",
       "\n",
       "    .dataframe thead th {\n",
       "        text-align: right;\n",
       "    }\n",
       "</style>\n",
       "<table border=\"1\" class=\"dataframe\">\n",
       "  <thead>\n",
       "    <tr style=\"text-align: right;\">\n",
       "      <th></th>\n",
       "      <th>race_ethnicity</th>\n",
       "      <th>year_of_award</th>\n",
       "      <th>award</th>\n",
       "      <th>Date_of_Birth</th>\n",
       "      <th>BirthYear</th>\n",
       "      <th>ldob</th>\n",
       "      <th>award_age</th>\n",
       "      <th>City_of_birth</th>\n",
       "      <th>Birth_State</th>\n",
       "      <th>Country_of_birth</th>\n",
       "    </tr>\n",
       "  </thead>\n",
       "  <tbody>\n",
       "    <tr>\n",
       "      <th>0</th>\n",
       "      <td>White</td>\n",
       "      <td>1927</td>\n",
       "      <td>Best Director</td>\n",
       "      <td>1895-09-30</td>\n",
       "      <td>1895</td>\n",
       "      <td>441</td>\n",
       "      <td>32</td>\n",
       "      <td>Chisinau</td>\n",
       "      <td>Moldova</td>\n",
       "      <td>Moldova</td>\n",
       "    </tr>\n",
       "    <tr>\n",
       "      <th>1</th>\n",
       "      <td>White</td>\n",
       "      <td>1930</td>\n",
       "      <td>Best Director</td>\n",
       "      <td>1886-02-02</td>\n",
       "      <td>1886</td>\n",
       "      <td>441</td>\n",
       "      <td>44</td>\n",
       "      <td>Glasgow</td>\n",
       "      <td>Scotland</td>\n",
       "      <td>Scotland</td>\n",
       "    </tr>\n",
       "    <tr>\n",
       "      <th>2</th>\n",
       "      <td>White</td>\n",
       "      <td>1931</td>\n",
       "      <td>Best Director</td>\n",
       "      <td>1895-09-30</td>\n",
       "      <td>1895</td>\n",
       "      <td>441</td>\n",
       "      <td>36</td>\n",
       "      <td>Chisinau</td>\n",
       "      <td>Moldova</td>\n",
       "      <td>Moldova</td>\n",
       "    </tr>\n",
       "    <tr>\n",
       "      <th>3</th>\n",
       "      <td>White</td>\n",
       "      <td>1932</td>\n",
       "      <td>Best Director</td>\n",
       "      <td>1899-02-23</td>\n",
       "      <td>1899</td>\n",
       "      <td>441</td>\n",
       "      <td>33</td>\n",
       "      <td>Chicago</td>\n",
       "      <td>Il</td>\n",
       "      <td>USA</td>\n",
       "    </tr>\n",
       "    <tr>\n",
       "      <th>4</th>\n",
       "      <td>White</td>\n",
       "      <td>1933</td>\n",
       "      <td>Best Director</td>\n",
       "      <td>1894-04-23</td>\n",
       "      <td>1894</td>\n",
       "      <td>441</td>\n",
       "      <td>39</td>\n",
       "      <td>Salt Lake City</td>\n",
       "      <td>Ut</td>\n",
       "      <td>USA</td>\n",
       "    </tr>\n",
       "    <tr>\n",
       "      <th>5</th>\n",
       "      <td>White</td>\n",
       "      <td>1934</td>\n",
       "      <td>Best Director</td>\n",
       "      <td>1886-02-02</td>\n",
       "      <td>1886</td>\n",
       "      <td>441</td>\n",
       "      <td>48</td>\n",
       "      <td>Glasgow</td>\n",
       "      <td>Scotland</td>\n",
       "      <td>Scotland</td>\n",
       "    </tr>\n",
       "    <tr>\n",
       "      <th>6</th>\n",
       "      <td>White</td>\n",
       "      <td>1935</td>\n",
       "      <td>Best Director</td>\n",
       "      <td>1897-05-18</td>\n",
       "      <td>1897</td>\n",
       "      <td>441</td>\n",
       "      <td>38</td>\n",
       "      <td>Bisacquino</td>\n",
       "      <td>Sicily</td>\n",
       "      <td>Italy</td>\n",
       "    </tr>\n",
       "    <tr>\n",
       "      <th>7</th>\n",
       "      <td>White</td>\n",
       "      <td>1936</td>\n",
       "      <td>Best Director</td>\n",
       "      <td>1894-02-01</td>\n",
       "      <td>1894</td>\n",
       "      <td>441</td>\n",
       "      <td>42</td>\n",
       "      <td>Cape Elizabeth</td>\n",
       "      <td>Me</td>\n",
       "      <td>USA</td>\n",
       "    </tr>\n",
       "    <tr>\n",
       "      <th>8</th>\n",
       "      <td>White</td>\n",
       "      <td>1937</td>\n",
       "      <td>Best Director</td>\n",
       "      <td>1897-05-18</td>\n",
       "      <td>1897</td>\n",
       "      <td>441</td>\n",
       "      <td>40</td>\n",
       "      <td>Bisacquino</td>\n",
       "      <td>Sicily</td>\n",
       "      <td>Italy</td>\n",
       "    </tr>\n",
       "    <tr>\n",
       "      <th>9</th>\n",
       "      <td>White</td>\n",
       "      <td>1938</td>\n",
       "      <td>Best Director</td>\n",
       "      <td>1898-10-03</td>\n",
       "      <td>1898</td>\n",
       "      <td>441</td>\n",
       "      <td>40</td>\n",
       "      <td>Los Angeles</td>\n",
       "      <td>Ca</td>\n",
       "      <td>USA</td>\n",
       "    </tr>\n",
       "  </tbody>\n",
       "</table>\n",
       "</div>"
      ],
      "text/plain": [
       "  race_ethnicity  year_of_award          award Date_of_Birth  BirthYear  ldob  \\\n",
       "0          White           1927  Best Director    1895-09-30       1895   441   \n",
       "1          White           1930  Best Director    1886-02-02       1886   441   \n",
       "2          White           1931  Best Director    1895-09-30       1895   441   \n",
       "3          White           1932  Best Director    1899-02-23       1899   441   \n",
       "4          White           1933  Best Director    1894-04-23       1894   441   \n",
       "5          White           1934  Best Director    1886-02-02       1886   441   \n",
       "6          White           1935  Best Director    1897-05-18       1897   441   \n",
       "7          White           1936  Best Director    1894-02-01       1894   441   \n",
       "8          White           1937  Best Director    1897-05-18       1897   441   \n",
       "9          White           1938  Best Director    1898-10-03       1898   441   \n",
       "\n",
       "   award_age   City_of_birth Birth_State Country_of_birth  \n",
       "0         32        Chisinau     Moldova          Moldova  \n",
       "1         44         Glasgow    Scotland         Scotland  \n",
       "2         36        Chisinau     Moldova          Moldova  \n",
       "3         33         Chicago          Il              USA  \n",
       "4         39  Salt Lake City          Ut              USA  \n",
       "5         48         Glasgow    Scotland         Scotland  \n",
       "6         38      Bisacquino      Sicily            Italy  \n",
       "7         42  Cape Elizabeth          Me              USA  \n",
       "8         40      Bisacquino      Sicily            Italy  \n",
       "9         40     Los Angeles          Ca              USA  "
      ]
     },
     "execution_count": 30,
     "metadata": {},
     "output_type": "execute_result"
    }
   ],
   "source": [
    "oscars_df.head(10)"
   ]
  },
  {
   "cell_type": "code",
   "execution_count": 31,
   "metadata": {
    "executionInfo": {
     "elapsed": 650,
     "status": "ok",
     "timestamp": 1616652863433,
     "user": {
      "displayName": "Ajit luthais",
      "photoUrl": "https://lh3.googleusercontent.com/a-/AOh14GitOLbY4m8m102_e2e-5q3QGzZ8wBNU6ARLYZSAyQ=s64",
      "userId": "05903121354884129241"
     },
     "user_tz": 0
    },
    "id": "xbflZBOMoNDX"
   },
   "outputs": [],
   "source": [
    "#age categorization\n",
    "#Creating age group bins which will category the people under the age gr\n",
    "oscars_df['Age_buckets'] = pd.cut(x=oscars_df['award_age'], bins=[0, 35, 45, 55, 100])\n"
   ]
  },
  {
   "cell_type": "code",
   "execution_count": 32,
   "metadata": {
    "colab": {
     "base_uri": "https://localhost:8080/",
     "height": 419
    },
    "executionInfo": {
     "elapsed": 803,
     "status": "ok",
     "timestamp": 1616652866746,
     "user": {
      "displayName": "Ajit luthais",
      "photoUrl": "https://lh3.googleusercontent.com/a-/AOh14GitOLbY4m8m102_e2e-5q3QGzZ8wBNU6ARLYZSAyQ=s64",
      "userId": "05903121354884129241"
     },
     "user_tz": 0
    },
    "id": "nU8hgztDoNDX",
    "outputId": "9497fca1-9948-43da-9485-2b2f7c7426e8",
    "scrolled": true
   },
   "outputs": [
    {
     "data": {
      "text/html": [
       "<div>\n",
       "<style scoped>\n",
       "    .dataframe tbody tr th:only-of-type {\n",
       "        vertical-align: middle;\n",
       "    }\n",
       "\n",
       "    .dataframe tbody tr th {\n",
       "        vertical-align: top;\n",
       "    }\n",
       "\n",
       "    .dataframe thead th {\n",
       "        text-align: right;\n",
       "    }\n",
       "</style>\n",
       "<table border=\"1\" class=\"dataframe\">\n",
       "  <thead>\n",
       "    <tr style=\"text-align: right;\">\n",
       "      <th></th>\n",
       "      <th>race_ethnicity</th>\n",
       "      <th>year_of_award</th>\n",
       "      <th>award</th>\n",
       "      <th>Date_of_Birth</th>\n",
       "      <th>BirthYear</th>\n",
       "      <th>ldob</th>\n",
       "      <th>award_age</th>\n",
       "      <th>City_of_birth</th>\n",
       "      <th>Birth_State</th>\n",
       "      <th>Country_of_birth</th>\n",
       "      <th>Age_buckets</th>\n",
       "    </tr>\n",
       "  </thead>\n",
       "  <tbody>\n",
       "    <tr>\n",
       "      <th>0</th>\n",
       "      <td>White</td>\n",
       "      <td>1927</td>\n",
       "      <td>Best Director</td>\n",
       "      <td>1895-09-30</td>\n",
       "      <td>1895</td>\n",
       "      <td>441</td>\n",
       "      <td>32</td>\n",
       "      <td>Chisinau</td>\n",
       "      <td>Moldova</td>\n",
       "      <td>Moldova</td>\n",
       "      <td>(0, 35]</td>\n",
       "    </tr>\n",
       "    <tr>\n",
       "      <th>1</th>\n",
       "      <td>White</td>\n",
       "      <td>1930</td>\n",
       "      <td>Best Director</td>\n",
       "      <td>1886-02-02</td>\n",
       "      <td>1886</td>\n",
       "      <td>441</td>\n",
       "      <td>44</td>\n",
       "      <td>Glasgow</td>\n",
       "      <td>Scotland</td>\n",
       "      <td>Scotland</td>\n",
       "      <td>(35, 45]</td>\n",
       "    </tr>\n",
       "    <tr>\n",
       "      <th>2</th>\n",
       "      <td>White</td>\n",
       "      <td>1931</td>\n",
       "      <td>Best Director</td>\n",
       "      <td>1895-09-30</td>\n",
       "      <td>1895</td>\n",
       "      <td>441</td>\n",
       "      <td>36</td>\n",
       "      <td>Chisinau</td>\n",
       "      <td>Moldova</td>\n",
       "      <td>Moldova</td>\n",
       "      <td>(35, 45]</td>\n",
       "    </tr>\n",
       "    <tr>\n",
       "      <th>3</th>\n",
       "      <td>White</td>\n",
       "      <td>1932</td>\n",
       "      <td>Best Director</td>\n",
       "      <td>1899-02-23</td>\n",
       "      <td>1899</td>\n",
       "      <td>441</td>\n",
       "      <td>33</td>\n",
       "      <td>Chicago</td>\n",
       "      <td>Il</td>\n",
       "      <td>USA</td>\n",
       "      <td>(0, 35]</td>\n",
       "    </tr>\n",
       "    <tr>\n",
       "      <th>4</th>\n",
       "      <td>White</td>\n",
       "      <td>1933</td>\n",
       "      <td>Best Director</td>\n",
       "      <td>1894-04-23</td>\n",
       "      <td>1894</td>\n",
       "      <td>441</td>\n",
       "      <td>39</td>\n",
       "      <td>Salt Lake City</td>\n",
       "      <td>Ut</td>\n",
       "      <td>USA</td>\n",
       "      <td>(35, 45]</td>\n",
       "    </tr>\n",
       "    <tr>\n",
       "      <th>...</th>\n",
       "      <td>...</td>\n",
       "      <td>...</td>\n",
       "      <td>...</td>\n",
       "      <td>...</td>\n",
       "      <td>...</td>\n",
       "      <td>...</td>\n",
       "      <td>...</td>\n",
       "      <td>...</td>\n",
       "      <td>...</td>\n",
       "      <td>...</td>\n",
       "      <td>...</td>\n",
       "    </tr>\n",
       "    <tr>\n",
       "      <th>96</th>\n",
       "      <td>White</td>\n",
       "      <td>1938</td>\n",
       "      <td>Best Actor</td>\n",
       "      <td>2000-04-05</td>\n",
       "      <td>2000</td>\n",
       "      <td>441</td>\n",
       "      <td>62</td>\n",
       "      <td>Milwaukee</td>\n",
       "      <td>Wi</td>\n",
       "      <td>USA</td>\n",
       "      <td>(55, 100]</td>\n",
       "    </tr>\n",
       "    <tr>\n",
       "      <th>97</th>\n",
       "      <td>White</td>\n",
       "      <td>1939</td>\n",
       "      <td>Best Actor</td>\n",
       "      <td>2000-04-05</td>\n",
       "      <td>2000</td>\n",
       "      <td>441</td>\n",
       "      <td>61</td>\n",
       "      <td>Milwaukee</td>\n",
       "      <td>Wi</td>\n",
       "      <td>USA</td>\n",
       "      <td>(55, 100]</td>\n",
       "    </tr>\n",
       "    <tr>\n",
       "      <th>98</th>\n",
       "      <td>White</td>\n",
       "      <td>1940</td>\n",
       "      <td>Best Actor</td>\n",
       "      <td>2005-03-18</td>\n",
       "      <td>2005</td>\n",
       "      <td>441</td>\n",
       "      <td>65</td>\n",
       "      <td>Withington</td>\n",
       "      <td>Manchester</td>\n",
       "      <td>England</td>\n",
       "      <td>(55, 100]</td>\n",
       "    </tr>\n",
       "    <tr>\n",
       "      <th>99</th>\n",
       "      <td>White</td>\n",
       "      <td>1941</td>\n",
       "      <td>Best Actor</td>\n",
       "      <td>2008-05-20</td>\n",
       "      <td>2008</td>\n",
       "      <td>441</td>\n",
       "      <td>67</td>\n",
       "      <td>Indiana</td>\n",
       "      <td>Pa</td>\n",
       "      <td>USA</td>\n",
       "      <td>(55, 100]</td>\n",
       "    </tr>\n",
       "    <tr>\n",
       "      <th>100</th>\n",
       "      <td>White</td>\n",
       "      <td>1942</td>\n",
       "      <td>Best Actor</td>\n",
       "      <td>2001-05-07</td>\n",
       "      <td>2001</td>\n",
       "      <td>441</td>\n",
       "      <td>59</td>\n",
       "      <td>Helena</td>\n",
       "      <td>Mt</td>\n",
       "      <td>USA</td>\n",
       "      <td>(55, 100]</td>\n",
       "    </tr>\n",
       "  </tbody>\n",
       "</table>\n",
       "<p>100 rows × 11 columns</p>\n",
       "</div>"
      ],
      "text/plain": [
       "    race_ethnicity  year_of_award          award Date_of_Birth  BirthYear  \\\n",
       "0            White           1927  Best Director    1895-09-30       1895   \n",
       "1            White           1930  Best Director    1886-02-02       1886   \n",
       "2            White           1931  Best Director    1895-09-30       1895   \n",
       "3            White           1932  Best Director    1899-02-23       1899   \n",
       "4            White           1933  Best Director    1894-04-23       1894   \n",
       "..             ...            ...            ...           ...        ...   \n",
       "96           White           1938     Best Actor    2000-04-05       2000   \n",
       "97           White           1939     Best Actor    2000-04-05       2000   \n",
       "98           White           1940     Best Actor    2005-03-18       2005   \n",
       "99           White           1941     Best Actor    2008-05-20       2008   \n",
       "100          White           1942     Best Actor    2001-05-07       2001   \n",
       "\n",
       "     ldob  award_age   City_of_birth  Birth_State Country_of_birth Age_buckets  \n",
       "0     441         32        Chisinau      Moldova          Moldova     (0, 35]  \n",
       "1     441         44         Glasgow     Scotland         Scotland    (35, 45]  \n",
       "2     441         36        Chisinau      Moldova          Moldova    (35, 45]  \n",
       "3     441         33         Chicago           Il              USA     (0, 35]  \n",
       "4     441         39  Salt Lake City           Ut              USA    (35, 45]  \n",
       "..    ...        ...             ...          ...              ...         ...  \n",
       "96    441         62       Milwaukee           Wi              USA   (55, 100]  \n",
       "97    441         61       Milwaukee           Wi              USA   (55, 100]  \n",
       "98    441         65      Withington   Manchester          England   (55, 100]  \n",
       "99    441         67         Indiana           Pa              USA   (55, 100]  \n",
       "100   441         59          Helena           Mt              USA   (55, 100]  \n",
       "\n",
       "[100 rows x 11 columns]"
      ]
     },
     "execution_count": 32,
     "metadata": {},
     "output_type": "execute_result"
    }
   ],
   "source": [
    "oscars_df.head(100)"
   ]
  },
  {
   "cell_type": "code",
   "execution_count": 33,
   "metadata": {
    "executionInfo": {
     "elapsed": 661,
     "status": "ok",
     "timestamp": 1616652869932,
     "user": {
      "displayName": "Ajit luthais",
      "photoUrl": "https://lh3.googleusercontent.com/a-/AOh14GitOLbY4m8m102_e2e-5q3QGzZ8wBNU6ARLYZSAyQ=s64",
      "userId": "05903121354884129241"
     },
     "user_tz": 0
    },
    "id": "cF-SsgYIoNDX"
   },
   "outputs": [],
   "source": [
    "oscars_df['Age_by_decades'] = pd.cut(x=oscars_df['award_age'], bins=[0, 35, 45, 55, 100], labels=['<35', '35 to 45', '45 to 55','55<'])"
   ]
  },
  {
   "cell_type": "markdown",
   "metadata": {
    "id": "YdYaX6W7oNDY"
   },
   "source": [
    "Most Oscar winners are White"
   ]
  },
  {
   "cell_type": "code",
   "execution_count": 34,
   "metadata": {
    "colab": {
     "base_uri": "https://localhost:8080/"
    },
    "executionInfo": {
     "elapsed": 737,
     "status": "ok",
     "timestamp": 1616652872420,
     "user": {
      "displayName": "Ajit luthais",
      "photoUrl": "https://lh3.googleusercontent.com/a-/AOh14GitOLbY4m8m102_e2e-5q3QGzZ8wBNU6ARLYZSAyQ=s64",
      "userId": "05903121354884129241"
     },
     "user_tz": 0
    },
    "id": "uBNecJzEoNDa",
    "outputId": "bca76b8b-916d-4afb-c04f-a93ec244d002"
   },
   "outputs": [
    {
     "name": "stdout",
     "output_type": "stream",
     "text": [
      "['White' 'Asian' 'Hispanic' 'Black' 'Multiracial' 'Middle Eastern']\n"
     ]
    }
   ],
   "source": [
    "#Finding the values in Race\n",
    "print(oscars_df['race_ethnicity'].unique())"
   ]
  },
  {
   "cell_type": "code",
   "execution_count": 35,
   "metadata": {
    "colab": {
     "base_uri": "https://localhost:8080/"
    },
    "executionInfo": {
     "elapsed": 771,
     "status": "ok",
     "timestamp": 1616652874597,
     "user": {
      "displayName": "Ajit luthais",
      "photoUrl": "https://lh3.googleusercontent.com/a-/AOh14GitOLbY4m8m102_e2e-5q3QGzZ8wBNU6ARLYZSAyQ=s64",
      "userId": "05903121354884129241"
     },
     "user_tz": 0
    },
    "id": "oRmtcTX9oNDb",
    "outputId": "9e94406f-f162-4a6f-d791-f70bc6706a50"
   },
   "outputs": [
    {
     "data": {
      "text/plain": [
       "Counter({'White': 410,\n",
       "         'Asian': 4,\n",
       "         'Hispanic': 8,\n",
       "         'Black': 15,\n",
       "         'Multiracial': 2,\n",
       "         'Middle Eastern': 1})"
      ]
     },
     "execution_count": 35,
     "metadata": {},
     "output_type": "execute_result"
    }
   ],
   "source": [
    "#using counter to get the occurences of the race\n",
    "from collections import Counter\n",
    "z=oscars_df['race_ethnicity']\n",
    "Counter(z)"
   ]
  },
  {
   "cell_type": "code",
   "execution_count": 36,
   "metadata": {
    "colab": {
     "base_uri": "https://localhost:8080/",
     "height": 265
    },
    "executionInfo": {
     "elapsed": 659,
     "status": "ok",
     "timestamp": 1616652879722,
     "user": {
      "displayName": "Ajit luthais",
      "photoUrl": "https://lh3.googleusercontent.com/a-/AOh14GitOLbY4m8m102_e2e-5q3QGzZ8wBNU6ARLYZSAyQ=s64",
      "userId": "05903121354884129241"
     },
     "user_tz": 0
    },
    "id": "zk1Dw55roNDc",
    "outputId": "9bd2ceab-e799-49d6-a4a6-3098bbb4c0a5"
   },
   "outputs": [
    {
     "data": {
      "image/png": "[encoded data removed]",
      "text/plain": [
       "<Figure size 432x288 with 1 Axes>"
      ]
     },
     "metadata": {
      "needs_background": "light"
     },
     "output_type": "display_data"
    }
   ],
   "source": [
    "#Using Matplotlib to plot a bar which shows the race of oscar winner\n",
    "import matplotlib.pyplot as plt\n",
    "import numpy as np\n",
    "x = np.array([\"White\", \"Asian\", \"Hispanic\", \"Black\",\"Multiracial\",\"Eastern\"])\n",
    "y = np.array([410, 4, 8, 15, 2, 1])\n",
    "plt.bar(x,y)\n",
    "plt.show()"
   ]
  },
  {
   "cell_type": "markdown",
   "metadata": {
    "id": "Vzq2NjvUoNDc"
   },
   "source": [
    "As You can see in the above bar plot, white people have won more oscars compared to the rest of the race. The count of white people winning the oscar is 410 where the next highest is just 15 which is the black.\n",
    "So from this we can conclude that most oscars winner are definitely white."
   ]
  },
  {
   "cell_type": "markdown",
   "metadata": {
    "id": "canlTZFcoNDd"
   },
   "source": [
    "Most Oscar winners are from USA"
   ]
  },
  {
   "cell_type": "code",
   "execution_count": 37,
   "metadata": {
    "colab": {
     "base_uri": "https://localhost:8080/"
    },
    "executionInfo": {
     "elapsed": 666,
     "status": "ok",
     "timestamp": 1616652884263,
     "user": {
      "displayName": "Ajit luthais",
      "photoUrl": "https://lh3.googleusercontent.com/a-/AOh14GitOLbY4m8m102_e2e-5q3QGzZ8wBNU6ARLYZSAyQ=s64",
      "userId": "05903121354884129241"
     },
     "user_tz": 0
    },
    "id": "1OMmMf2NoNDd",
    "outputId": "d74b384b-fd4b-4e24-e461-3e646277be25"
   },
   "outputs": [
    {
     "name": "stdout",
     "output_type": "stream",
     "text": [
      "[' Moldova' ' Scotland' 'USA' ' Italy' ' Alsace, France' ' Hungary'\n",
      " ' Austria' ' Turkey' ' England' ' Germany' ' Japan' ' Czechoslovakia'\n",
      " ' Canada' ' France' ' New Zealand' ' Taiwan' ' Switzerland'\n",
      " ' Yorkshire, England' ' Ukraine' ' Wales' ' Puerto Rico' ' Russia'\n",
      " ' New York City' ' Australia' ' Tuscany, Italy' ' Ireland' ' Mexico'\n",
      " ' Romania' ' Cambodia' ' Canary Islands' ' India' ' Sweden' ' Belgium'\n",
      " ' South Africa' ' Israel' ' Greece' ' Spain']\n"
     ]
    }
   ],
   "source": [
    "#getting the unique values in country\n",
    "print(oscars_df['Country_of_birth'].unique())"
   ]
  },
  {
   "cell_type": "code",
   "execution_count": 38,
   "metadata": {
    "colab": {
     "base_uri": "https://localhost:8080/"
    },
    "executionInfo": {
     "elapsed": 684,
     "status": "ok",
     "timestamp": 1616652886273,
     "user": {
      "displayName": "Ajit luthais",
      "photoUrl": "https://lh3.googleusercontent.com/a-/AOh14GitOLbY4m8m102_e2e-5q3QGzZ8wBNU6ARLYZSAyQ=s64",
      "userId": "05903121354884129241"
     },
     "user_tz": 0
    },
    "id": "7WhKvScMoNDd",
    "outputId": "c83bec56-530e-44fd-c387-f02becb02a7f"
   },
   "outputs": [
    {
     "data": {
      "text/plain": [
       "Counter({' Moldova': 2,\n",
       "         ' Scotland': 3,\n",
       "         'USA': 289,\n",
       "         ' Italy': 6,\n",
       "         ' Alsace, France': 3,\n",
       "         ' Hungary': 2,\n",
       "         ' Austria': 7,\n",
       "         ' Turkey': 2,\n",
       "         ' England': 57,\n",
       "         ' Germany': 4,\n",
       "         ' Japan': 5,\n",
       "         ' Czechoslovakia': 2,\n",
       "         ' Canada': 8,\n",
       "         ' France': 6,\n",
       "         ' New Zealand': 2,\n",
       "         ' Taiwan': 2,\n",
       "         ' Switzerland': 1,\n",
       "         ' Yorkshire, England': 1,\n",
       "         ' Ukraine': 1,\n",
       "         ' Wales': 6,\n",
       "         ' Puerto Rico': 3,\n",
       "         ' Russia': 3,\n",
       "         ' New York City': 1,\n",
       "         ' Australia': 4,\n",
       "         ' Tuscany, Italy': 1,\n",
       "         ' Ireland': 2,\n",
       "         ' Mexico': 3,\n",
       "         ' Romania': 1,\n",
       "         ' Cambodia': 1,\n",
       "         ' Canary Islands': 1,\n",
       "         ' India': 3,\n",
       "         ' Sweden': 3,\n",
       "         ' Belgium': 1,\n",
       "         ' South Africa': 1,\n",
       "         ' Israel': 1,\n",
       "         ' Greece': 1,\n",
       "         ' Spain': 1})"
      ]
     },
     "execution_count": 38,
     "metadata": {},
     "output_type": "execute_result"
    }
   ],
   "source": [
    "#using counter to get the occurences of the race\n",
    "from collections import Counter\n",
    "z=oscars_df['Country_of_birth']\n",
    "Counter(z)"
   ]
  },
  {
   "cell_type": "code",
   "execution_count": 39,
   "metadata": {
    "colab": {
     "base_uri": "https://localhost:8080/",
     "height": 636
    },
    "executionInfo": {
     "elapsed": 1249,
     "status": "ok",
     "timestamp": 1616361479970,
     "user": {
      "displayName": "Ajit luthais",
      "photoUrl": "https://lh3.googleusercontent.com/a-/AOh14GitOLbY4m8m102_e2e-5q3QGzZ8wBNU6ARLYZSAyQ=s64",
      "userId": "05903121354884129241"
     },
     "user_tz": 0
    },
    "id": "FC7HmHGMoNDe",
    "outputId": "b71cd53a-c683-4ee9-b796-b2055f68f8b9"
   },
   "outputs": [
    {
     "data": {
      "text/plain": [
       "<seaborn.axisgrid.FacetGrid at 0x7f955801f9a0>"
      ]
     },
     "execution_count": 39,
     "metadata": {},
     "output_type": "execute_result"
    },
    {
     "data": {
      "image/png": "[encoded data removed]",
      "text/plain": [
       "<Figure size 842.4x595.44 with 1 Axes>"
      ]
     },
     "metadata": {
      "needs_background": "light"
     },
     "output_type": "display_data"
    }
   ],
   "source": [
    "\"\"\"\n",
    "We will display the country wise award winning category in following seaborn chart \n",
    "\"\"\"\n",
    "import seaborn as sns\n",
    "sns.catplot(x=\"award\", y=\"Country_of_birth\", data=oscars_df,height=8.27, aspect=11.7/8.27)\n",
    "#oscars = oscars_df.assign(award=oscars_df['award'].astype('category'), \n",
    "#                       Country_of_birth=oscars_df['Country_of_birth'].astype('category'))\n",
    "#oscars_df['award'] = oscars_df['award'].astype('category')\n",
    "#oscars_df['Country_of_birth']=oscars_df['Country_of_birth'].astype('category')\n",
    "#sns.violinplot(data=oscars_df, x='Country_of_birth', y='award')\n",
    "#sns_plot = sns.violinplot(x='award', y='Country_of_birth', data=oscars)\n",
    "#g = sns.catplot(x=\"award\", y=\"Country_of_birth\", kind=\"violin\", inner=None, data=oscars_df,height=8.27, aspect=11.7/8.27)\n",
    "#sns.swarmplot(x=\"award\", y=\"Country_of_birth\", color=\"k\", size=3, data=oscars_df, ax=g.ax)"
   ]
  },
  {
   "cell_type": "markdown",
   "metadata": {
    "id": "OaZ6KxULoNDe"
   },
   "source": [
    "As you can see the above graph which was plotted using seaborn, USA has the most oscar winner in every award category. So we can conclude that the most oscar winners are from USA."
   ]
  },
  {
   "cell_type": "markdown",
   "metadata": {
    "id": "JrbJ2oUDoNDf"
   },
   "source": [
    "Best Directors tend to be older than best Actors or Actresses."
   ]
  },
  {
   "cell_type": "code",
   "execution_count": 40,
   "metadata": {
    "colab": {
     "base_uri": "https://localhost:8080/",
     "height": 619
    },
    "executionInfo": {
     "elapsed": 890,
     "status": "ok",
     "timestamp": 1616361485004,
     "user": {
      "displayName": "Ajit luthais",
      "photoUrl": "https://lh3.googleusercontent.com/a-/AOh14GitOLbY4m8m102_e2e-5q3QGzZ8wBNU6ARLYZSAyQ=s64",
      "userId": "05903121354884129241"
     },
     "user_tz": 0
    },
    "id": "t5XCHzXVoNDf",
    "outputId": "50377cdd-f0d2-4c88-81df-bdc2b777f5c9"
   },
   "outputs": [
    {
     "data": {
      "text/plain": [
       "<AxesSubplot:xlabel='award', ylabel='award_age'>"
      ]
     },
     "execution_count": 40,
     "metadata": {},
     "output_type": "execute_result"
    },
    {
     "data": {
      "image/png": "[encoded data removed]",
      "text/plain": [
       "<Figure size 1440x720 with 1 Axes>"
      ]
     },
     "metadata": {
      "needs_background": "light"
     },
     "output_type": "display_data"
    }
   ],
   "source": [
    "#using seaborn to plot the award and award age.\n",
    "import seaborn as sns\n",
    "fig_dims = (20, 10)\n",
    "fig, ax = plt.subplots(figsize=fig_dims)\n",
    "sns.boxplot(x='award',y='award_age',data=oscars_df,palette='rainbow')"
   ]
  },
  {
   "cell_type": "markdown",
   "metadata": {
    "id": "8TDH4Cb-oNDg"
   },
   "source": [
    "As you can see in the above boxplot that the age of Best Director is mostly between 45-55. where as for best actor it varies from 50-60 and for best actress the age goes from 55-70.\n",
    "So we can conclude that the best Director are not older than the best actor and best actress."
   ]
  },
  {
   "cell_type": "code",
   "execution_count": 41,
   "metadata": {
    "id": "zwLaEMTmoNDg",
    "outputId": "fd1c313a-0221-4888-cdf5-40ed16bfabda"
   },
   "outputs": [
    {
     "data": {
      "text/html": [
       "<div>\n",
       "<style scoped>\n",
       "    .dataframe tbody tr th:only-of-type {\n",
       "        vertical-align: middle;\n",
       "    }\n",
       "\n",
       "    .dataframe tbody tr th {\n",
       "        vertical-align: top;\n",
       "    }\n",
       "\n",
       "    .dataframe thead th {\n",
       "        text-align: right;\n",
       "    }\n",
       "</style>\n",
       "<table border=\"1\" class=\"dataframe\">\n",
       "  <thead>\n",
       "    <tr style=\"text-align: right;\">\n",
       "      <th></th>\n",
       "      <th>race_ethnicity</th>\n",
       "      <th>year_of_award</th>\n",
       "      <th>award</th>\n",
       "      <th>Date_of_Birth</th>\n",
       "      <th>BirthYear</th>\n",
       "      <th>ldob</th>\n",
       "      <th>award_age</th>\n",
       "      <th>City_of_birth</th>\n",
       "      <th>Birth_State</th>\n",
       "      <th>Country_of_birth</th>\n",
       "      <th>Age_buckets</th>\n",
       "      <th>Age_by_decades</th>\n",
       "    </tr>\n",
       "  </thead>\n",
       "  <tbody>\n",
       "    <tr>\n",
       "      <th>0</th>\n",
       "      <td>White</td>\n",
       "      <td>1927</td>\n",
       "      <td>Best Director</td>\n",
       "      <td>1895-09-30</td>\n",
       "      <td>1895</td>\n",
       "      <td>441</td>\n",
       "      <td>32</td>\n",
       "      <td>Chisinau</td>\n",
       "      <td>Moldova</td>\n",
       "      <td>Moldova</td>\n",
       "      <td>(0, 35]</td>\n",
       "      <td>&lt;35</td>\n",
       "    </tr>\n",
       "    <tr>\n",
       "      <th>1</th>\n",
       "      <td>White</td>\n",
       "      <td>1930</td>\n",
       "      <td>Best Director</td>\n",
       "      <td>1886-02-02</td>\n",
       "      <td>1886</td>\n",
       "      <td>441</td>\n",
       "      <td>44</td>\n",
       "      <td>Glasgow</td>\n",
       "      <td>Scotland</td>\n",
       "      <td>Scotland</td>\n",
       "      <td>(35, 45]</td>\n",
       "      <td>35 to 45</td>\n",
       "    </tr>\n",
       "    <tr>\n",
       "      <th>2</th>\n",
       "      <td>White</td>\n",
       "      <td>1931</td>\n",
       "      <td>Best Director</td>\n",
       "      <td>1895-09-30</td>\n",
       "      <td>1895</td>\n",
       "      <td>441</td>\n",
       "      <td>36</td>\n",
       "      <td>Chisinau</td>\n",
       "      <td>Moldova</td>\n",
       "      <td>Moldova</td>\n",
       "      <td>(35, 45]</td>\n",
       "      <td>35 to 45</td>\n",
       "    </tr>\n",
       "    <tr>\n",
       "      <th>3</th>\n",
       "      <td>White</td>\n",
       "      <td>1932</td>\n",
       "      <td>Best Director</td>\n",
       "      <td>1899-02-23</td>\n",
       "      <td>1899</td>\n",
       "      <td>441</td>\n",
       "      <td>33</td>\n",
       "      <td>Chicago</td>\n",
       "      <td>Il</td>\n",
       "      <td>USA</td>\n",
       "      <td>(0, 35]</td>\n",
       "      <td>&lt;35</td>\n",
       "    </tr>\n",
       "    <tr>\n",
       "      <th>4</th>\n",
       "      <td>White</td>\n",
       "      <td>1933</td>\n",
       "      <td>Best Director</td>\n",
       "      <td>1894-04-23</td>\n",
       "      <td>1894</td>\n",
       "      <td>441</td>\n",
       "      <td>39</td>\n",
       "      <td>Salt Lake City</td>\n",
       "      <td>Ut</td>\n",
       "      <td>USA</td>\n",
       "      <td>(35, 45]</td>\n",
       "      <td>35 to 45</td>\n",
       "    </tr>\n",
       "    <tr>\n",
       "      <th>5</th>\n",
       "      <td>White</td>\n",
       "      <td>1934</td>\n",
       "      <td>Best Director</td>\n",
       "      <td>1886-02-02</td>\n",
       "      <td>1886</td>\n",
       "      <td>441</td>\n",
       "      <td>48</td>\n",
       "      <td>Glasgow</td>\n",
       "      <td>Scotland</td>\n",
       "      <td>Scotland</td>\n",
       "      <td>(45, 55]</td>\n",
       "      <td>45 to 55</td>\n",
       "    </tr>\n",
       "    <tr>\n",
       "      <th>6</th>\n",
       "      <td>White</td>\n",
       "      <td>1935</td>\n",
       "      <td>Best Director</td>\n",
       "      <td>1897-05-18</td>\n",
       "      <td>1897</td>\n",
       "      <td>441</td>\n",
       "      <td>38</td>\n",
       "      <td>Bisacquino</td>\n",
       "      <td>Sicily</td>\n",
       "      <td>Italy</td>\n",
       "      <td>(35, 45]</td>\n",
       "      <td>35 to 45</td>\n",
       "    </tr>\n",
       "    <tr>\n",
       "      <th>7</th>\n",
       "      <td>White</td>\n",
       "      <td>1936</td>\n",
       "      <td>Best Director</td>\n",
       "      <td>1894-02-01</td>\n",
       "      <td>1894</td>\n",
       "      <td>441</td>\n",
       "      <td>42</td>\n",
       "      <td>Cape Elizabeth</td>\n",
       "      <td>Me</td>\n",
       "      <td>USA</td>\n",
       "      <td>(35, 45]</td>\n",
       "      <td>35 to 45</td>\n",
       "    </tr>\n",
       "    <tr>\n",
       "      <th>8</th>\n",
       "      <td>White</td>\n",
       "      <td>1937</td>\n",
       "      <td>Best Director</td>\n",
       "      <td>1897-05-18</td>\n",
       "      <td>1897</td>\n",
       "      <td>441</td>\n",
       "      <td>40</td>\n",
       "      <td>Bisacquino</td>\n",
       "      <td>Sicily</td>\n",
       "      <td>Italy</td>\n",
       "      <td>(35, 45]</td>\n",
       "      <td>35 to 45</td>\n",
       "    </tr>\n",
       "    <tr>\n",
       "      <th>9</th>\n",
       "      <td>White</td>\n",
       "      <td>1938</td>\n",
       "      <td>Best Director</td>\n",
       "      <td>1898-10-03</td>\n",
       "      <td>1898</td>\n",
       "      <td>441</td>\n",
       "      <td>40</td>\n",
       "      <td>Los Angeles</td>\n",
       "      <td>Ca</td>\n",
       "      <td>USA</td>\n",
       "      <td>(35, 45]</td>\n",
       "      <td>35 to 45</td>\n",
       "    </tr>\n",
       "  </tbody>\n",
       "</table>\n",
       "</div>"
      ],
      "text/plain": [
       "  race_ethnicity  year_of_award          award Date_of_Birth  BirthYear  ldob  \\\n",
       "0          White           1927  Best Director    1895-09-30       1895   441   \n",
       "1          White           1930  Best Director    1886-02-02       1886   441   \n",
       "2          White           1931  Best Director    1895-09-30       1895   441   \n",
       "3          White           1932  Best Director    1899-02-23       1899   441   \n",
       "4          White           1933  Best Director    1894-04-23       1894   441   \n",
       "5          White           1934  Best Director    1886-02-02       1886   441   \n",
       "6          White           1935  Best Director    1897-05-18       1897   441   \n",
       "7          White           1936  Best Director    1894-02-01       1894   441   \n",
       "8          White           1937  Best Director    1897-05-18       1897   441   \n",
       "9          White           1938  Best Director    1898-10-03       1898   441   \n",
       "\n",
       "   award_age   City_of_birth Birth_State Country_of_birth Age_buckets  \\\n",
       "0         32        Chisinau     Moldova          Moldova     (0, 35]   \n",
       "1         44         Glasgow    Scotland         Scotland    (35, 45]   \n",
       "2         36        Chisinau     Moldova          Moldova    (35, 45]   \n",
       "3         33         Chicago          Il              USA     (0, 35]   \n",
       "4         39  Salt Lake City          Ut              USA    (35, 45]   \n",
       "5         48         Glasgow    Scotland         Scotland    (45, 55]   \n",
       "6         38      Bisacquino      Sicily            Italy    (35, 45]   \n",
       "7         42  Cape Elizabeth          Me              USA    (35, 45]   \n",
       "8         40      Bisacquino      Sicily            Italy    (35, 45]   \n",
       "9         40     Los Angeles          Ca              USA    (35, 45]   \n",
       "\n",
       "  Age_by_decades  \n",
       "0            <35  \n",
       "1       35 to 45  \n",
       "2       35 to 45  \n",
       "3            <35  \n",
       "4       35 to 45  \n",
       "5       45 to 55  \n",
       "6       35 to 45  \n",
       "7       35 to 45  \n",
       "8       35 to 45  \n",
       "9       35 to 45  "
      ]
     },
     "execution_count": 41,
     "metadata": {},
     "output_type": "execute_result"
    }
   ],
   "source": [
    "oscars_df.head(10)"
   ]
  },
  {
   "cell_type": "code",
   "execution_count": null,
   "metadata": {
    "id": "EDm6_2katt6n"
   },
   "outputs": [],
   "source": []
  },
  {
   "cell_type": "markdown",
   "metadata": {
    "id": "6oAN3AoBtufk"
   },
   "source": [
    "# Modelling"
   ]
  },
  {
   "cell_type": "code",
   "execution_count": 42,
   "metadata": {
    "colab": {
     "base_uri": "https://localhost:8080/"
    },
    "executionInfo": {
     "elapsed": 27999,
     "status": "ok",
     "timestamp": 1616652712005,
     "user": {
      "displayName": "Ajit luthais",
      "photoUrl": "https://lh3.googleusercontent.com/a-/AOh14GitOLbY4m8m102_e2e-5q3QGzZ8wBNU6ARLYZSAyQ=s64",
      "userId": "05903121354884129241"
     },
     "user_tz": 0
    },
    "id": "I9idBeIdoNDg",
    "outputId": "9b424e0f-0ec5-42d6-ca21-fca0472d08df"
   },
   "outputs": [
    {
     "ename": "ModuleNotFoundError",
     "evalue": "No module named 'google'",
     "output_type": "error",
     "traceback": [
      "\u001b[0;31m---------------------------------------------------------------------------\u001b[0m",
      "\u001b[0;31mModuleNotFoundError\u001b[0m                       Traceback (most recent call last)",
      "\u001b[0;32m<ipython-input-42-12234b7be6a3>\u001b[0m in \u001b[0;36m<module>\u001b[0;34m\u001b[0m\n\u001b[1;32m      1\u001b[0m \u001b[0;31m# Load the Drive helper and mount your Google Drive as a drive in the virtual machine\u001b[0m\u001b[0;34m\u001b[0m\u001b[0;34m\u001b[0m\u001b[0;34m\u001b[0m\u001b[0m\n\u001b[0;32m----> 2\u001b[0;31m \u001b[0;32mfrom\u001b[0m \u001b[0mgoogle\u001b[0m\u001b[0;34m.\u001b[0m\u001b[0mcolab\u001b[0m \u001b[0;32mimport\u001b[0m \u001b[0mdrive\u001b[0m\u001b[0;34m\u001b[0m\u001b[0;34m\u001b[0m\u001b[0m\n\u001b[0m\u001b[1;32m      3\u001b[0m \u001b[0mdrive\u001b[0m\u001b[0;34m.\u001b[0m\u001b[0mmount\u001b[0m\u001b[0;34m(\u001b[0m\u001b[0;34m'/content/drive'\u001b[0m\u001b[0;34m)\u001b[0m\u001b[0;34m\u001b[0m\u001b[0;34m\u001b[0m\u001b[0m\n",
      "\u001b[0;31mModuleNotFoundError\u001b[0m: No module named 'google'"
     ]
    }
   ],
   "source": [
    "# Load the Drive helper and mount your Google Drive as a drive in the virtual machine\n",
    "from google.colab import drive\n",
    "drive.mount('/content/drive')"
   ]
  },
  {
   "cell_type": "code",
   "execution_count": 43,
   "metadata": {
    "executionInfo": {
     "elapsed": 653,
     "status": "ok",
     "timestamp": 1616652713615,
     "user": {
      "displayName": "Ajit luthais",
      "photoUrl": "https://lh3.googleusercontent.com/a-/AOh14GitOLbY4m8m102_e2e-5q3QGzZ8wBNU6ARLYZSAyQ=s64",
      "userId": "05903121354884129241"
     },
     "user_tz": 0
    },
    "id": "atdngmF5ogpw"
   },
   "outputs": [],
   "source": [
    "import os\n",
    "os.chdir('/Users/gowthamnallathambi/Downloads')"
   ]
  },
  {
   "cell_type": "code",
   "execution_count": 44,
   "metadata": {
    "colab": {
     "base_uri": "https://localhost:8080/"
    },
    "executionInfo": {
     "elapsed": 3122,
     "status": "ok",
     "timestamp": 1616653024787,
     "user": {
      "displayName": "Ajit luthais",
      "photoUrl": "https://lh3.googleusercontent.com/a-/AOh14GitOLbY4m8m102_e2e-5q3QGzZ8wBNU6ARLYZSAyQ=s64",
      "userId": "05903121354884129241"
     },
     "user_tz": 0
    },
    "id": "Ci2tXmAMonfn",
    "outputId": "0fa72709-a6d0-47fb-9c7d-acef94ec5d57"
   },
   "outputs": [],
   "source": [
    "import pandas as pd\n",
    "import matplotlib.pyplot as plt\n",
    "import numpy as np\n",
    "import statsmodels.api as sm\n",
    "import math\n",
    "\n",
    "from sklearn.model_selection import train_test_split\n",
    "from sklearn.linear_model import LinearRegression\n",
    "from sklearn.metrics import mean_squared_error, r2_score, mean_absolute_error\n",
    "\n",
    "\n",
    "from scipy import stats\n",
    "from scipy.stats import kurtosis, skew\n",
    "plt.style.use('seaborn-dark')"
   ]
  },
  {
   "cell_type": "code",
   "execution_count": 45,
   "metadata": {
    "executionInfo": {
     "elapsed": 806,
     "status": "ok",
     "timestamp": 1616653031475,
     "user": {
      "displayName": "Ajit luthais",
      "photoUrl": "https://lh3.googleusercontent.com/a-/AOh14GitOLbY4m8m102_e2e-5q3QGzZ8wBNU6ARLYZSAyQ=s64",
      "userId": "05903121354884129241"
     },
     "user_tz": 0
    },
    "id": "gOB__UNpopEd"
   },
   "outputs": [],
   "source": [
    "# LabelEncoding\n",
    "from sklearn import preprocessing\n",
    "le = preprocessing.LabelEncoder()   \n",
    "for column_name in oscars_df.columns:\n",
    "        if oscars_df[column_name].dtype == object:\n",
    "            oscars_df[column_name] = le.fit_transform(oscars_df[column_name])\n",
    "        else:\n",
    "            pass   "
   ]
  },
  {
   "cell_type": "code",
   "execution_count": 46,
   "metadata": {
    "colab": {
     "base_uri": "https://localhost:8080/",
     "height": 224
    },
    "executionInfo": {
     "elapsed": 457,
     "status": "ok",
     "timestamp": 1616361902952,
     "user": {
      "displayName": "Ajit luthais",
      "photoUrl": "https://lh3.googleusercontent.com/a-/AOh14GitOLbY4m8m102_e2e-5q3QGzZ8wBNU6ARLYZSAyQ=s64",
      "userId": "05903121354884129241"
     },
     "user_tz": 0
    },
    "id": "umWkHQGRqLKB",
    "outputId": "ce1dade9-709b-430a-ed8d-eae0cae1748e"
   },
   "outputs": [
    {
     "data": {
      "text/html": [
       "<div>\n",
       "<style scoped>\n",
       "    .dataframe tbody tr th:only-of-type {\n",
       "        vertical-align: middle;\n",
       "    }\n",
       "\n",
       "    .dataframe tbody tr th {\n",
       "        vertical-align: top;\n",
       "    }\n",
       "\n",
       "    .dataframe thead th {\n",
       "        text-align: right;\n",
       "    }\n",
       "</style>\n",
       "<table border=\"1\" class=\"dataframe\">\n",
       "  <thead>\n",
       "    <tr style=\"text-align: right;\">\n",
       "      <th></th>\n",
       "      <th>race_ethnicity</th>\n",
       "      <th>year_of_award</th>\n",
       "      <th>award</th>\n",
       "      <th>Date_of_Birth</th>\n",
       "      <th>BirthYear</th>\n",
       "      <th>ldob</th>\n",
       "      <th>award_age</th>\n",
       "      <th>City_of_birth</th>\n",
       "      <th>Birth_State</th>\n",
       "      <th>Country_of_birth</th>\n",
       "      <th>Age_buckets</th>\n",
       "      <th>Age_by_decades</th>\n",
       "    </tr>\n",
       "  </thead>\n",
       "  <tbody>\n",
       "    <tr>\n",
       "      <th>436</th>\n",
       "      <td>5</td>\n",
       "      <td>2006</td>\n",
       "      <td>4</td>\n",
       "      <td>1971-03-07</td>\n",
       "      <td>1971</td>\n",
       "      <td>441</td>\n",
       "      <td>35</td>\n",
       "      <td>94</td>\n",
       "      <td>17</td>\n",
       "      <td>8</td>\n",
       "      <td>(0, 35]</td>\n",
       "      <td>&lt;35</td>\n",
       "    </tr>\n",
       "    <tr>\n",
       "      <th>437</th>\n",
       "      <td>5</td>\n",
       "      <td>2009</td>\n",
       "      <td>2</td>\n",
       "      <td>2056-10-20</td>\n",
       "      <td>2056</td>\n",
       "      <td>441</td>\n",
       "      <td>47</td>\n",
       "      <td>106</td>\n",
       "      <td>17</td>\n",
       "      <td>8</td>\n",
       "      <td>(45, 55]</td>\n",
       "      <td>45 to 55</td>\n",
       "    </tr>\n",
       "    <tr>\n",
       "      <th>438</th>\n",
       "      <td>5</td>\n",
       "      <td>1977</td>\n",
       "      <td>3</td>\n",
       "      <td>2022-07-26</td>\n",
       "      <td>2022</td>\n",
       "      <td>441</td>\n",
       "      <td>45</td>\n",
       "      <td>27</td>\n",
       "      <td>32</td>\n",
       "      <td>36</td>\n",
       "      <td>(35, 45]</td>\n",
       "      <td>35 to 45</td>\n",
       "    </tr>\n",
       "    <tr>\n",
       "      <th>439</th>\n",
       "      <td>5</td>\n",
       "      <td>1999</td>\n",
       "      <td>3</td>\n",
       "      <td>2028-08-31</td>\n",
       "      <td>2028</td>\n",
       "      <td>441</td>\n",
       "      <td>29</td>\n",
       "      <td>88</td>\n",
       "      <td>58</td>\n",
       "      <td>36</td>\n",
       "      <td>(0, 35]</td>\n",
       "      <td>&lt;35</td>\n",
       "    </tr>\n",
       "    <tr>\n",
       "      <th>440</th>\n",
       "      <td>5</td>\n",
       "      <td>1949</td>\n",
       "      <td>2</td>\n",
       "      <td>2006-08-05</td>\n",
       "      <td>2006</td>\n",
       "      <td>441</td>\n",
       "      <td>57</td>\n",
       "      <td>127</td>\n",
       "      <td>55</td>\n",
       "      <td>36</td>\n",
       "      <td>(55, 100]</td>\n",
       "      <td>55&lt;</td>\n",
       "    </tr>\n",
       "  </tbody>\n",
       "</table>\n",
       "</div>"
      ],
      "text/plain": [
       "     race_ethnicity  year_of_award  award Date_of_Birth  BirthYear  ldob  \\\n",
       "436               5           2006      4    1971-03-07       1971   441   \n",
       "437               5           2009      2    2056-10-20       2056   441   \n",
       "438               5           1977      3    2022-07-26       2022   441   \n",
       "439               5           1999      3    2028-08-31       2028   441   \n",
       "440               5           1949      2    2006-08-05       2006   441   \n",
       "\n",
       "     award_age  City_of_birth  Birth_State  Country_of_birth Age_buckets  \\\n",
       "436         35             94           17                 8     (0, 35]   \n",
       "437         47            106           17                 8    (45, 55]   \n",
       "438         45             27           32                36    (35, 45]   \n",
       "439         29             88           58                36     (0, 35]   \n",
       "440         57            127           55                36   (55, 100]   \n",
       "\n",
       "    Age_by_decades  \n",
       "436            <35  \n",
       "437       45 to 55  \n",
       "438       35 to 45  \n",
       "439            <35  \n",
       "440            55<  "
      ]
     },
     "execution_count": 46,
     "metadata": {},
     "output_type": "execute_result"
    }
   ],
   "source": [
    "oscars_df.tail()"
   ]
  },
  {
   "cell_type": "code",
   "execution_count": 47,
   "metadata": {
    "colab": {
     "base_uri": "https://localhost:8080/"
    },
    "executionInfo": {
     "elapsed": 461,
     "status": "ok",
     "timestamp": 1616361629389,
     "user": {
      "displayName": "Ajit luthais",
      "photoUrl": "https://lh3.googleusercontent.com/a-/AOh14GitOLbY4m8m102_e2e-5q3QGzZ8wBNU6ARLYZSAyQ=s64",
      "userId": "05903121354884129241"
     },
     "user_tz": 0
    },
    "id": "5HR2sLaLqPN-",
    "outputId": "58e7d4f1-9e48-41e9-ec10-0dafcdf48368"
   },
   "outputs": [
    {
     "name": "stdout",
     "output_type": "stream",
     "text": [
      "<class 'pandas.core.frame.DataFrame'>\n",
      "Int64Index: 440 entries, 0 to 440\n",
      "Data columns (total 12 columns):\n",
      " #   Column            Non-Null Count  Dtype         \n",
      "---  ------            --------------  -----         \n",
      " 0   race_ethnicity    440 non-null    int64         \n",
      " 1   year_of_award     440 non-null    int64         \n",
      " 2   award             440 non-null    int64         \n",
      " 3   Date_of_Birth     440 non-null    datetime64[ns]\n",
      " 4   BirthYear         440 non-null    int64         \n",
      " 5   ldob              440 non-null    int64         \n",
      " 6   award_age         440 non-null    int64         \n",
      " 7   City_of_birth     440 non-null    int64         \n",
      " 8   Birth_State       440 non-null    int64         \n",
      " 9   Country_of_birth  440 non-null    int64         \n",
      " 10  Age_buckets       440 non-null    category      \n",
      " 11  Age_by_decades    440 non-null    category      \n",
      "dtypes: category(2), datetime64[ns](1), int64(9)\n",
      "memory usage: 59.1 KB\n"
     ]
    }
   ],
   "source": [
    "oscars_df.info()"
   ]
  },
  {
   "cell_type": "code",
   "execution_count": 48,
   "metadata": {
    "id": "4SdXlnh3p8DC"
   },
   "outputs": [],
   "source": [
    "#We are going to fit the logistic regression\n",
    "from sklearn.linear_model import LogisticRegression\n",
    "model = LogisticRegression()"
   ]
  },
  {
   "cell_type": "code",
   "execution_count": 49,
   "metadata": {
    "colab": {
     "base_uri": "https://localhost:8080/"
    },
    "executionInfo": {
     "elapsed": 463,
     "status": "ok",
     "timestamp": 1616361556740,
     "user": {
      "displayName": "Ajit luthais",
      "photoUrl": "https://lh3.googleusercontent.com/a-/AOh14GitOLbY4m8m102_e2e-5q3QGzZ8wBNU6ARLYZSAyQ=s64",
      "userId": "05903121354884129241"
     },
     "user_tz": 0
    },
    "id": "BsFBgCqaqAJE",
    "outputId": "599c9f01-aac2-41b0-e342-f7d9a81ddb2e"
   },
   "outputs": [
    {
     "name": "stdout",
     "output_type": "stream",
     "text": [
      "train 396 test 44\n"
     ]
    }
   ],
   "source": [
    "#Fitting the model using ethnicity, award age and birth country\n",
    "independent = ['race_ethnicity','award_age','Country_of_birth']\n",
    "X = oscars_df[independent]\n",
    "y = oscars_df['award']\n",
    "\n",
    "X_train, X_test, y_train, y_test = train_test_split(X, y, train_size = 0.9,stratify = y)\n",
    "print('train', len(X_train), 'test', len(X_test))"
   ]
  },
  {
   "cell_type": "code",
   "execution_count": 50,
   "metadata": {
    "colab": {
     "base_uri": "https://localhost:8080/"
    },
    "executionInfo": {
     "elapsed": 462,
     "status": "ok",
     "timestamp": 1616361653274,
     "user": {
      "displayName": "Ajit luthais",
      "photoUrl": "https://lh3.googleusercontent.com/a-/AOh14GitOLbY4m8m102_e2e-5q3QGzZ8wBNU6ARLYZSAyQ=s64",
      "userId": "05903121354884129241"
     },
     "user_tz": 0
    },
    "id": "OR5ucKrPqBUM",
    "outputId": "8ab01083-0508-4f04-b03d-c48f4bb94ec7"
   },
   "outputs": [
    {
     "name": "stderr",
     "output_type": "stream",
     "text": [
      "/opt/anaconda3/lib/python3.8/site-packages/sklearn/linear_model/_logistic.py:762: ConvergenceWarning: lbfgs failed to converge (status=1):\n",
      "STOP: TOTAL NO. of ITERATIONS REACHED LIMIT.\n",
      "\n",
      "Increase the number of iterations (max_iter) or scale the data as shown in:\n",
      "    https://scikit-learn.org/stable/modules/preprocessing.html\n",
      "Please also refer to the documentation for alternative solver options:\n",
      "    https://scikit-learn.org/stable/modules/linear_model.html#logistic-regression\n",
      "  n_iter_i = _check_optimize_result(\n"
     ]
    },
    {
     "data": {
      "text/plain": [
       "LogisticRegression()"
      ]
     },
     "execution_count": 50,
     "metadata": {},
     "output_type": "execute_result"
    }
   ],
   "source": [
    "\"\"\"\n",
    "Fitting the data using the x and y train values \n",
    "Model is learning the relationship between digits (x_train) and labels (y_train)\n",
    "\"\"\"\n",
    "\n",
    "logreg = LogisticRegression()\n",
    "\n",
    "logreg.fit(X_train, y_train)"
   ]
  },
  {
   "cell_type": "code",
   "execution_count": 51,
   "metadata": {
    "colab": {
     "base_uri": "https://localhost:8080/"
    },
    "executionInfo": {
     "elapsed": 424,
     "status": "ok",
     "timestamp": 1616361662424,
     "user": {
      "displayName": "Ajit luthais",
      "photoUrl": "https://lh3.googleusercontent.com/a-/AOh14GitOLbY4m8m102_e2e-5q3QGzZ8wBNU6ARLYZSAyQ=s64",
      "userId": "05903121354884129241"
     },
     "user_tz": 0
    },
    "id": "N-3FTzFTqJGL",
    "outputId": "9fbc4971-47f4-4ef8-e066-6bb2965df3f9"
   },
   "outputs": [
    {
     "name": "stdout",
     "output_type": "stream",
     "text": [
      "0.32323232323232326\n",
      "0.2727272727272727\n"
     ]
    }
   ],
   "source": [
    "#We'll print the score test value and corected value of logistic regression\n",
    "print(logreg.score(X_train,y_train))\n",
    "print(logreg.score(X_test,y_test))"
   ]
  },
  {
   "cell_type": "code",
   "execution_count": 52,
   "metadata": {
    "id": "tUYr3dC2rDJT",
    "outputId": "883283b6-cf06-46da-9f6b-97fe979bda97"
   },
   "outputs": [
    {
     "data": {
      "text/html": [
       "<div>\n",
       "<style scoped>\n",
       "    .dataframe tbody tr th:only-of-type {\n",
       "        vertical-align: middle;\n",
       "    }\n",
       "\n",
       "    .dataframe tbody tr th {\n",
       "        vertical-align: top;\n",
       "    }\n",
       "\n",
       "    .dataframe thead th {\n",
       "        text-align: right;\n",
       "    }\n",
       "</style>\n",
       "<table border=\"1\" class=\"dataframe\">\n",
       "  <thead>\n",
       "    <tr style=\"text-align: right;\">\n",
       "      <th></th>\n",
       "      <th>race_ethnicity</th>\n",
       "      <th>award_age</th>\n",
       "      <th>Country_of_birth</th>\n",
       "    </tr>\n",
       "  </thead>\n",
       "  <tbody>\n",
       "    <tr>\n",
       "      <th>185</th>\n",
       "      <td>5</td>\n",
       "      <td>65</td>\n",
       "      <td>5</td>\n",
       "    </tr>\n",
       "    <tr>\n",
       "      <th>93</th>\n",
       "      <td>5</td>\n",
       "      <td>66</td>\n",
       "      <td>36</td>\n",
       "    </tr>\n",
       "    <tr>\n",
       "      <th>319</th>\n",
       "      <td>5</td>\n",
       "      <td>50</td>\n",
       "      <td>36</td>\n",
       "    </tr>\n",
       "    <tr>\n",
       "      <th>245</th>\n",
       "      <td>5</td>\n",
       "      <td>30</td>\n",
       "      <td>1</td>\n",
       "    </tr>\n",
       "    <tr>\n",
       "      <th>68</th>\n",
       "      <td>5</td>\n",
       "      <td>57</td>\n",
       "      <td>36</td>\n",
       "    </tr>\n",
       "    <tr>\n",
       "      <th>293</th>\n",
       "      <td>5</td>\n",
       "      <td>64</td>\n",
       "      <td>8</td>\n",
       "    </tr>\n",
       "    <tr>\n",
       "      <th>207</th>\n",
       "      <td>5</td>\n",
       "      <td>37</td>\n",
       "      <td>8</td>\n",
       "    </tr>\n",
       "    <tr>\n",
       "      <th>61</th>\n",
       "      <td>5</td>\n",
       "      <td>53</td>\n",
       "      <td>16</td>\n",
       "    </tr>\n",
       "    <tr>\n",
       "      <th>362</th>\n",
       "      <td>5</td>\n",
       "      <td>73</td>\n",
       "      <td>36</td>\n",
       "    </tr>\n",
       "    <tr>\n",
       "      <th>76</th>\n",
       "      <td>5</td>\n",
       "      <td>30</td>\n",
       "      <td>9</td>\n",
       "    </tr>\n",
       "    <tr>\n",
       "      <th>222</th>\n",
       "      <td>5</td>\n",
       "      <td>18</td>\n",
       "      <td>36</td>\n",
       "    </tr>\n",
       "    <tr>\n",
       "      <th>15</th>\n",
       "      <td>5</td>\n",
       "      <td>58</td>\n",
       "      <td>12</td>\n",
       "    </tr>\n",
       "    <tr>\n",
       "      <th>287</th>\n",
       "      <td>5</td>\n",
       "      <td>70</td>\n",
       "      <td>8</td>\n",
       "    </tr>\n",
       "    <tr>\n",
       "      <th>361</th>\n",
       "      <td>5</td>\n",
       "      <td>60</td>\n",
       "      <td>36</td>\n",
       "    </tr>\n",
       "    <tr>\n",
       "      <th>367</th>\n",
       "      <td>5</td>\n",
       "      <td>54</td>\n",
       "      <td>36</td>\n",
       "    </tr>\n",
       "    <tr>\n",
       "      <th>81</th>\n",
       "      <td>5</td>\n",
       "      <td>49</td>\n",
       "      <td>36</td>\n",
       "    </tr>\n",
       "    <tr>\n",
       "      <th>332</th>\n",
       "      <td>5</td>\n",
       "      <td>34</td>\n",
       "      <td>8</td>\n",
       "    </tr>\n",
       "    <tr>\n",
       "      <th>262</th>\n",
       "      <td>5</td>\n",
       "      <td>73</td>\n",
       "      <td>13</td>\n",
       "    </tr>\n",
       "    <tr>\n",
       "      <th>241</th>\n",
       "      <td>1</td>\n",
       "      <td>32</td>\n",
       "      <td>36</td>\n",
       "    </tr>\n",
       "    <tr>\n",
       "      <th>421</th>\n",
       "      <td>5</td>\n",
       "      <td>25</td>\n",
       "      <td>36</td>\n",
       "    </tr>\n",
       "    <tr>\n",
       "      <th>386</th>\n",
       "      <td>5</td>\n",
       "      <td>22</td>\n",
       "      <td>8</td>\n",
       "    </tr>\n",
       "    <tr>\n",
       "      <th>40</th>\n",
       "      <td>5</td>\n",
       "      <td>63</td>\n",
       "      <td>10</td>\n",
       "    </tr>\n",
       "    <tr>\n",
       "      <th>387</th>\n",
       "      <td>5</td>\n",
       "      <td>65</td>\n",
       "      <td>36</td>\n",
       "    </tr>\n",
       "    <tr>\n",
       "      <th>6</th>\n",
       "      <td>5</td>\n",
       "      <td>38</td>\n",
       "      <td>16</td>\n",
       "    </tr>\n",
       "    <tr>\n",
       "      <th>88</th>\n",
       "      <td>5</td>\n",
       "      <td>41</td>\n",
       "      <td>36</td>\n",
       "    </tr>\n",
       "    <tr>\n",
       "      <th>86</th>\n",
       "      <td>0</td>\n",
       "      <td>41</td>\n",
       "      <td>30</td>\n",
       "    </tr>\n",
       "    <tr>\n",
       "      <th>274</th>\n",
       "      <td>5</td>\n",
       "      <td>61</td>\n",
       "      <td>13</td>\n",
       "    </tr>\n",
       "    <tr>\n",
       "      <th>282</th>\n",
       "      <td>5</td>\n",
       "      <td>61</td>\n",
       "      <td>10</td>\n",
       "    </tr>\n",
       "    <tr>\n",
       "      <th>204</th>\n",
       "      <td>5</td>\n",
       "      <td>57</td>\n",
       "      <td>36</td>\n",
       "    </tr>\n",
       "    <tr>\n",
       "      <th>31</th>\n",
       "      <td>5</td>\n",
       "      <td>44</td>\n",
       "      <td>36</td>\n",
       "    </tr>\n",
       "    <tr>\n",
       "      <th>146</th>\n",
       "      <td>5</td>\n",
       "      <td>56</td>\n",
       "      <td>36</td>\n",
       "    </tr>\n",
       "    <tr>\n",
       "      <th>303</th>\n",
       "      <td>5</td>\n",
       "      <td>66</td>\n",
       "      <td>36</td>\n",
       "    </tr>\n",
       "    <tr>\n",
       "      <th>403</th>\n",
       "      <td>5</td>\n",
       "      <td>68</td>\n",
       "      <td>36</td>\n",
       "    </tr>\n",
       "    <tr>\n",
       "      <th>148</th>\n",
       "      <td>5</td>\n",
       "      <td>67</td>\n",
       "      <td>8</td>\n",
       "    </tr>\n",
       "    <tr>\n",
       "      <th>290</th>\n",
       "      <td>5</td>\n",
       "      <td>39</td>\n",
       "      <td>36</td>\n",
       "    </tr>\n",
       "    <tr>\n",
       "      <th>210</th>\n",
       "      <td>5</td>\n",
       "      <td>28</td>\n",
       "      <td>23</td>\n",
       "    </tr>\n",
       "    <tr>\n",
       "      <th>203</th>\n",
       "      <td>5</td>\n",
       "      <td>53</td>\n",
       "      <td>36</td>\n",
       "    </tr>\n",
       "    <tr>\n",
       "      <th>103</th>\n",
       "      <td>5</td>\n",
       "      <td>58</td>\n",
       "      <td>36</td>\n",
       "    </tr>\n",
       "    <tr>\n",
       "      <th>171</th>\n",
       "      <td>5</td>\n",
       "      <td>44</td>\n",
       "      <td>8</td>\n",
       "    </tr>\n",
       "    <tr>\n",
       "      <th>398</th>\n",
       "      <td>5</td>\n",
       "      <td>67</td>\n",
       "      <td>9</td>\n",
       "    </tr>\n",
       "    <tr>\n",
       "      <th>172</th>\n",
       "      <td>5</td>\n",
       "      <td>55</td>\n",
       "      <td>36</td>\n",
       "    </tr>\n",
       "    <tr>\n",
       "      <th>127</th>\n",
       "      <td>5</td>\n",
       "      <td>54</td>\n",
       "      <td>36</td>\n",
       "    </tr>\n",
       "    <tr>\n",
       "      <th>353</th>\n",
       "      <td>5</td>\n",
       "      <td>70</td>\n",
       "      <td>36</td>\n",
       "    </tr>\n",
       "    <tr>\n",
       "      <th>98</th>\n",
       "      <td>5</td>\n",
       "      <td>65</td>\n",
       "      <td>8</td>\n",
       "    </tr>\n",
       "  </tbody>\n",
       "</table>\n",
       "</div>"
      ],
      "text/plain": [
       "     race_ethnicity  award_age  Country_of_birth\n",
       "185               5         65                 5\n",
       "93                5         66                36\n",
       "319               5         50                36\n",
       "245               5         30                 1\n",
       "68                5         57                36\n",
       "293               5         64                 8\n",
       "207               5         37                 8\n",
       "61                5         53                16\n",
       "362               5         73                36\n",
       "76                5         30                 9\n",
       "222               5         18                36\n",
       "15                5         58                12\n",
       "287               5         70                 8\n",
       "361               5         60                36\n",
       "367               5         54                36\n",
       "81                5         49                36\n",
       "332               5         34                 8\n",
       "262               5         73                13\n",
       "241               1         32                36\n",
       "421               5         25                36\n",
       "386               5         22                 8\n",
       "40                5         63                10\n",
       "387               5         65                36\n",
       "6                 5         38                16\n",
       "88                5         41                36\n",
       "86                0         41                30\n",
       "274               5         61                13\n",
       "282               5         61                10\n",
       "204               5         57                36\n",
       "31                5         44                36\n",
       "146               5         56                36\n",
       "303               5         66                36\n",
       "403               5         68                36\n",
       "148               5         67                 8\n",
       "290               5         39                36\n",
       "210               5         28                23\n",
       "203               5         53                36\n",
       "103               5         58                36\n",
       "171               5         44                 8\n",
       "398               5         67                 9\n",
       "172               5         55                36\n",
       "127               5         54                36\n",
       "353               5         70                36\n",
       "98                5         65                 8"
      ]
     },
     "execution_count": 52,
     "metadata": {},
     "output_type": "execute_result"
    }
   ],
   "source": [
    "# conduct the X test\n",
    "X_test"
   ]
  },
  {
   "cell_type": "code",
   "execution_count": 53,
   "metadata": {
    "colab": {
     "base_uri": "https://localhost:8080/"
    },
    "executionInfo": {
     "elapsed": 461,
     "status": "ok",
     "timestamp": 1616361926823,
     "user": {
      "displayName": "Ajit luthais",
      "photoUrl": "https://lh3.googleusercontent.com/a-/AOh14GitOLbY4m8m102_e2e-5q3QGzZ8wBNU6ARLYZSAyQ=s64",
      "userId": "05903121354884129241"
     },
     "user_tz": 0
    },
    "id": "G0m8Ub_IraYD",
    "outputId": "c8031408-1be7-4e8d-a187-6d089fda81d3"
   },
   "outputs": [
    {
     "name": "stdout",
     "output_type": "stream",
     "text": [
      "[1 1 0 2 1 1 2 2 1 2 3 1 1 1 0 0 2 1 3 3 2 1 1 2 3 3 1 1 1 3 1 1 1 1 3 2 0\n",
      " 1 2 1 1 0 1 1]\n"
     ]
    }
   ],
   "source": [
    "\"\"\"\n",
    "Predict the lables for the data using the information the model learned during the model training process\n",
    "Let's print the prediction of X test using logistic regression\n",
    "Making predictions on the entire test\n",
    "\"\"\"\n",
    "print(logreg.predict(X_test))"
   ]
  },
  {
   "cell_type": "code",
   "execution_count": 54,
   "metadata": {},
   "outputs": [
    {
     "name": "stdout",
     "output_type": "stream",
     "text": [
      "0.2727272727272727\n"
     ]
    }
   ],
   "source": [
    "#calculate and print the accuracy score for the test\n",
    "score = logreg.score(X_test, y_test)\n",
    "print(score)"
   ]
  },
  {
   "cell_type": "code",
   "execution_count": 55,
   "metadata": {
    "colab": {
     "base_uri": "https://localhost:8080/"
    },
    "executionInfo": {
     "elapsed": 476,
     "status": "ok",
     "timestamp": 1616361967113,
     "user": {
      "displayName": "Ajit luthais",
      "photoUrl": "https://lh3.googleusercontent.com/a-/AOh14GitOLbY4m8m102_e2e-5q3QGzZ8wBNU6ARLYZSAyQ=s64",
      "userId": "05903121354884129241"
     },
     "user_tz": 0
    },
    "id": "HanafYsereVs",
    "outputId": "bf030ecc-d295-4457-b843-23b24c284ed5"
   },
   "outputs": [
    {
     "name": "stdout",
     "output_type": "stream",
     "text": [
      "Accuracy ON TEST SET : 0.2727272727272727\n"
     ]
    }
   ],
   "source": [
    "# generate evaluation metrics\n",
    "# Calculating the accuracy test using y test and x test values \n",
    "from sklearn import metrics\n",
    "\n",
    "print (\"Accuracy ON TEST SET :\", metrics.accuracy_score(y_test, logreg.predict(X_test)))"
   ]
  },
  {
   "cell_type": "markdown",
   "metadata": {},
   "source": [
    "This is concluded that our accuracy value is 15.9%"
   ]
  },
  {
   "cell_type": "code",
   "execution_count": 56,
   "metadata": {
    "id": "VceVALiFsFXQ"
   },
   "outputs": [],
   "source": [
    "y_predicted = logreg.predict(X_test)"
   ]
  },
  {
   "cell_type": "code",
   "execution_count": 57,
   "metadata": {
    "colab": {
     "base_uri": "https://localhost:8080/"
    },
    "executionInfo": {
     "elapsed": 464,
     "status": "ok",
     "timestamp": 1616362126544,
     "user": {
      "displayName": "Ajit luthais",
      "photoUrl": "https://lh3.googleusercontent.com/a-/AOh14GitOLbY4m8m102_e2e-5q3QGzZ8wBNU6ARLYZSAyQ=s64",
      "userId": "05903121354884129241"
     },
     "user_tz": 0
    },
    "id": "CCKiRP7jr_dY",
    "outputId": "43fc8516-397a-4196-8d7e-ea3bfe65ff27"
   },
   "outputs": [
    {
     "data": {
      "text/plain": [
       "array([[1, 6, 1, 1, 0],\n",
       "       [1, 6, 1, 1, 0],\n",
       "       [1, 3, 3, 2, 0],\n",
       "       [1, 2, 3, 2, 0],\n",
       "       [1, 6, 1, 1, 0]])"
      ]
     },
     "execution_count": 57,
     "metadata": {},
     "output_type": "execute_result"
    }
   ],
   "source": [
    "from sklearn.metrics import confusion_matrix\n",
    "cm = confusion_matrix(y_test, y_predicted)\n",
    "cm"
   ]
  },
  {
   "cell_type": "markdown",
   "metadata": {},
   "source": [
    "The above confusion matrix is not visually super informative or visually appealing"
   ]
  },
  {
   "cell_type": "code",
   "execution_count": 58,
   "metadata": {
    "colab": {
     "base_uri": "https://localhost:8080/",
     "height": 460
    },
    "executionInfo": {
     "elapsed": 873,
     "status": "ok",
     "timestamp": 1616362146189,
     "user": {
      "displayName": "Ajit luthais",
      "photoUrl": "https://lh3.googleusercontent.com/a-/AOh14GitOLbY4m8m102_e2e-5q3QGzZ8wBNU6ARLYZSAyQ=s64",
      "userId": "05903121354884129241"
     },
     "user_tz": 0
    },
    "id": "MSORsSoasOn7",
    "outputId": "31fddd20-2d81-4fcf-fd44-e41a4d742df8"
   },
   "outputs": [
    {
     "data": {
      "text/plain": [
       "Text(0.5, 1.0, 'Accuracy Score: 0.2727272727272727')"
      ]
     },
     "execution_count": 58,
     "metadata": {},
     "output_type": "execute_result"
    },
    {
     "data": {
      "image/png": "[encoded data removed]",
      "text/plain": [
       "<Figure size 720x504 with 2 Axes>"
      ]
     },
     "metadata": {},
     "output_type": "display_data"
    }
   ],
   "source": [
    "import seaborn as sn\n",
    "plt.figure(figsize = (10,7))\n",
    "sn.heatmap(cm, annot=True, fmt=\".3f\", linewidths=.5, square = True, cmap=\"YlGnBu\")\n",
    "plt.xlabel('Predicted')\n",
    "plt.ylabel('Truth')\n",
    "all_sample_title = 'Accuracy Score: {0}'.format(score)\n",
    "plt.title(all_sample_title, size = 15)"
   ]
  },
  {
   "cell_type": "code",
   "execution_count": 90,
   "metadata": {
    "id": "f4dSGdeqAbcK"
   },
   "outputs": [],
   "source": [
    "from sklearn import feature_selection, linear_model, model_selection\n",
    "from sklearn.model_selection import train_test_split\n",
    "from sklearn import svm, metrics\n",
    "from sklearn.ensemble import RandomForestClassifier\n",
    "from sklearn.model_selection import KFold, cross_val_score"
   ]
  },
  {
   "cell_type": "code",
   "execution_count": 91,
   "metadata": {
    "id": "CRbHw5A3AbcL",
    "outputId": "413cecea-9c9d-434b-8913-7f1fb39282f3"
   },
   "outputs": [
    {
     "name": "stderr",
     "output_type": "stream",
     "text": [
      "/opt/anaconda3/lib/python3.8/site-packages/sklearn/linear_model/_logistic.py:762: ConvergenceWarning: lbfgs failed to converge (status=1):\n",
      "STOP: TOTAL NO. of ITERATIONS REACHED LIMIT.\n",
      "\n",
      "Increase the number of iterations (max_iter) or scale the data as shown in:\n",
      "    https://scikit-learn.org/stable/modules/preprocessing.html\n",
      "Please also refer to the documentation for alternative solver options:\n",
      "    https://scikit-learn.org/stable/modules/linear_model.html#logistic-regression\n",
      "  n_iter_i = _check_optimize_result(\n",
      "/opt/anaconda3/lib/python3.8/site-packages/sklearn/linear_model/_logistic.py:762: ConvergenceWarning: lbfgs failed to converge (status=1):\n",
      "STOP: TOTAL NO. of ITERATIONS REACHED LIMIT.\n",
      "\n",
      "Increase the number of iterations (max_iter) or scale the data as shown in:\n",
      "    https://scikit-learn.org/stable/modules/preprocessing.html\n",
      "Please also refer to the documentation for alternative solver options:\n",
      "    https://scikit-learn.org/stable/modules/linear_model.html#logistic-regression\n",
      "  n_iter_i = _check_optimize_result(\n",
      "/opt/anaconda3/lib/python3.8/site-packages/sklearn/linear_model/_logistic.py:762: ConvergenceWarning: lbfgs failed to converge (status=1):\n",
      "STOP: TOTAL NO. of ITERATIONS REACHED LIMIT.\n",
      "\n",
      "Increase the number of iterations (max_iter) or scale the data as shown in:\n",
      "    https://scikit-learn.org/stable/modules/preprocessing.html\n",
      "Please also refer to the documentation for alternative solver options:\n",
      "    https://scikit-learn.org/stable/modules/linear_model.html#logistic-regression\n",
      "  n_iter_i = _check_optimize_result(\n",
      "/opt/anaconda3/lib/python3.8/site-packages/sklearn/linear_model/_logistic.py:762: ConvergenceWarning: lbfgs failed to converge (status=1):\n",
      "STOP: TOTAL NO. of ITERATIONS REACHED LIMIT.\n",
      "\n",
      "Increase the number of iterations (max_iter) or scale the data as shown in:\n",
      "    https://scikit-learn.org/stable/modules/preprocessing.html\n",
      "Please also refer to the documentation for alternative solver options:\n",
      "    https://scikit-learn.org/stable/modules/linear_model.html#logistic-regression\n",
      "  n_iter_i = _check_optimize_result(\n",
      "/opt/anaconda3/lib/python3.8/site-packages/sklearn/linear_model/_logistic.py:762: ConvergenceWarning: lbfgs failed to converge (status=1):\n",
      "STOP: TOTAL NO. of ITERATIONS REACHED LIMIT.\n",
      "\n",
      "Increase the number of iterations (max_iter) or scale the data as shown in:\n",
      "    https://scikit-learn.org/stable/modules/preprocessing.html\n",
      "Please also refer to the documentation for alternative solver options:\n",
      "    https://scikit-learn.org/stable/modules/linear_model.html#logistic-regression\n",
      "  n_iter_i = _check_optimize_result(\n",
      "/opt/anaconda3/lib/python3.8/site-packages/sklearn/linear_model/_logistic.py:762: ConvergenceWarning: lbfgs failed to converge (status=1):\n",
      "STOP: TOTAL NO. of ITERATIONS REACHED LIMIT.\n",
      "\n",
      "Increase the number of iterations (max_iter) or scale the data as shown in:\n",
      "    https://scikit-learn.org/stable/modules/preprocessing.html\n",
      "Please also refer to the documentation for alternative solver options:\n",
      "    https://scikit-learn.org/stable/modules/linear_model.html#logistic-regression\n",
      "  n_iter_i = _check_optimize_result(\n",
      "/opt/anaconda3/lib/python3.8/site-packages/sklearn/linear_model/_logistic.py:762: ConvergenceWarning: lbfgs failed to converge (status=1):\n",
      "STOP: TOTAL NO. of ITERATIONS REACHED LIMIT.\n",
      "\n",
      "Increase the number of iterations (max_iter) or scale the data as shown in:\n",
      "    https://scikit-learn.org/stable/modules/preprocessing.html\n",
      "Please also refer to the documentation for alternative solver options:\n",
      "    https://scikit-learn.org/stable/modules/linear_model.html#logistic-regression\n",
      "  n_iter_i = _check_optimize_result(\n",
      "/opt/anaconda3/lib/python3.8/site-packages/sklearn/linear_model/_logistic.py:762: ConvergenceWarning: lbfgs failed to converge (status=1):\n",
      "STOP: TOTAL NO. of ITERATIONS REACHED LIMIT.\n",
      "\n",
      "Increase the number of iterations (max_iter) or scale the data as shown in:\n",
      "    https://scikit-learn.org/stable/modules/preprocessing.html\n",
      "Please also refer to the documentation for alternative solver options:\n",
      "    https://scikit-learn.org/stable/modules/linear_model.html#logistic-regression\n",
      "  n_iter_i = _check_optimize_result(\n"
     ]
    },
    {
     "name": "stdout",
     "output_type": "stream",
     "text": [
      "1. Mean hits: 0.0\n",
      "2. Accuracy score: 0.0\n",
      "3. Test score: 0.0\n",
      "Cross validation mean scores: 0.28863636363636364\n"
     ]
    },
    {
     "name": "stderr",
     "output_type": "stream",
     "text": [
      "/opt/anaconda3/lib/python3.8/site-packages/sklearn/linear_model/_logistic.py:762: ConvergenceWarning: lbfgs failed to converge (status=1):\n",
      "STOP: TOTAL NO. of ITERATIONS REACHED LIMIT.\n",
      "\n",
      "Increase the number of iterations (max_iter) or scale the data as shown in:\n",
      "    https://scikit-learn.org/stable/modules/preprocessing.html\n",
      "Please also refer to the documentation for alternative solver options:\n",
      "    https://scikit-learn.org/stable/modules/linear_model.html#logistic-regression\n",
      "  n_iter_i = _check_optimize_result(\n"
     ]
    }
   ],
   "source": [
    "\n",
    "clf = linear_model.LogisticRegression()\n",
    "clf.fit(X_train, y_train)\n",
    "predicted = clf.predict(X_test)\n",
    "print(\"1. Mean hits: {}\".format(np.mean(predicted==y_test)))\n",
    "print(\"2. Accuracy score: {}\".format(metrics.accuracy_score(y_test, predicted)))\n",
    "print(\"3. Test score: {}\".format(clf.score(X_test, y_test)))\n",
    "# 1., 2., 3. compute the same things.\n",
    "scores = model_selection.cross_val_score(clf, X, y, scoring='accuracy', cv=8)\n",
    "print(\"Cross validation mean scores: {}\".format(scores.mean()))"
   ]
  },
  {
   "cell_type": "code",
   "execution_count": 92,
   "metadata": {
    "id": "qNGi_OJxAbcN",
    "outputId": "335eae3f-16b5-48c7-bc95-adad70c03649"
   },
   "outputs": [
    {
     "name": "stdout",
     "output_type": "stream",
     "text": [
      "AUC = nan\n"
     ]
    },
    {
     "name": "stderr",
     "output_type": "stream",
     "text": [
      "/opt/anaconda3/lib/python3.8/site-packages/sklearn/metrics/_ranking.py:811: UndefinedMetricWarning: No positive samples in y_true, true positive value should be meaningless\n",
      "  warnings.warn(\"No positive samples in y_true, \"\n"
     ]
    },
    {
     "data": {
      "image/png": "[encoded data removed]",
      "text/plain": [
       "<Figure size 432x288 with 1 Axes>"
      ]
     },
     "metadata": {},
     "output_type": "display_data"
    }
   ],
   "source": [
    "prob = np.array(clf.predict_proba(X_test)[:, 1])\n",
    "y_test += 1\n",
    "fpr, sensitivity, _ = metrics.roc_curve(y_test, prob, pos_label=2)\n",
    "print(\"AUC = {}\".format(metrics.auc(fpr, sensitivity)))\n",
    "plt.scatter(fpr, fpr, c='b', marker='s')\n",
    "plt.scatter(fpr, sensitivity, c='r', marker='o')\n",
    "plt.show()"
   ]
  },
  {
   "cell_type": "code",
   "execution_count": 97,
   "metadata": {
    "id": "S3cf1VMZAbcO",
    "outputId": "5f424ba7-7dad-4f4f-fa3f-1ba44ed18999"
   },
   "outputs": [
    {
     "data": {
      "text/plain": [
       "RandomForestClassifier(max_depth=30, min_samples_leaf=5, n_estimators=400,\n",
       "                       n_jobs=-1, oob_score=True)"
      ]
     },
     "execution_count": 97,
     "metadata": {},
     "output_type": "execute_result"
    }
   ],
   "source": [
    "#Improving the model by classifying the data\n",
    "#We'll use the randomforest classifier \n",
    "crf = RandomForestClassifier(n_jobs=-1, n_estimators=400, min_samples_leaf=5, \\\n",
    "                             max_depth = 30, oob_score=True)\n",
    "crf.fit(X_train,y_train)"
   ]
  },
  {
   "cell_type": "code",
   "execution_count": 98,
   "metadata": {
    "id": "6OPo9QUYAbcO",
    "outputId": "79cbf483-74cd-4075-c87e-1285e48beff7"
   },
   "outputs": [
    {
     "data": {
      "text/plain": [
       "RandomForestClassifier(max_depth=30, min_samples_leaf=5, n_estimators=400,\n",
       "                       n_jobs=-1, oob_score=True)"
      ]
     },
     "execution_count": 98,
     "metadata": {},
     "output_type": "execute_result"
    }
   ],
   "source": [
    "# Defining random forest classifier \n",
    "RandomForestClassifier(bootstrap=True, class_weight=None, criterion='gini',\n",
    "            max_depth=30, max_features='auto', max_leaf_nodes=None,\n",
    "            min_impurity_decrease=0.0, min_impurity_split=None,\n",
    "            min_samples_leaf=5, min_samples_split=2,\n",
    "            min_weight_fraction_leaf=0.0, n_estimators=400, n_jobs=-1,\n",
    "            oob_score=True, random_state=None, verbose=0, warm_start=False)"
   ]
  },
  {
   "cell_type": "code",
   "execution_count": 99,
   "metadata": {
    "id": "_4uvJHgZAbcP",
    "outputId": "59f78c3b-16f2-489f-ae2d-bbfce8946cf9"
   },
   "outputs": [
    {
     "name": "stdout",
     "output_type": "stream",
     "text": [
      "Accuracy score for training data is: 0.482\n",
      "Accuracy score for test data: 0.000\n",
      "The Oob score is: 0.313\n"
     ]
    }
   ],
   "source": [
    "# Printing the accuracy score for training data, test data and Oob score\n",
    "print(\"Accuracy score for training data is: {:4.3f}\".format(crf.score(X_train, y_train)))\n",
    "print(\"Accuracy score for test data: {:4.3f}\".format(crf.score(X_test, y_test)))\n",
    "print(\"The Oob score is: {:4.3f}\".format(crf.oob_score_))"
   ]
  },
  {
   "cell_type": "code",
   "execution_count": 100,
   "metadata": {
    "id": "jt_BYDk2AbcQ",
    "outputId": "f796f896-270c-4884-e23c-ac2bd59db1b6"
   },
   "outputs": [
    {
     "name": "stdout",
     "output_type": "stream",
     "text": [
      "X valiation score for Logistic regression is: 0.2818\n",
      "X validation score for Random Forest: 0.3273\n"
     ]
    }
   ],
   "source": [
    "# Making the crossvalidation acuracy check score between logistic regression and random forest\n",
    "crossvalidation = KFold(10, shuffle=True)\n",
    "score1=cross_val_score(clf, X, y,scoring='accuracy',cv=crossvalidation,n_jobs=-1)\n",
    "print(\"X valiation score for Logistic regression is: {:5.4f}\".format(np.mean(score1)))\n",
    "score2=cross_val_score(crf, X, y,scoring='accuracy',cv=crossvalidation,n_jobs=-1)\n",
    "print(\"X validation score for Random Forest: {:5.4f}\".format(np.mean(score2)))"
   ]
  },
  {
   "cell_type": "code",
   "execution_count": 101,
   "metadata": {
    "id": "3jWnz7Z1AbcQ",
    "outputId": "a82cec44-11d7-4314-9043-7a7f980e2e30"
   },
   "outputs": [
    {
     "data": {
      "text/plain": [
       "array([0.43181818, 0.29545455, 0.29545455, 0.27272727, 0.27272727,\n",
       "       0.25      , 0.29545455, 0.31818182, 0.18181818, 0.20454545])"
      ]
     },
     "execution_count": 101,
     "metadata": {},
     "output_type": "execute_result"
    }
   ],
   "source": [
    "score1"
   ]
  },
  {
   "cell_type": "code",
   "execution_count": 102,
   "metadata": {
    "id": "FCB4yfw4AbcQ",
    "outputId": "9f2c6b22-abfc-448b-c2af-aedd8e6e8a71"
   },
   "outputs": [
    {
     "data": {
      "text/plain": [
       "array([0.31818182, 0.31818182, 0.27272727, 0.45454545, 0.43181818,\n",
       "       0.31818182, 0.34090909, 0.36363636, 0.25      , 0.20454545])"
      ]
     },
     "execution_count": 102,
     "metadata": {},
     "output_type": "execute_result"
    }
   ],
   "source": [
    "score2"
   ]
  },
  {
   "cell_type": "code",
   "execution_count": null,
   "metadata": {
    "id": "Lo1eht9lAbcR"
   },
   "outputs": [],
   "source": []
  },
  {
   "cell_type": "markdown",
   "metadata": {
    "id": "9jTjI0nOBZ8F"
   },
   "source": [
    "# K-Means Clustering"
   ]
  },
  {
   "cell_type": "code",
   "execution_count": 103,
   "metadata": {
    "colab": {
     "base_uri": "https://localhost:8080/",
     "height": 309
    },
    "executionInfo": {
     "elapsed": 711,
     "status": "ok",
     "timestamp": 1616652997071,
     "user": {
      "displayName": "Ajit luthais",
      "photoUrl": "https://lh3.googleusercontent.com/a-/AOh14GitOLbY4m8m102_e2e-5q3QGzZ8wBNU6ARLYZSAyQ=s64",
      "userId": "05903121354884129241"
     },
     "user_tz": 0
    },
    "id": "6kq3H7eCBcN4",
    "outputId": "d62a7906-ef92-4b70-e881-cb9450fb832c"
   },
   "outputs": [
    {
     "data": {
      "text/html": [
       "<div>\n",
       "<style scoped>\n",
       "    .dataframe tbody tr th:only-of-type {\n",
       "        vertical-align: middle;\n",
       "    }\n",
       "\n",
       "    .dataframe tbody tr th {\n",
       "        vertical-align: top;\n",
       "    }\n",
       "\n",
       "    .dataframe thead th {\n",
       "        text-align: right;\n",
       "    }\n",
       "</style>\n",
       "<table border=\"1\" class=\"dataframe\">\n",
       "  <thead>\n",
       "    <tr style=\"text-align: right;\">\n",
       "      <th></th>\n",
       "      <th>race_ethnicity</th>\n",
       "      <th>year_of_award</th>\n",
       "      <th>award</th>\n",
       "      <th>Date_of_Birth</th>\n",
       "      <th>BirthYear</th>\n",
       "      <th>ldob</th>\n",
       "      <th>award_age</th>\n",
       "      <th>City_of_birth</th>\n",
       "      <th>Birth_State</th>\n",
       "      <th>Country_of_birth</th>\n",
       "      <th>Age_buckets</th>\n",
       "      <th>Age_by_decades</th>\n",
       "    </tr>\n",
       "  </thead>\n",
       "  <tbody>\n",
       "    <tr>\n",
       "      <th>0</th>\n",
       "      <td>5</td>\n",
       "      <td>1927</td>\n",
       "      <td>2</td>\n",
       "      <td>1895-09-30</td>\n",
       "      <td>1895</td>\n",
       "      <td>441</td>\n",
       "      <td>32</td>\n",
       "      <td>29</td>\n",
       "      <td>56</td>\n",
       "      <td>19</td>\n",
       "      <td>(0, 35]</td>\n",
       "      <td>&lt;35</td>\n",
       "    </tr>\n",
       "    <tr>\n",
       "      <th>1</th>\n",
       "      <td>5</td>\n",
       "      <td>1930</td>\n",
       "      <td>2</td>\n",
       "      <td>1886-02-02</td>\n",
       "      <td>1886</td>\n",
       "      <td>441</td>\n",
       "      <td>44</td>\n",
       "      <td>59</td>\n",
       "      <td>76</td>\n",
       "      <td>25</td>\n",
       "      <td>(35, 45]</td>\n",
       "      <td>35 to 45</td>\n",
       "    </tr>\n",
       "    <tr>\n",
       "      <th>2</th>\n",
       "      <td>5</td>\n",
       "      <td>1931</td>\n",
       "      <td>2</td>\n",
       "      <td>1895-09-30</td>\n",
       "      <td>1895</td>\n",
       "      <td>441</td>\n",
       "      <td>36</td>\n",
       "      <td>29</td>\n",
       "      <td>56</td>\n",
       "      <td>19</td>\n",
       "      <td>(35, 45]</td>\n",
       "      <td>35 to 45</td>\n",
       "    </tr>\n",
       "    <tr>\n",
       "      <th>3</th>\n",
       "      <td>5</td>\n",
       "      <td>1932</td>\n",
       "      <td>2</td>\n",
       "      <td>1899-02-23</td>\n",
       "      <td>1899</td>\n",
       "      <td>441</td>\n",
       "      <td>33</td>\n",
       "      <td>27</td>\n",
       "      <td>32</td>\n",
       "      <td>36</td>\n",
       "      <td>(0, 35]</td>\n",
       "      <td>&lt;35</td>\n",
       "    </tr>\n",
       "    <tr>\n",
       "      <th>4</th>\n",
       "      <td>5</td>\n",
       "      <td>1933</td>\n",
       "      <td>2</td>\n",
       "      <td>1894-04-23</td>\n",
       "      <td>1894</td>\n",
       "      <td>441</td>\n",
       "      <td>39</td>\n",
       "      <td>166</td>\n",
       "      <td>89</td>\n",
       "      <td>36</td>\n",
       "      <td>(35, 45]</td>\n",
       "      <td>35 to 45</td>\n",
       "    </tr>\n",
       "  </tbody>\n",
       "</table>\n",
       "</div>"
      ],
      "text/plain": [
       "   race_ethnicity  year_of_award  award Date_of_Birth  BirthYear  ldob  \\\n",
       "0               5           1927      2    1895-09-30       1895   441   \n",
       "1               5           1930      2    1886-02-02       1886   441   \n",
       "2               5           1931      2    1895-09-30       1895   441   \n",
       "3               5           1932      2    1899-02-23       1899   441   \n",
       "4               5           1933      2    1894-04-23       1894   441   \n",
       "\n",
       "   award_age  City_of_birth  Birth_State  Country_of_birth Age_buckets  \\\n",
       "0         32             29           56                19     (0, 35]   \n",
       "1         44             59           76                25    (35, 45]   \n",
       "2         36             29           56                19    (35, 45]   \n",
       "3         33             27           32                36     (0, 35]   \n",
       "4         39            166           89                36    (35, 45]   \n",
       "\n",
       "  Age_by_decades  \n",
       "0            <35  \n",
       "1       35 to 45  \n",
       "2       35 to 45  \n",
       "3            <35  \n",
       "4       35 to 45  "
      ]
     },
     "execution_count": 103,
     "metadata": {},
     "output_type": "execute_result"
    }
   ],
   "source": [
    "oscars_df.head()"
   ]
  },
  {
   "cell_type": "code",
   "execution_count": 104,
   "metadata": {
    "colab": {
     "base_uri": "https://localhost:8080/",
     "height": 224
    },
    "executionInfo": {
     "elapsed": 692,
     "status": "ok",
     "timestamp": 1616653055021,
     "user": {
      "displayName": "Ajit luthais",
      "photoUrl": "https://lh3.googleusercontent.com/a-/AOh14GitOLbY4m8m102_e2e-5q3QGzZ8wBNU6ARLYZSAyQ=s64",
      "userId": "05903121354884129241"
     },
     "user_tz": 0
    },
    "id": "y2bLdg5XB9vr",
    "outputId": "7791dc43-d76b-4df2-c68b-0d6bf2a286b1"
   },
   "outputs": [
    {
     "data": {
      "text/html": [
       "<div>\n",
       "<style scoped>\n",
       "    .dataframe tbody tr th:only-of-type {\n",
       "        vertical-align: middle;\n",
       "    }\n",
       "\n",
       "    .dataframe tbody tr th {\n",
       "        vertical-align: top;\n",
       "    }\n",
       "\n",
       "    .dataframe thead th {\n",
       "        text-align: right;\n",
       "    }\n",
       "</style>\n",
       "<table border=\"1\" class=\"dataframe\">\n",
       "  <thead>\n",
       "    <tr style=\"text-align: right;\">\n",
       "      <th></th>\n",
       "      <th>race_ethnicity</th>\n",
       "      <th>year_of_award</th>\n",
       "      <th>award</th>\n",
       "      <th>Date_of_Birth</th>\n",
       "      <th>BirthYear</th>\n",
       "      <th>ldob</th>\n",
       "      <th>award_age</th>\n",
       "      <th>City_of_birth</th>\n",
       "      <th>Birth_State</th>\n",
       "      <th>Country_of_birth</th>\n",
       "      <th>Age_buckets</th>\n",
       "      <th>Age_by_decades</th>\n",
       "    </tr>\n",
       "  </thead>\n",
       "  <tbody>\n",
       "    <tr>\n",
       "      <th>0</th>\n",
       "      <td>5</td>\n",
       "      <td>1927</td>\n",
       "      <td>2</td>\n",
       "      <td>1895-09-30</td>\n",
       "      <td>1895</td>\n",
       "      <td>441</td>\n",
       "      <td>32</td>\n",
       "      <td>29</td>\n",
       "      <td>56</td>\n",
       "      <td>19</td>\n",
       "      <td>(0, 35]</td>\n",
       "      <td>&lt;35</td>\n",
       "    </tr>\n",
       "    <tr>\n",
       "      <th>1</th>\n",
       "      <td>5</td>\n",
       "      <td>1930</td>\n",
       "      <td>2</td>\n",
       "      <td>1886-02-02</td>\n",
       "      <td>1886</td>\n",
       "      <td>441</td>\n",
       "      <td>44</td>\n",
       "      <td>59</td>\n",
       "      <td>76</td>\n",
       "      <td>25</td>\n",
       "      <td>(35, 45]</td>\n",
       "      <td>35 to 45</td>\n",
       "    </tr>\n",
       "    <tr>\n",
       "      <th>2</th>\n",
       "      <td>5</td>\n",
       "      <td>1931</td>\n",
       "      <td>2</td>\n",
       "      <td>1895-09-30</td>\n",
       "      <td>1895</td>\n",
       "      <td>441</td>\n",
       "      <td>36</td>\n",
       "      <td>29</td>\n",
       "      <td>56</td>\n",
       "      <td>19</td>\n",
       "      <td>(35, 45]</td>\n",
       "      <td>35 to 45</td>\n",
       "    </tr>\n",
       "    <tr>\n",
       "      <th>3</th>\n",
       "      <td>5</td>\n",
       "      <td>1932</td>\n",
       "      <td>2</td>\n",
       "      <td>1899-02-23</td>\n",
       "      <td>1899</td>\n",
       "      <td>441</td>\n",
       "      <td>33</td>\n",
       "      <td>27</td>\n",
       "      <td>32</td>\n",
       "      <td>36</td>\n",
       "      <td>(0, 35]</td>\n",
       "      <td>&lt;35</td>\n",
       "    </tr>\n",
       "    <tr>\n",
       "      <th>4</th>\n",
       "      <td>5</td>\n",
       "      <td>1933</td>\n",
       "      <td>2</td>\n",
       "      <td>1894-04-23</td>\n",
       "      <td>1894</td>\n",
       "      <td>441</td>\n",
       "      <td>39</td>\n",
       "      <td>166</td>\n",
       "      <td>89</td>\n",
       "      <td>36</td>\n",
       "      <td>(35, 45]</td>\n",
       "      <td>35 to 45</td>\n",
       "    </tr>\n",
       "  </tbody>\n",
       "</table>\n",
       "</div>"
      ],
      "text/plain": [
       "   race_ethnicity  year_of_award  award Date_of_Birth  BirthYear  ldob  \\\n",
       "0               5           1927      2    1895-09-30       1895   441   \n",
       "1               5           1930      2    1886-02-02       1886   441   \n",
       "2               5           1931      2    1895-09-30       1895   441   \n",
       "3               5           1932      2    1899-02-23       1899   441   \n",
       "4               5           1933      2    1894-04-23       1894   441   \n",
       "\n",
       "   award_age  City_of_birth  Birth_State  Country_of_birth Age_buckets  \\\n",
       "0         32             29           56                19     (0, 35]   \n",
       "1         44             59           76                25    (35, 45]   \n",
       "2         36             29           56                19    (35, 45]   \n",
       "3         33             27           32                36     (0, 35]   \n",
       "4         39            166           89                36    (35, 45]   \n",
       "\n",
       "  Age_by_decades  \n",
       "0            <35  \n",
       "1       35 to 45  \n",
       "2       35 to 45  \n",
       "3            <35  \n",
       "4       35 to 45  "
      ]
     },
     "execution_count": 104,
     "metadata": {},
     "output_type": "execute_result"
    }
   ],
   "source": [
    "oscars_df.head()"
   ]
  },
  {
   "cell_type": "code",
   "execution_count": 60,
   "metadata": {
    "executionInfo": {
     "elapsed": 642,
     "status": "ok",
     "timestamp": 1616653070501,
     "user": {
      "displayName": "Ajit luthais",
      "photoUrl": "https://lh3.googleusercontent.com/a-/AOh14GitOLbY4m8m102_e2e-5q3QGzZ8wBNU6ARLYZSAyQ=s64",
      "userId": "05903121354884129241"
     },
     "user_tz": 0
    },
    "id": "rpPiuq97CAYC"
   },
   "outputs": [],
   "source": [
    "# import the KMeans cluster\n",
    "from sklearn.cluster import KMeans"
   ]
  },
  {
   "cell_type": "code",
   "execution_count": 61,
   "metadata": {
    "executionInfo": {
     "elapsed": 666,
     "status": "ok",
     "timestamp": 1616653086209,
     "user": {
      "displayName": "Ajit luthais",
      "photoUrl": "https://lh3.googleusercontent.com/a-/AOh14GitOLbY4m8m102_e2e-5q3QGzZ8wBNU6ARLYZSAyQ=s64",
      "userId": "05903121354884129241"
     },
     "user_tz": 0
    },
    "id": "G6MBIjccCDiG"
   },
   "outputs": [],
   "source": [
    "# We're calculating the 4 clusters\n",
    "kmeans = KMeans(n_clusters=4)"
   ]
  },
  {
   "cell_type": "code",
   "execution_count": 62,
   "metadata": {
    "colab": {
     "base_uri": "https://localhost:8080/",
     "height": 391
    },
    "executionInfo": {
     "elapsed": 1049,
     "status": "ok",
     "timestamp": 1616653534133,
     "user": {
      "displayName": "Ajit luthais",
      "photoUrl": "https://lh3.googleusercontent.com/a-/AOh14GitOLbY4m8m102_e2e-5q3QGzZ8wBNU6ARLYZSAyQ=s64",
      "userId": "05903121354884129241"
     },
     "user_tz": 0
    },
    "id": "3oRo5nOzCHD0",
    "outputId": "6e6de82f-55af-4360-8fc4-f954df2948b1"
   },
   "outputs": [
    {
     "data": {
      "text/html": [
       "<div>\n",
       "<style scoped>\n",
       "    .dataframe tbody tr th:only-of-type {\n",
       "        vertical-align: middle;\n",
       "    }\n",
       "\n",
       "    .dataframe tbody tr th {\n",
       "        vertical-align: top;\n",
       "    }\n",
       "\n",
       "    .dataframe thead th {\n",
       "        text-align: right;\n",
       "    }\n",
       "</style>\n",
       "<table border=\"1\" class=\"dataframe\">\n",
       "  <thead>\n",
       "    <tr style=\"text-align: right;\">\n",
       "      <th></th>\n",
       "      <th>race_ethnicity</th>\n",
       "      <th>award_age</th>\n",
       "      <th>Country_of_birth</th>\n",
       "      <th>award</th>\n",
       "    </tr>\n",
       "  </thead>\n",
       "  <tbody>\n",
       "    <tr>\n",
       "      <th>0</th>\n",
       "      <td>5</td>\n",
       "      <td>32</td>\n",
       "      <td>19</td>\n",
       "      <td>2</td>\n",
       "    </tr>\n",
       "    <tr>\n",
       "      <th>1</th>\n",
       "      <td>5</td>\n",
       "      <td>44</td>\n",
       "      <td>25</td>\n",
       "      <td>2</td>\n",
       "    </tr>\n",
       "    <tr>\n",
       "      <th>2</th>\n",
       "      <td>5</td>\n",
       "      <td>36</td>\n",
       "      <td>19</td>\n",
       "      <td>2</td>\n",
       "    </tr>\n",
       "    <tr>\n",
       "      <th>3</th>\n",
       "      <td>5</td>\n",
       "      <td>33</td>\n",
       "      <td>36</td>\n",
       "      <td>2</td>\n",
       "    </tr>\n",
       "    <tr>\n",
       "      <th>4</th>\n",
       "      <td>5</td>\n",
       "      <td>39</td>\n",
       "      <td>36</td>\n",
       "      <td>2</td>\n",
       "    </tr>\n",
       "  </tbody>\n",
       "</table>\n",
       "</div>"
      ],
      "text/plain": [
       "   race_ethnicity  award_age  Country_of_birth  award\n",
       "0               5         32                19      2\n",
       "1               5         44                25      2\n",
       "2               5         36                19      2\n",
       "3               5         33                36      2\n",
       "4               5         39                36      2"
      ]
     },
     "metadata": {},
     "output_type": "display_data"
    },
    {
     "data": {
      "text/html": [
       "<div>\n",
       "<style scoped>\n",
       "    .dataframe tbody tr th:only-of-type {\n",
       "        vertical-align: middle;\n",
       "    }\n",
       "\n",
       "    .dataframe tbody tr th {\n",
       "        vertical-align: top;\n",
       "    }\n",
       "\n",
       "    .dataframe thead th {\n",
       "        text-align: right;\n",
       "    }\n",
       "</style>\n",
       "<table border=\"1\" class=\"dataframe\">\n",
       "  <thead>\n",
       "    <tr style=\"text-align: right;\">\n",
       "      <th></th>\n",
       "      <th>race_ethnicity</th>\n",
       "      <th>award_age</th>\n",
       "      <th>Country_of_birth</th>\n",
       "      <th>award</th>\n",
       "    </tr>\n",
       "  </thead>\n",
       "  <tbody>\n",
       "    <tr>\n",
       "      <th>0</th>\n",
       "      <td>5.0</td>\n",
       "      <td>32</td>\n",
       "      <td>19.0</td>\n",
       "      <td>2.0</td>\n",
       "    </tr>\n",
       "    <tr>\n",
       "      <th>1</th>\n",
       "      <td>5.0</td>\n",
       "      <td>44</td>\n",
       "      <td>25.0</td>\n",
       "      <td>2.0</td>\n",
       "    </tr>\n",
       "    <tr>\n",
       "      <th>2</th>\n",
       "      <td>5.0</td>\n",
       "      <td>36</td>\n",
       "      <td>19.0</td>\n",
       "      <td>2.0</td>\n",
       "    </tr>\n",
       "    <tr>\n",
       "      <th>3</th>\n",
       "      <td>5.0</td>\n",
       "      <td>33</td>\n",
       "      <td>36.0</td>\n",
       "      <td>2.0</td>\n",
       "    </tr>\n",
       "    <tr>\n",
       "      <th>4</th>\n",
       "      <td>5.0</td>\n",
       "      <td>39</td>\n",
       "      <td>36.0</td>\n",
       "      <td>2.0</td>\n",
       "    </tr>\n",
       "  </tbody>\n",
       "</table>\n",
       "</div>"
      ],
      "text/plain": [
       "   race_ethnicity  award_age  Country_of_birth  award\n",
       "0             5.0         32              19.0    2.0\n",
       "1             5.0         44              25.0    2.0\n",
       "2             5.0         36              19.0    2.0\n",
       "3             5.0         33              36.0    2.0\n",
       "4             5.0         39              36.0    2.0"
      ]
     },
     "metadata": {},
     "output_type": "display_data"
    }
   ],
   "source": [
    "# define our indicator list\n",
    "metric_list = ['race_ethnicity','award_age','Country_of_birth','award']\n",
    "\n",
    "# select only the columns we need\n",
    "indicator_df = oscars_df[metric_list]\n",
    "\n",
    "display(indicator_df.head())\n",
    "# remove such as zero or missing values\n",
    "indicator_df = indicator_df[indicator_df[metric_list] != 0]\n",
    "indicator_df = indicator_df.dropna(how ='any')\n",
    "\n",
    "\n",
    "display(indicator_df.head())"
   ]
  },
  {
   "cell_type": "code",
   "execution_count": 63,
   "metadata": {
    "colab": {
     "base_uri": "https://localhost:8080/",
     "height": 235
    },
    "executionInfo": {
     "elapsed": 808,
     "status": "ok",
     "timestamp": 1616653595501,
     "user": {
      "displayName": "Ajit luthais",
      "photoUrl": "https://lh3.googleusercontent.com/a-/AOh14GitOLbY4m8m102_e2e-5q3QGzZ8wBNU6ARLYZSAyQ=s64",
      "userId": "05903121354884129241"
     },
     "user_tz": 0
    },
    "id": "EogzgXH8D7zM",
    "outputId": "28e623e3-ac9f-4790-e7c7-2ca3b3f7e54a"
   },
   "outputs": [
    {
     "data": {
      "text/html": [
       "<div>\n",
       "<style scoped>\n",
       "    .dataframe tbody tr th:only-of-type {\n",
       "        vertical-align: middle;\n",
       "    }\n",
       "\n",
       "    .dataframe tbody tr th {\n",
       "        vertical-align: top;\n",
       "    }\n",
       "\n",
       "    .dataframe thead th {\n",
       "        text-align: right;\n",
       "    }\n",
       "</style>\n",
       "<table border=\"1\" class=\"dataframe\">\n",
       "  <thead>\n",
       "    <tr style=\"text-align: right;\">\n",
       "      <th></th>\n",
       "      <th>race_ethnicity</th>\n",
       "      <th>award_age</th>\n",
       "      <th>Country_of_birth</th>\n",
       "    </tr>\n",
       "    <tr>\n",
       "      <th>award</th>\n",
       "      <th></th>\n",
       "      <th></th>\n",
       "      <th></th>\n",
       "    </tr>\n",
       "  </thead>\n",
       "  <tbody>\n",
       "    <tr>\n",
       "      <th>2.0</th>\n",
       "      <td>5.0</td>\n",
       "      <td>32.0</td>\n",
       "      <td>19.0</td>\n",
       "    </tr>\n",
       "    <tr>\n",
       "      <th>2.0</th>\n",
       "      <td>5.0</td>\n",
       "      <td>44.0</td>\n",
       "      <td>25.0</td>\n",
       "    </tr>\n",
       "    <tr>\n",
       "      <th>2.0</th>\n",
       "      <td>5.0</td>\n",
       "      <td>36.0</td>\n",
       "      <td>19.0</td>\n",
       "    </tr>\n",
       "    <tr>\n",
       "      <th>2.0</th>\n",
       "      <td>5.0</td>\n",
       "      <td>33.0</td>\n",
       "      <td>36.0</td>\n",
       "    </tr>\n",
       "    <tr>\n",
       "      <th>2.0</th>\n",
       "      <td>5.0</td>\n",
       "      <td>39.0</td>\n",
       "      <td>36.0</td>\n",
       "    </tr>\n",
       "  </tbody>\n",
       "</table>\n",
       "</div>"
      ],
      "text/plain": [
       "       race_ethnicity  award_age  Country_of_birth\n",
       "award                                             \n",
       "2.0               5.0       32.0              19.0\n",
       "2.0               5.0       44.0              25.0\n",
       "2.0               5.0       36.0              19.0\n",
       "2.0               5.0       33.0              36.0\n",
       "2.0               5.0       39.0              36.0"
      ]
     },
     "execution_count": 63,
     "metadata": {},
     "output_type": "execute_result"
    }
   ],
   "source": [
    "# set the index\n",
    "indicator_df = indicator_df.set_index('award')\n",
    "\n",
    "#convert dtype to float\n",
    "indicator_df = indicator_df.astype('float')\n",
    "\n",
    "indicator_df.head()"
   ]
  },
  {
   "cell_type": "code",
   "execution_count": 64,
   "metadata": {
    "executionInfo": {
     "elapsed": 681,
     "status": "ok",
     "timestamp": 1616653729895,
     "user": {
      "displayName": "Ajit luthais",
      "photoUrl": "https://lh3.googleusercontent.com/a-/AOh14GitOLbY4m8m102_e2e-5q3QGzZ8wBNU6ARLYZSAyQ=s64",
      "userId": "05903121354884129241"
     },
     "user_tz": 0
    },
    "id": "OZnYCLlfEZxp"
   },
   "outputs": [],
   "source": [
    "kmeans = KMeans(n_clusters=4)"
   ]
  },
  {
   "cell_type": "code",
   "execution_count": 65,
   "metadata": {
    "colab": {
     "base_uri": "https://localhost:8080/"
    },
    "executionInfo": {
     "elapsed": 759,
     "status": "ok",
     "timestamp": 1616653743411,
     "user": {
      "displayName": "Ajit luthais",
      "photoUrl": "https://lh3.googleusercontent.com/a-/AOh14GitOLbY4m8m102_e2e-5q3QGzZ8wBNU6ARLYZSAyQ=s64",
      "userId": "05903121354884129241"
     },
     "user_tz": 0
    },
    "id": "aXy9A18AEkNZ",
    "outputId": "740c90f5-4cea-4ade-d1d4-e21230bb9b70"
   },
   "outputs": [
    {
     "data": {
      "text/plain": [
       "KMeans(n_clusters=4)"
      ]
     },
     "execution_count": 65,
     "metadata": {},
     "output_type": "execute_result"
    }
   ],
   "source": [
    "kmeans.fit(indicator_df)"
   ]
  },
  {
   "cell_type": "code",
   "execution_count": 66,
   "metadata": {
    "colab": {
     "base_uri": "https://localhost:8080/"
    },
    "executionInfo": {
     "elapsed": 709,
     "status": "ok",
     "timestamp": 1616653758820,
     "user": {
      "displayName": "Ajit luthais",
      "photoUrl": "https://lh3.googleusercontent.com/a-/AOh14GitOLbY4m8m102_e2e-5q3QGzZ8wBNU6ARLYZSAyQ=s64",
      "userId": "05903121354884129241"
     },
     "user_tz": 0
    },
    "id": "GCPplWFxEqrT",
    "outputId": "b743cb9a-f3f8-4167-ca34-4aeb95ed04ae"
   },
   "outputs": [
    {
     "data": {
      "text/plain": [
       "array([[ 4.77108434, 38.63855422, 35.25301205],\n",
       "       [ 4.75409836, 62.44262295,  9.91803279],\n",
       "       [ 4.82926829, 62.77439024, 35.65853659],\n",
       "       [ 4.89189189, 35.54054054,  9.05405405]])"
      ]
     },
     "execution_count": 66,
     "metadata": {},
     "output_type": "execute_result"
    }
   ],
   "source": [
    "kmeans.cluster_centers_"
   ]
  },
  {
   "cell_type": "code",
   "execution_count": 67,
   "metadata": {
    "colab": {
     "base_uri": "https://localhost:8080/"
    },
    "executionInfo": {
     "elapsed": 696,
     "status": "ok",
     "timestamp": 1616653768026,
     "user": {
      "displayName": "Ajit luthais",
      "photoUrl": "https://lh3.googleusercontent.com/a-/AOh14GitOLbY4m8m102_e2e-5q3QGzZ8wBNU6ARLYZSAyQ=s64",
      "userId": "05903121354884129241"
     },
     "user_tz": 0
    },
    "id": "2MOmKUMHEriW",
    "outputId": "c5be703f-5e1f-4820-eb75-e8cc91f84d78"
   },
   "outputs": [
    {
     "data": {
      "text/plain": [
       "array([3, 0, 3, 0, 0, 0, 3, 0, 3, 0, 3, 2, 0, 0, 1, 0, 2, 1, 2, 2, 2, 2,\n",
       "       2, 2, 1, 2, 2, 0, 1, 0, 3, 2, 3, 1, 2, 0, 3, 1, 0, 3, 1, 1, 2, 2,\n",
       "       0, 2, 1, 2, 2, 2, 2, 2, 3, 2, 3, 0, 2, 1, 2, 2, 2, 2, 0, 2, 2, 2,\n",
       "       1, 1, 0, 1, 2, 2, 3, 1, 0, 0, 0, 3, 0, 3, 1, 0, 3, 0, 0, 0, 1, 2,\n",
       "       2, 1, 2, 1, 2, 1, 2, 2, 2, 1, 2, 2, 2, 1, 2, 0, 2, 1, 2, 0, 0, 1,\n",
       "       2, 2, 2, 0, 0, 3, 0, 2, 3, 2, 2, 0, 0, 2, 0, 2, 3, 2, 2, 0, 3, 0,\n",
       "       2, 2, 2, 0, 0, 2, 0, 2, 2, 2, 0, 3, 1, 3, 0, 2, 0, 2, 0, 1, 3, 0,\n",
       "       0, 3, 0, 0, 2, 3, 1, 1, 2, 2, 1, 2, 1, 1, 2, 1, 2, 1, 1, 2, 2, 2,\n",
       "       1, 2, 2, 1, 2, 1, 2, 1, 2, 1, 2, 2, 2, 1, 1, 1, 2, 2, 1, 1, 1, 0,\n",
       "       2, 0, 1, 1, 2, 2, 1, 2, 2, 2, 2, 2, 2, 2, 0, 2, 0, 2, 0, 2, 2, 2,\n",
       "       3, 2, 2, 1, 2, 2, 0, 2, 2, 0, 0, 2, 2, 2, 0, 0, 0, 3, 3, 3, 2, 3,\n",
       "       0, 0, 1, 0, 0, 0, 0, 2, 2, 2, 1, 2, 2, 2, 2, 2, 2, 2, 2, 2, 2, 2,\n",
       "       2, 2, 1, 2, 2, 1, 2, 1, 2, 2, 2, 2, 2, 2, 0, 2, 0, 2, 0, 2, 0, 1,\n",
       "       1, 2, 2, 0, 2, 2, 3, 2, 2, 0, 2, 1, 2, 2, 2, 3, 2, 2, 1, 2, 3, 0,\n",
       "       2, 2, 2, 2, 1, 3, 0, 1, 0, 2, 0, 0, 0, 3, 3, 2, 2, 2, 0, 2, 2, 2,\n",
       "       2, 2, 1, 0, 0, 0, 0, 2, 2, 1, 3, 3, 0, 0, 2], dtype=int32)"
      ]
     },
     "execution_count": 67,
     "metadata": {},
     "output_type": "execute_result"
    }
   ],
   "source": [
    "kmeans.labels_"
   ]
  },
  {
   "cell_type": "code",
   "execution_count": 68,
   "metadata": {
    "executionInfo": {
     "elapsed": 713,
     "status": "ok",
     "timestamp": 1616653796190,
     "user": {
      "displayName": "Ajit luthais",
      "photoUrl": "https://lh3.googleusercontent.com/a-/AOh14GitOLbY4m8m102_e2e-5q3QGzZ8wBNU6ARLYZSAyQ=s64",
      "userId": "05903121354884129241"
     },
     "user_tz": 0
    },
    "id": "5hbC2oZCEt-n"
   },
   "outputs": [],
   "source": [
    "unique, counts = np.unique(kmeans.labels_, return_counts=True)"
   ]
  },
  {
   "cell_type": "code",
   "execution_count": 69,
   "metadata": {
    "colab": {
     "base_uri": "https://localhost:8080/"
    },
    "executionInfo": {
     "elapsed": 661,
     "status": "ok",
     "timestamp": 1616653806268,
     "user": {
      "displayName": "Ajit luthais",
      "photoUrl": "https://lh3.googleusercontent.com/a-/AOh14GitOLbY4m8m102_e2e-5q3QGzZ8wBNU6ARLYZSAyQ=s64",
      "userId": "05903121354884129241"
     },
     "user_tz": 0
    },
    "id": "0oW6WynSE0oN",
    "outputId": "f1ac5b00-8bd7-4f52-df03-d3370e619336"
   },
   "outputs": [
    {
     "data": {
      "text/plain": [
       "{0: 83, 1: 61, 2: 164, 3: 37}"
      ]
     },
     "execution_count": 69,
     "metadata": {},
     "output_type": "execute_result"
    }
   ],
   "source": [
    "dict_data = dict(zip(unique, counts))\n",
    "dict_data"
   ]
  },
  {
   "cell_type": "code",
   "execution_count": 70,
   "metadata": {
    "executionInfo": {
     "elapsed": 722,
     "status": "ok",
     "timestamp": 1616653990150,
     "user": {
      "displayName": "Ajit luthais",
      "photoUrl": "https://lh3.googleusercontent.com/a-/AOh14GitOLbY4m8m102_e2e-5q3QGzZ8wBNU6ARLYZSAyQ=s64",
      "userId": "05903121354884129241"
     },
     "user_tz": 0
    },
    "id": "paxdDLj0E3OR"
   },
   "outputs": [],
   "source": [
    "indicator_df[\"cluster\"] = kmeans.labels_"
   ]
  },
  {
   "cell_type": "markdown",
   "metadata": {
    "id": "-fzI9_E_Jsnq"
   },
   "source": [
    "# 3D Clusters"
   ]
  },
  {
   "cell_type": "code",
   "execution_count": 76,
   "metadata": {
    "colab": {
     "base_uri": "https://localhost:8080/",
     "height": 319
    },
    "executionInfo": {
     "elapsed": 955,
     "status": "ok",
     "timestamp": 1616654751907,
     "user": {
      "displayName": "Ajit luthais",
      "photoUrl": "https://lh3.googleusercontent.com/a-/AOh14GitOLbY4m8m102_e2e-5q3QGzZ8wBNU6ARLYZSAyQ=s64",
      "userId": "05903121354884129241"
     },
     "user_tz": 0
    },
    "id": "jrIUEN6VIcNW",
    "outputId": "630a46be-d819-4611-9c08-362cfe03c969"
   },
   "outputs": [
    {
     "data": {
      "image/png": "[encoded data removed]",
      "text/plain": [
       "<Figure size 432x288 with 1 Axes>"
      ]
     },
     "metadata": {
      "needs_background": "light"
     },
     "output_type": "display_data"
    }
   ],
   "source": [
    "# Normalization\n",
    "from sklearn.preprocessing import MinMaxScaler, StandardScaler, RobustScaler\n",
    "\n",
    "# define each scaler \n",
    "min_max_scaler = MinMaxScaler()\n",
    "std_scaler = StandardScaler()\n",
    "Rob_scaler = RobustScaler()\n",
    "\n",
    "# scale the data\n",
    "X_train_minmax = min_max_scaler.fit_transform(indicator_df)\n",
    "X_train_standard = std_scaler.fit_transform(indicator_df)\n",
    "X_train_rob = Rob_scaler.fit_transform(indicator_df)\n",
    "\n",
    "\n",
    "# define our figure\n",
    "fig = plt.figure()\n",
    "ax = Axes3D(fig)\n",
    "\n",
    "# define the x, y and z axis\n",
    "\n",
    "x = X_train_rob[:,0]\n",
    "y = X_train_rob[:,1]\n",
    "z = X_train_rob[:,2]\n",
    "\n",
    "# define axis labels\n",
    "column_names = indicator_df.columns\n",
    "ax.set_xlabel(column_names[0])\n",
    "ax.set_ylabel(column_names[1])\n",
    "ax.set_zlabel(column_names[2])\n",
    "\n",
    "# define the markers and color\n",
    "ax.scatter(x,y,z, c = 'royalBlue', marker = 'o')\n",
    "\n",
    "plt.show()\n",
    "\n"
   ]
  },
  {
   "cell_type": "code",
   "execution_count": 72,
   "metadata": {
    "colab": {
     "base_uri": "https://localhost:8080/",
     "height": 974
    },
    "executionInfo": {
     "elapsed": 2194,
     "status": "ok",
     "timestamp": 1616654798774,
     "user": {
      "displayName": "Ajit luthais",
      "photoUrl": "https://lh3.googleusercontent.com/a-/AOh14GitOLbY4m8m102_e2e-5q3QGzZ8wBNU6ARLYZSAyQ=s64",
      "userId": "05903121354884129241"
     },
     "user_tz": 0
    },
    "id": "2VAK4VukFxhU",
    "outputId": "6617c26a-f741-446c-da12-c7159d74d1f7"
   },
   "outputs": [
    {
     "name": "stdout",
     "output_type": "stream",
     "text": [
      "----------------------------------------------------------------------------------------------------\n"
     ]
    },
    {
     "data": {
      "image/png": "[encoded data removed]",
      "text/plain": [
       "<Figure size 432x288 with 1 Axes>"
      ]
     },
     "metadata": {
      "needs_background": "light"
     },
     "output_type": "display_data"
    },
    {
     "name": "stdout",
     "output_type": "stream",
     "text": [
      "----------------------------------------------------------------------------------------------------\n"
     ]
    },
    {
     "data": {
      "image/png": "[encoded data removed]",
      "text/plain": [
       "<Figure size 432x288 with 1 Axes>"
      ]
     },
     "metadata": {
      "needs_background": "light"
     },
     "output_type": "display_data"
    },
    {
     "name": "stdout",
     "output_type": "stream",
     "text": [
      "----------------------------------------------------------------------------------------------------\n"
     ]
    },
    {
     "data": {
      "image/png": "[encoded data removed]",
      "text/plain": [
       "<Figure size 432x288 with 1 Axes>"
      ]
     },
     "metadata": {
      "needs_background": "light"
     },
     "output_type": "display_data"
    }
   ],
   "source": [
    "%matplotlib inline\n",
    "import matplotlib.pyplot as plt\n",
    "from mpl_toolkits.mplot3d import Axes3D\n",
    "clusters = [2, 3, 4]\n",
    "\n",
    "for cluster in clusters:\n",
    "    \n",
    "    print('-'*100)\n",
    "    \n",
    "    # create an instance of the kmeans model\n",
    "    kmeans = KMeans(n_clusters = cluster, random_state = 0).fit(indicator_df)\n",
    "    \n",
    "    # define our cluster\n",
    "    cluster_centers = kmeans.cluster_centers_\n",
    "    C1 = cluster_centers[:, 0]\n",
    "    C2 = cluster_centers[:, 1]\n",
    "    C3 = cluster_centers[:, 2]\n",
    "    \n",
    "    # define our figure\n",
    "    fig = plt.figure()\n",
    "    ax = Axes3D(fig)\n",
    "\n",
    "    # define the x, y and z axis\n",
    "\n",
    "    x = X_train_rob[:,0]\n",
    "    y = X_train_rob[:,1]\n",
    "    z = X_train_rob[:,2]\n",
    "\n",
    "    # define axis labels\n",
    "    column_names = indicator_df.columns\n",
    "    ax.set_xlabel(column_names[0])\n",
    "    ax.set_ylabel(column_names[1])\n",
    "    ax.set_zlabel(column_names[2])\n",
    "\n",
    "    # define the markers and color\n",
    "    ax.scatter(x,y,z, c =kmeans.labels_.astype(float), cmap = 'winter', marker = 'o')\n",
    "    ax.scatter(C1,C2,C3, marker = 'x', color = 'm')\n",
    "    plt.title(\"visualization of clustered data with {} clusters\". format(cluster), fontweight='bold')\n",
    "\n",
    "    plt.show()"
   ]
  },
  {
   "cell_type": "markdown",
   "metadata": {
    "id": "8uFzIB9uJ0_R"
   },
   "source": [
    "\n",
    "\n",
    "# 2D Clusters with PCA"
   ]
  },
  {
   "cell_type": "code",
   "execution_count": 73,
   "metadata": {
    "colab": {
     "base_uri": "https://localhost:8080/",
     "height": 291
    },
    "executionInfo": {
     "elapsed": 893,
     "status": "ok",
     "timestamp": 1616654949351,
     "user": {
      "displayName": "Ajit luthais",
      "photoUrl": "https://lh3.googleusercontent.com/a-/AOh14GitOLbY4m8m102_e2e-5q3QGzZ8wBNU6ARLYZSAyQ=s64",
      "userId": "05903121354884129241"
     },
     "user_tz": 0
    },
    "id": "ArBRMsiyJBSC",
    "outputId": "98e31166-b80b-4935-fec2-de04bac90379"
   },
   "outputs": [
    {
     "data": {
      "image/png": "[encoded data removed]",
      "text/plain": [
       "<Figure size 432x288 with 1 Axes>"
      ]
     },
     "metadata": {
      "needs_background": "light"
     },
     "output_type": "display_data"
    }
   ],
   "source": [
    "from sklearn.decomposition import PCA\n",
    "import numpy as np\n",
    "\n",
    "# pass throughour scaled data\n",
    "pca = PCA(). fit(X_train_rob)\n",
    "\n",
    "# plot the cumulative summation of the variance\n",
    "plt.figure()\n",
    "plt.plot(np.cumsum(pca.explained_variance_ratio_))\n",
    "\n",
    "# deifine the title and labels\n",
    "plt.xlabel('Number of Components')\n",
    "plt.ylabel('variance (%)')\n",
    "plt.title('Explained Variance')\n",
    "plt.show()"
   ]
  },
  {
   "cell_type": "code",
   "execution_count": 74,
   "metadata": {
    "colab": {
     "base_uri": "https://localhost:8080/",
     "height": 204
    },
    "executionInfo": {
     "elapsed": 656,
     "status": "ok",
     "timestamp": 1616655007148,
     "user": {
      "displayName": "Ajit luthais",
      "photoUrl": "https://lh3.googleusercontent.com/a-/AOh14GitOLbY4m8m102_e2e-5q3QGzZ8wBNU6ARLYZSAyQ=s64",
      "userId": "05903121354884129241"
     },
     "user_tz": 0
    },
    "id": "wqfFRvgMJPTp",
    "outputId": "98064e57-1da1-4f9f-b185-99c496c55b85"
   },
   "outputs": [
    {
     "data": {
      "text/html": [
       "<div>\n",
       "<style scoped>\n",
       "    .dataframe tbody tr th:only-of-type {\n",
       "        vertical-align: middle;\n",
       "    }\n",
       "\n",
       "    .dataframe tbody tr th {\n",
       "        vertical-align: top;\n",
       "    }\n",
       "\n",
       "    .dataframe thead th {\n",
       "        text-align: right;\n",
       "    }\n",
       "</style>\n",
       "<table border=\"1\" class=\"dataframe\">\n",
       "  <thead>\n",
       "    <tr style=\"text-align: right;\">\n",
       "      <th></th>\n",
       "      <th>component 1</th>\n",
       "      <th>component 2</th>\n",
       "      <th>component 3</th>\n",
       "    </tr>\n",
       "  </thead>\n",
       "  <tbody>\n",
       "    <tr>\n",
       "      <th>0</th>\n",
       "      <td>-1.164044</td>\n",
       "      <td>-0.092640</td>\n",
       "      <td>1.415125</td>\n",
       "    </tr>\n",
       "    <tr>\n",
       "      <th>1</th>\n",
       "      <td>1.457585</td>\n",
       "      <td>-0.379323</td>\n",
       "      <td>0.216081</td>\n",
       "    </tr>\n",
       "    <tr>\n",
       "      <th>2</th>\n",
       "      <td>-1.230361</td>\n",
       "      <td>-0.082905</td>\n",
       "      <td>1.260524</td>\n",
       "    </tr>\n",
       "    <tr>\n",
       "      <th>3</th>\n",
       "      <td>1.729291</td>\n",
       "      <td>-0.383137</td>\n",
       "      <td>0.290105</td>\n",
       "    </tr>\n",
       "    <tr>\n",
       "      <th>4</th>\n",
       "      <td>1.629816</td>\n",
       "      <td>-0.368535</td>\n",
       "      <td>0.058204</td>\n",
       "    </tr>\n",
       "  </tbody>\n",
       "</table>\n",
       "</div>"
      ],
      "text/plain": [
       "   component 1  component 2  component 3\n",
       "0    -1.164044    -0.092640     1.415125\n",
       "1     1.457585    -0.379323     0.216081\n",
       "2    -1.230361    -0.082905     1.260524\n",
       "3     1.729291    -0.383137     0.290105\n",
       "4     1.629816    -0.368535     0.058204"
      ]
     },
     "execution_count": 74,
     "metadata": {},
     "output_type": "execute_result"
    }
   ],
   "source": [
    "# creating PCA modified dataset\n",
    "pca_dataset = PCA(n_components = 3).fit(X_train_rob).transform(X_train_rob)\n",
    "\n",
    "# store it in a new data frame\n",
    "pca_dataset = pd.DataFrame(data =pca_dataset, columns = ['component 1', 'component 2','component 3'])\n",
    "\n",
    "pca_dataset.head()"
   ]
  },
  {
   "cell_type": "code",
   "execution_count": 75,
   "metadata": {
    "colab": {
     "base_uri": "https://localhost:8080/",
     "height": 599
    },
    "executionInfo": {
     "elapsed": 1256,
     "status": "ok",
     "timestamp": 1616655012077,
     "user": {
      "displayName": "Ajit luthais",
      "photoUrl": "https://lh3.googleusercontent.com/a-/AOh14GitOLbY4m8m102_e2e-5q3QGzZ8wBNU6ARLYZSAyQ=s64",
      "userId": "05903121354884129241"
     },
     "user_tz": 0
    },
    "id": "Nou9qD_lHEIu",
    "outputId": "d1ae6dde-9acc-4161-c0cd-88950adbbeec"
   },
   "outputs": [
    {
     "name": "stdout",
     "output_type": "stream",
     "text": [
      "----------------------------------------------------------------------------------------------------\n"
     ]
    },
    {
     "data": {
      "image/png": "[encoded data removed]",
      "text/plain": [
       "<Figure size 432x288 with 1 Axes>"
      ]
     },
     "metadata": {
      "needs_background": "light"
     },
     "output_type": "display_data"
    },
    {
     "name": "stdout",
     "output_type": "stream",
     "text": [
      "----------------------------------------------------------------------------------------------------\n"
     ]
    },
    {
     "data": {
      "image/png": "[encoded data removed]",
      "text/plain": [
       "<Figure size 432x288 with 1 Axes>"
      ]
     },
     "metadata": {
      "needs_background": "light"
     },
     "output_type": "display_data"
    }
   ],
   "source": [
    "\n",
    "clusters = [2,3]\n",
    "\n",
    "for cluster in clusters:\n",
    "    \n",
    "    print('-'*100)\n",
    "    \n",
    "    # create an instance of the kmeans model\n",
    "    kmeans = KMeans(n_clusters = cluster, random_state = 0).fit(pca_dataset)\n",
    "    \n",
    "    # define our cluster\n",
    "    cluster_centers = kmeans.cluster_centers_\n",
    "    C1 = cluster_centers[:, 0]\n",
    "    C2 = cluster_centers[:, 1]\n",
    "\n",
    "    \n",
    "    # define our figure\n",
    "    fig = plt.figure()\n",
    "   \n",
    "\n",
    "    # define the x and y axis\n",
    "\n",
    "    x = pca_dataset['component 1']\n",
    "    y = pca_dataset['component 2']\n",
    "    \n",
    "\n",
    "    # define axis labels\n",
    "    column_names = indicator_df.columns\n",
    "    plt.xlabel(column_names[0])\n",
    "    plt.ylabel(column_names[1])\n",
    "   \n",
    "\n",
    "    # define the markers and color\n",
    "    plt.scatter(x,y, c =kmeans.labels_.astype(float), cmap = 'winter', marker = 'o')\n",
    "    plt.scatter(C1,C2, marker = 'x', color = 'm')\n",
    "    plt.title(\"visualization of clustered data with {} clusters\". format(cluster), fontweight='bold')\n",
    "\n",
    "    plt.show()\n"
   ]
  }
 ],
 "metadata": {
  "colab": {
   "collapsed_sections": [
    "MbfOAphaK20a",
    "6oAN3AoBtufk",
    "9jTjI0nOBZ8F",
    "-fzI9_E_Jsnq",
    "8uFzIB9uJ0_R"
   ],
   "name": "Bid Data Final Assignment_23rdMarcha691012f099bef3f3e8fd9dcf427cee59821a1120e7288725461f393860936d4.ipynb",
   "provenance": []
  },
  "kernelspec": {
   "display_name": "Python 3",
   "language": "python",
   "name": "python3"
  },
  "language_info": {
   "codemirror_mode": {
    "name": "ipython",
    "version": 3
   },
   "file_extension": ".py",
   "mimetype": "text/x-python",
   "name": "python",
   "nbconvert_exporter": "python",
   "pygments_lexer": "ipython3",
   "version": "3.8.5"
  }
 },
 "nbformat": 4,
 "nbformat_minor": 1
}
